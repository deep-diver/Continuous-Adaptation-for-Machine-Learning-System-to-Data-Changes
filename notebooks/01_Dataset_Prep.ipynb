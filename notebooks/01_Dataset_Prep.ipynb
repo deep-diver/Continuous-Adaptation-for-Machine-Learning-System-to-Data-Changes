{
 "cells": [
  {
   "cell_type": "markdown",
   "metadata": {
    "colab_type": "text",
    "id": "view-in-github"
   },
   "source": [
    "<a href=\"https://colab.research.google.com/github/deep-diver/Continuous-Adaptation-for-Machine-Learning-System-to-Data-Changes/blob/main/notebooks/01_Dataset_Prep.ipynb\" target=\"_parent\"><img src=\"https://colab.research.google.com/assets/colab-badge.svg\" alt=\"Open In Colab\"/></a>"
   ]
  },
  {
   "cell_type": "markdown",
   "metadata": {
    "id": "zyOcSJS29gkH"
   },
   "source": [
    "In this notebook, we will download [CIFAR10](https://www.cs.toronto.edu/~kriz/cifar.html) dataset from [TensorFlow Dataset(TFDS)](https://www.tensorflow.org/datasets). The dataset is alreadly prepared as TFRecord format.\n",
    "\n",
    "We will push the downloaded dataset to a GCS bucket while keeping the directory strucutres like below.\n",
    "- gs://bucket-name/span-1/train/train.tfrecord\n",
    "- gs://bucket-name/span-1/test/test.tfrecord\n",
    "\n",
    "To proceed with the rest of the notebook you'd need a billing-enabled GCP account. "
   ]
  },
  {
   "cell_type": "markdown",
   "metadata": {
    "id": "pJ2m7-bbxh4h"
   },
   "source": [
    "## Prerequisites\n",
    "- Add the following rules to IAM\n",
    "  - Storage Object Admin\n",
    "  - Storage Object Creator"
   ]
  },
  {
   "cell_type": "markdown",
   "metadata": {
    "id": "TRIz8jbQ-MUb"
   },
   "source": [
    "## Setup\n",
    "\n",
    "In order to access Google Cloud Platform from Colab environment, we need to login to GCP account with `gcloud init` command."
   ]
  },
  {
   "cell_type": "code",
   "execution_count": 1,
   "metadata": {
    "colab": {
     "base_uri": "https://localhost:8080/"
    },
    "id": "lIYdn1woOS1n",
    "outputId": "69c253ee-ed9a-420b-9d71-8d89c5da8217"
   },
   "outputs": [
    {
     "name": "stdout",
     "output_type": "stream",
     "text": [
      "Welcome! This command will take you through the configuration of gcloud.\n",
      "\n",
      "Settings from your current configuration [default] are:\n",
      "component_manager:\n",
      "  disable_update_check: 'True'\n",
      "compute:\n",
      "  gce_metadata_read_timeout_sec: '0'\n",
      "\n",
      "Pick configuration to use:\n",
      " [1] Re-initialize this configuration [default] with new settings \n",
      " [2] Create a new configuration\n",
      "Please enter your numeric choice:  2\n",
      "\n",
      "Enter configuration name. Names start with a lower case letter and \n",
      "contain only lower case letters a-z, digits 0-9, and hyphens '-':  gde\n",
      "Your current configuration has been set to: [gde]\n",
      "\n",
      "You can skip diagnostics next time by using the following flag:\n",
      "  gcloud init --skip-diagnostics\n",
      "\n",
      "Network diagnostic detects and fixes local network connection issues.\n",
      "Reachability Check passed.\n",
      "Network diagnostic passed (1/1 checks passed).\n",
      "\n",
      "You must log in to continue. Would you like to log in (Y/n)?  Y\n",
      "\n",
      "Go to the following link in your browser:\n",
      "\n",
      "    https://accounts.google.com/o/oauth2/auth?response_type=code&client_id=32555940559.apps.googleusercontent.com&redirect_uri=urn%3Aietf%3Awg%3Aoauth%3A2.0%3Aoob&scope=openid+https%3A%2F%2Fwww.googleapis.com%2Fauth%2Fuserinfo.email+https%3A%2F%2Fwww.googleapis.com%2Fauth%2Fcloud-platform+https%3A%2F%2Fwww.googleapis.com%2Fauth%2Fappengine.admin+https%3A%2F%2Fwww.googleapis.com%2Fauth%2Fcompute+https%3A%2F%2Fwww.googleapis.com%2Fauth%2Faccounts.reauth&state=4OCQ4k8wDfa1lmE2eGQdWcKgfqIafI&prompt=consent&access_type=offline&code_challenge=2Mhw5bza8PZZdzFTIavmbxf4VapMEnPbNqgba2lk6kU&code_challenge_method=S256\n",
      "\n",
      "Enter verification code: 4/1AX4XfWidQVLj29O4VcpmmBw8NMEP7eVI4kNs2L76NERMizZMTHwC2vxPhec\n",
      "You are logged in as: [deep.diver.csp@gmail.com].\n",
      "\n",
      "Pick cloud project to use: \n",
      " [1] codelabs-temp\n",
      " [2] data-governance-tutorials\n",
      " [3] fast-ai-exploration\n",
      " [4] gcnresearch\n",
      " [5] gcp-ml-172005\n",
      " [6] gdeproj\n",
      " [7] gdeprojects\n",
      " [8] imrenagicom-support\n",
      " [9] jax-tpu-bfloat16\n",
      " [10] mobile-week-holder\n",
      " [11] my-dsc-solution-1\n",
      " [12] notional-cirrus-235403\n",
      " [13] sample-project-1-314222\n",
      " [14] satoluxx-gde\n",
      " [15] spreadsheet-api-sample\n",
      " [16] Create a new project\n",
      "Please enter numeric choice or text value (must exactly match list \n",
      "item):  5\n",
      "\n",
      "Your current project has been set to: [gcp-ml-172005].\n",
      "\n",
      "Do you want to configure a default Compute Region and Zone? (Y/n)?  Y\n",
      "\n",
      "Which Google Compute Engine zone would you like to use as project \n",
      "default?\n",
      "If you do not specify a zone via a command line flag while working \n",
      "with Compute Engine resources, the default is assumed.\n",
      " [1] us-east1-b\n",
      " [2] us-east1-c\n",
      " [3] us-east1-d\n",
      " [4] us-east4-c\n",
      " [5] us-east4-b\n",
      " [6] us-east4-a\n",
      " [7] us-central1-c\n",
      " [8] us-central1-a\n",
      " [9] us-central1-f\n",
      " [10] us-central1-b\n",
      " [11] us-west1-b\n",
      " [12] us-west1-c\n",
      " [13] us-west1-a\n",
      " [14] europe-west4-a\n",
      " [15] europe-west4-b\n",
      " [16] europe-west4-c\n",
      " [17] europe-west1-b\n",
      " [18] europe-west1-d\n",
      " [19] europe-west1-c\n",
      " [20] europe-west3-c\n",
      " [21] europe-west3-a\n",
      " [22] europe-west3-b\n",
      " [23] europe-west2-c\n",
      " [24] europe-west2-b\n",
      " [25] europe-west2-a\n",
      " [26] asia-east1-b\n",
      " [27] asia-east1-a\n",
      " [28] asia-east1-c\n",
      " [29] asia-southeast1-b\n",
      " [30] asia-southeast1-a\n",
      " [31] asia-southeast1-c\n",
      " [32] asia-northeast1-b\n",
      " [33] asia-northeast1-c\n",
      " [34] asia-northeast1-a\n",
      " [35] asia-south1-c\n",
      " [36] asia-south1-b\n",
      " [37] asia-south1-a\n",
      " [38] australia-southeast1-b\n",
      " [39] australia-southeast1-c\n",
      " [40] australia-southeast1-a\n",
      " [41] southamerica-east1-b\n",
      " [42] southamerica-east1-c\n",
      " [43] southamerica-east1-a\n",
      " [44] asia-east2-a\n",
      " [45] asia-east2-b\n",
      " [46] asia-east2-c\n",
      " [47] asia-northeast2-a\n",
      " [48] asia-northeast2-b\n",
      " [49] asia-northeast2-c\n",
      " [50] asia-northeast3-a\n",
      "Did not print [36] options.\n",
      "Too many options [86]. Enter \"list\" at prompt to print choices fully.\n",
      "Please enter numeric choice or text value (must exactly match list \n",
      "item):  8\n",
      "\n",
      "Your project default Compute Engine zone has been set to [us-central1-a].\n",
      "You can change it by running [gcloud config set compute/zone NAME].\n",
      "\n",
      "Your project default Compute Engine region has been set to [us-central1].\n",
      "You can change it by running [gcloud config set compute/region NAME].\n",
      "\n",
      "Your Google Cloud SDK is configured and ready to use!\n",
      "\n",
      "* Commands that require authentication will use deep.diver.csp@gmail.com by default\n",
      "* Commands will reference project `gcp-ml-172005` by default\n",
      "* Compute Engine commands will use region `us-central1` by default\n",
      "* Compute Engine commands will use zone `us-central1-a` by default\n",
      "\n",
      "Run `gcloud help config` to learn how to change individual settings\n",
      "\n",
      "This gcloud configuration is called [gde]. You can create additional configurations if you work with multiple accounts and/or projects.\n",
      "Run `gcloud topic configurations` to learn more.\n",
      "\n",
      "Some things to try next:\n",
      "\n",
      "* Run `gcloud --help` to see the Cloud Platform services you can interact with. And run `gcloud help COMMAND` to get help on any gcloud command.\n",
      "* Run `gcloud topic --help` to learn about advanced features of the SDK like arg files and output formatting\n"
     ]
    }
   ],
   "source": [
    "!gcloud init"
   ]
  },
  {
   "cell_type": "code",
   "execution_count": 2,
   "metadata": {
    "id": "mhDIpjq3yuGV"
   },
   "outputs": [],
   "source": [
    "from google.colab import auth\n",
    "\n",
    "auth.authenticate_user()"
   ]
  },
  {
   "cell_type": "markdown",
   "metadata": {
    "id": "bG-NwjjB-ioI"
   },
   "source": [
    "## Download the original dataset and copy over to a GCS Bucket"
   ]
  },
  {
   "cell_type": "markdown",
   "metadata": {
    "id": "FXvVVA_joPBL"
   },
   "source": [
    "### 1. Create Directories\n",
    "\n",
    "In this step we are going to create directories to hold to be downloaded TFRecord dataset. As an intial phase, the training and testing dataset will be stored in `span-1/train` and `span-1/test` directoreis respectively.\n",
    "\n",
    "When there will be more data with the same distribution, we can update the currently stored dataset. In this case, you should turn on the [GCS's versioning feature](https://cloud.google.com/storage/docs/object-versioning).\n",
    "\n",
    "When there will be more data with the different distribution, we will create other directores of `span-2/train` and `span-2/test` to address data drift. In this way, we can keep data separetly for easier maintanence while handling versioning separtely for different `SPAN`s."
   ]
  },
  {
   "cell_type": "code",
   "execution_count": 3,
   "metadata": {
    "id": "XaAx0ZJ2QsGp"
   },
   "outputs": [],
   "source": [
    "TARGET_ROOT_DIR = \"cifar10\"\n",
    "TARGET_TRAIN_DIR = TARGET_ROOT_DIR + \"/span-1/train\"\n",
    "TARGET_TEST_DIR = TARGET_ROOT_DIR + \"/span-1/test\"\n",
    "\n",
    "!mkdir -p {TARGET_TRAIN_DIR}\n",
    "!mkdir -p {TARGET_TEST_DIR}"
   ]
  },
  {
   "cell_type": "markdown",
   "metadata": {
    "id": "qt5er4ywpfGv"
   },
   "source": [
    "### 2. Download CIFAR10 Dataset with TFDS"
   ]
  },
  {
   "cell_type": "code",
   "execution_count": 4,
   "metadata": {
    "colab": {
     "base_uri": "https://localhost:8080/",
     "height": 296,
     "referenced_widgets": [
      "fb0e11738e734dc6a7428c4a82e81705",
      "4f7c45939d3f49eb856ccc58f999e37b",
      "a327863b15a54d1eb8cd2c26ee31c826",
      "d46fa732fb474fce8f940c031ca06637",
      "fcf94990ac4f46b2a0fd54e06eb0f88b",
      "1a9b33aebfb444a9b3d9442a5d72cea2",
      "710373ad31fe4dc0b29c7c681e345cc8",
      "dbe66bad8ba94b30b93c7c9d25cf8fbd",
      "9613736bf85c44338d6f5609e6efc90b",
      "385a10a4ca644ca38db0f539be5a54d5",
      "ecefe53c759e4a54aa1f3ed44444fdf5",
      "4d9642439f084654b63b4e7bde24b89c",
      "fd5c76c7cda94b22814409cbda62a38d",
      "158453b7af414664b766d99ecbb9429e",
      "6bf37bc7f5684a8eb3dcf625d02616fd",
      "a7265046f01343a0a9de7635e60e2d5f",
      "b7e8c1bf6e394e61aae415a735b18ffe",
      "c8c9446c1a2f4a3785600ab596a451c9",
      "a9e7a7b675844f1ab616bb1972c15d32",
      "20d532a52ecd479fb7dfa9342decd2d1",
      "0b02c308f2604dd28dd5b430d6239253",
      "b515ef8f06744ce486f110326909e90e",
      "af4562715ddd41e786e717033a6f3fec",
      "5b27a0a8a6964be49befadfc9d209c93",
      "d0c79d32309640a18b1097e50c273489",
      "2f93c4391a204a26a8179b0a6b46a23e",
      "4fdde132c9744c74bbf7aa7a3185ae64",
      "6f08665adc814ac09e7cb21e0533866c",
      "fd5460933db44c92b60e41b065551215",
      "e3c232f427c649f2bf3f58ed97ad15d1",
      "29aa47ab203d4099aad31f79c72421f4",
      "5a452ead65af499bbf868b5314dd7196",
      "9b8d5063647d466684c6e1b196a90796"
     ]
    },
    "id": "dWUoW87xtuQ8",
    "outputId": "a6e61183-396a-4912-8f01-94f82185da15"
   },
   "outputs": [
    {
     "name": "stdout",
     "output_type": "stream",
     "text": [
      "\u001b[1mDownloading and preparing dataset cifar10/3.0.2 (download: 162.17 MiB, generated: 132.40 MiB, total: 294.58 MiB) to /root/tensorflow_datasets/cifar10/3.0.2...\u001b[0m\n"
     ]
    },
    {
     "data": {
      "application/vnd.jupyter.widget-view+json": {
       "model_id": "fb0e11738e734dc6a7428c4a82e81705",
       "version_major": 2,
       "version_minor": 0
      },
      "text/plain": [
       "Dl Completed...: 0 url [00:00, ? url/s]"
      ]
     },
     "metadata": {},
     "output_type": "display_data"
    },
    {
     "data": {
      "application/vnd.jupyter.widget-view+json": {
       "model_id": "4d9642439f084654b63b4e7bde24b89c",
       "version_major": 2,
       "version_minor": 0
      },
      "text/plain": [
       "Dl Size...: 0 MiB [00:00, ? MiB/s]"
      ]
     },
     "metadata": {},
     "output_type": "display_data"
    },
    {
     "data": {
      "application/vnd.jupyter.widget-view+json": {
       "model_id": "af4562715ddd41e786e717033a6f3fec",
       "version_major": 2,
       "version_minor": 0
      },
      "text/plain": [
       "Extraction completed...: 0 file [00:00, ? file/s]"
      ]
     },
     "metadata": {},
     "output_type": "display_data"
    },
    {
     "name": "stdout",
     "output_type": "stream",
     "text": [
      "\n",
      "\n",
      "\n"
     ]
    },
    {
     "data": {
      "application/vnd.jupyter.widget-view+json": {
       "model_id": "26d3cc1e67244584878097dd9b080a17",
       "version_major": 2,
       "version_minor": 0
      },
      "text/plain": [
       "0 examples [00:00, ? examples/s]"
      ]
     },
     "metadata": {},
     "output_type": "display_data"
    },
    {
     "name": "stdout",
     "output_type": "stream",
     "text": [
      "Shuffling and writing examples to /root/tensorflow_datasets/cifar10/3.0.2.incompleteYSSAF4/cifar10-train.tfrecord\n"
     ]
    },
    {
     "data": {
      "application/vnd.jupyter.widget-view+json": {
       "model_id": "c8243d1036a6458881205806c1e98661",
       "version_major": 2,
       "version_minor": 0
      },
      "text/plain": [
       "  0%|          | 0/50000 [00:00<?, ? examples/s]"
      ]
     },
     "metadata": {},
     "output_type": "display_data"
    },
    {
     "data": {
      "application/vnd.jupyter.widget-view+json": {
       "model_id": "36dc8a6cbbf74faba3241968b910240d",
       "version_major": 2,
       "version_minor": 0
      },
      "text/plain": [
       "0 examples [00:00, ? examples/s]"
      ]
     },
     "metadata": {},
     "output_type": "display_data"
    },
    {
     "name": "stdout",
     "output_type": "stream",
     "text": [
      "Shuffling and writing examples to /root/tensorflow_datasets/cifar10/3.0.2.incompleteYSSAF4/cifar10-test.tfrecord\n"
     ]
    },
    {
     "data": {
      "application/vnd.jupyter.widget-view+json": {
       "model_id": "3c8a78451e4f44049c1106ad8c0c9f43",
       "version_major": 2,
       "version_minor": 0
      },
      "text/plain": [
       "  0%|          | 0/10000 [00:00<?, ? examples/s]"
      ]
     },
     "metadata": {},
     "output_type": "display_data"
    },
    {
     "name": "stdout",
     "output_type": "stream",
     "text": [
      "\u001b[1mDataset cifar10 downloaded and prepared to /root/tensorflow_datasets/cifar10/3.0.2. Subsequent calls will reuse this data.\u001b[0m\n"
     ]
    }
   ],
   "source": [
    "import tensorflow_datasets as tfds\n",
    "\n",
    "# Generate TFRecords with TFDS\n",
    "builder = tfds.builder(\"cifar10\")\n",
    "builder.download_and_prepare()"
   ]
  },
  {
   "cell_type": "markdown",
   "metadata": {
    "id": "U3YidvVPppba"
   },
   "source": [
    "### 3. Copy Downloaded Dataset to the Directories that We have created"
   ]
  },
  {
   "cell_type": "code",
   "execution_count": 5,
   "metadata": {
    "id": "bXUmXk7DQUxS"
   },
   "outputs": [],
   "source": [
    "!cp {builder.data_dir}/cifar10-train.tfrecord-00000-of-00001 {TARGET_TRAIN_DIR}/cifar10-train.tfrecord\n",
    "!cp {builder.data_dir}/cifar10-test.tfrecord-00000-of-00001 {TARGET_TEST_DIR}/cifar10-test.tfrecord"
   ]
  },
  {
   "cell_type": "code",
   "execution_count": 6,
   "metadata": {
    "colab": {
     "base_uri": "https://localhost:8080/"
    },
    "id": "SkC_wyRYLWCT",
    "outputId": "f6c572c0-1f30-48e7-8fec-1a84fad4663b"
   },
   "outputs": [
    {
     "name": "stdout",
     "output_type": "stream",
     "text": [
      "cifar10:\n",
      "span-1\n",
      "\n",
      "cifar10/span-1:\n",
      "test  train\n",
      "\n",
      "cifar10/span-1/test:\n",
      "cifar10-test.tfrecord\n",
      "\n",
      "cifar10/span-1/train:\n",
      "cifar10-train.tfrecord\n"
     ]
    }
   ],
   "source": [
    "!ls -R {TARGET_ROOT_DIR}"
   ]
  },
  {
   "cell_type": "markdown",
   "metadata": {
    "id": "U7nDmdxY-rFr"
   },
   "source": [
    "### 4. Copy Local Files to the GCS Bucket"
   ]
  },
  {
   "cell_type": "code",
   "execution_count": 7,
   "metadata": {
    "colab": {
     "base_uri": "https://localhost:8080/"
    },
    "id": "eqldz8Jkz8se",
    "outputId": "483033e6-efa1-4beb-c2e7-156469461b23"
   },
   "outputs": [
    {
     "name": "stdout",
     "output_type": "stream",
     "text": [
      "Creating gs://cifar10-csp-public2/...\n",
      "ServiceException: 409 A Cloud Storage bucket named 'cifar10-csp-public2' already exists. Try another name. Bucket names must be globally unique across all Google Cloud projects, including those outside of your organization.\n",
      "Copying file://cifar10/span-1/test/cifar10-test.tfrecord [Content-Type=application/octet-stream]...\n",
      "Copying file://cifar10/span-1/train/cifar10-train.tfrecord [Content-Type=application/octet-stream]...\n",
      "/\n",
      "Operation completed over 2 objects/133.3 MiB.                                    \n"
     ]
    }
   ],
   "source": [
    "#@title GCS\n",
    "#@markdown You should change these values as per your preferences. The copy operation can take ~5 minutes. \n",
    "BUCKET_PATH = \"gs://cifar10-csp-public2\" #@param {type:\"string\"}\n",
    "REGION = \"us-central1\" #@param {type:\"string\"}\n",
    "\n",
    "!gsutil mb -l {REGION} {BUCKET_PATH}\n",
    "!gsutil -m cp -r {TARGET_ROOT_DIR}/* {BUCKET_PATH}"
   ]
  },
  {
   "cell_type": "markdown",
   "metadata": {
    "id": "UX7Gw2_h-4Pk"
   },
   "source": [
    "Verify if the files were copied over."
   ]
  },
  {
   "cell_type": "code",
   "execution_count": 8,
   "metadata": {
    "colab": {
     "base_uri": "https://localhost:8080/"
    },
    "id": "KNfP-pbowVkU",
    "outputId": "1f078b96-d70f-4ea7-c4f7-a1bd6d74d036"
   },
   "outputs": [
    {
     "name": "stdout",
     "output_type": "stream",
     "text": [
      "gs://cifar10-csp-public2/span-1/:\n",
      "\n",
      "gs://cifar10-csp-public2/span-1/test/:\n",
      "gs://cifar10-csp-public2/span-1/test/cifar10-test.tfrecord\n",
      "\n",
      "gs://cifar10-csp-public2/span-1/train/:\n",
      "gs://cifar10-csp-public2/span-1/train/cifar10-train.tfrecord\n"
     ]
    }
   ],
   "source": [
    "!gsutil ls -R {BUCKET_PATH}/"
   ]
  },
  {
   "cell_type": "markdown",
   "metadata": {
    "id": "1sVvSU4Alh-J"
   },
   "source": [
    "# Test with TFX's built-in function\n",
    "\n",
    "TFX provides [`calculate_splits_fingerprint_span_and_version`](https://github.com/tensorflow/tfx/blob/00571387b7b006e2ebb0c1277380e5a47d8f0ffa/tfx/components/example_gen/utils.py#L648) function which calculates and returns the current `SPAN` and `VERSION`.\n",
    "\n",
    "> Please note this section only works within GCP Vertex Notebook environment due to the authentication issue. If you know how to setup GCS access privilege for TFX, please let me know."
   ]
  },
  {
   "cell_type": "code",
   "execution_count": null,
   "metadata": {
    "id": "Dw8IvNVRllqI"
   },
   "outputs": [],
   "source": [
    "!pip install tfx==1.2.0"
   ]
  },
  {
   "cell_type": "code",
   "execution_count": null,
   "metadata": {
    "id": "Xi8xgC8wZqVD"
   },
   "outputs": [],
   "source": [
    "from tfx import v1 as tfx\n",
    "from tfx.components.example_gen import utils"
   ]
  },
  {
   "cell_type": "code",
   "execution_count": null,
   "metadata": {
    "id": "Ma2QzXrEZuVX"
   },
   "outputs": [],
   "source": [
    "from tfx.proto import example_gen_pb2\n",
    "\n",
    "_DATA_PATH = \"gs://cifar10-csp-public\"\n",
    "\n",
    "splits = [\n",
    "    example_gen_pb2.Input.Split(name=\"train\", pattern=\"span-{SPAN}/train/*\"),\n",
    "    example_gen_pb2.Input.Split(name=\"val\", pattern=\"span-{SPAN}/test/*\"),\n",
    "]\n",
    "\n",
    "_, span, version = utils.calculate_splits_fingerprint_span_and_version(\n",
    "    _DATA_PATH, splits\n",
    ")"
   ]
  },
  {
   "cell_type": "code",
   "execution_count": null,
   "metadata": {
    "colab": {
     "base_uri": "https://localhost:8080/"
    },
    "id": "UZFygbeUaccg",
    "outputId": "06a298da-7509-48c8-9ee9-58c3dc320f5b"
   },
   "outputs": [
    {
     "data": {
      "text/plain": [
       "(1, None)"
      ]
     },
     "execution_count": 8,
     "metadata": {},
     "output_type": "execute_result"
    }
   ],
   "source": [
    "span, version"
   ]
  }
 ],
 "metadata": {
  "colab": {
   "include_colab_link": true,
   "name": "Dataset_Prep",
   "provenance": []
  },
  "kernelspec": {
   "display_name": "Python 3 (ipykernel)",
   "language": "python",
   "name": "python3"
  },
  "language_info": {
   "codemirror_mode": {
    "name": "ipython",
    "version": 3
   },
   "file_extension": ".py",
   "mimetype": "text/x-python",
   "name": "python",
   "nbconvert_exporter": "python",
   "pygments_lexer": "ipython3",
   "version": "3.8.2"
  },
  "widgets": {
   "application/vnd.jupyter.widget-state+json": {
    "0b02c308f2604dd28dd5b430d6239253": {
     "model_module": "@jupyter-widgets/controls",
     "model_module_version": "1.5.0",
     "model_name": "DescriptionStyleModel",
     "state": {
      "_model_module": "@jupyter-widgets/controls",
      "_model_module_version": "1.5.0",
      "_model_name": "DescriptionStyleModel",
      "_view_count": null,
      "_view_module": "@jupyter-widgets/base",
      "_view_module_version": "1.2.0",
      "_view_name": "StyleView",
      "description_width": ""
     }
    },
    "158453b7af414664b766d99ecbb9429e": {
     "model_module": "@jupyter-widgets/controls",
     "model_module_version": "1.5.0",
     "model_name": "HTMLModel",
     "state": {
      "_dom_classes": [],
      "_model_module": "@jupyter-widgets/controls",
      "_model_module_version": "1.5.0",
      "_model_name": "HTMLModel",
      "_view_count": null,
      "_view_module": "@jupyter-widgets/controls",
      "_view_module_version": "1.5.0",
      "_view_name": "HTMLView",
      "description": "",
      "description_tooltip": null,
      "layout": "IPY_MODEL_c8c9446c1a2f4a3785600ab596a451c9",
      "placeholder": "​",
      "style": "IPY_MODEL_b7e8c1bf6e394e61aae415a735b18ffe",
      "value": "Dl Size...: 100%"
     }
    },
    "1a9b33aebfb444a9b3d9442a5d72cea2": {
     "model_module": "@jupyter-widgets/controls",
     "model_module_version": "1.5.0",
     "model_name": "DescriptionStyleModel",
     "state": {
      "_model_module": "@jupyter-widgets/controls",
      "_model_module_version": "1.5.0",
      "_model_name": "DescriptionStyleModel",
      "_view_count": null,
      "_view_module": "@jupyter-widgets/base",
      "_view_module_version": "1.2.0",
      "_view_name": "StyleView",
      "description_width": ""
     }
    },
    "20d532a52ecd479fb7dfa9342decd2d1": {
     "model_module": "@jupyter-widgets/base",
     "model_module_version": "1.2.0",
     "model_name": "LayoutModel",
     "state": {
      "_model_module": "@jupyter-widgets/base",
      "_model_module_version": "1.2.0",
      "_model_name": "LayoutModel",
      "_view_count": null,
      "_view_module": "@jupyter-widgets/base",
      "_view_module_version": "1.2.0",
      "_view_name": "LayoutView",
      "align_content": null,
      "align_items": null,
      "align_self": null,
      "border": null,
      "bottom": null,
      "display": null,
      "flex": null,
      "flex_flow": null,
      "grid_area": null,
      "grid_auto_columns": null,
      "grid_auto_flow": null,
      "grid_auto_rows": null,
      "grid_column": null,
      "grid_gap": null,
      "grid_row": null,
      "grid_template_areas": null,
      "grid_template_columns": null,
      "grid_template_rows": null,
      "height": null,
      "justify_content": null,
      "justify_items": null,
      "left": null,
      "margin": null,
      "max_height": null,
      "max_width": null,
      "min_height": null,
      "min_width": null,
      "object_fit": null,
      "object_position": null,
      "order": null,
      "overflow": null,
      "overflow_x": null,
      "overflow_y": null,
      "padding": null,
      "right": null,
      "top": null,
      "visibility": null,
      "width": "20px"
     }
    },
    "29aa47ab203d4099aad31f79c72421f4": {
     "model_module": "@jupyter-widgets/base",
     "model_module_version": "1.2.0",
     "model_name": "LayoutModel",
     "state": {
      "_model_module": "@jupyter-widgets/base",
      "_model_module_version": "1.2.0",
      "_model_name": "LayoutModel",
      "_view_count": null,
      "_view_module": "@jupyter-widgets/base",
      "_view_module_version": "1.2.0",
      "_view_name": "LayoutView",
      "align_content": null,
      "align_items": null,
      "align_self": null,
      "border": null,
      "bottom": null,
      "display": null,
      "flex": null,
      "flex_flow": null,
      "grid_area": null,
      "grid_auto_columns": null,
      "grid_auto_flow": null,
      "grid_auto_rows": null,
      "grid_column": null,
      "grid_gap": null,
      "grid_row": null,
      "grid_template_areas": null,
      "grid_template_columns": null,
      "grid_template_rows": null,
      "height": null,
      "justify_content": null,
      "justify_items": null,
      "left": null,
      "margin": null,
      "max_height": null,
      "max_width": null,
      "min_height": null,
      "min_width": null,
      "object_fit": null,
      "object_position": null,
      "order": null,
      "overflow": null,
      "overflow_x": null,
      "overflow_y": null,
      "padding": null,
      "right": null,
      "top": null,
      "visibility": null,
      "width": "20px"
     }
    },
    "2f93c4391a204a26a8179b0a6b46a23e": {
     "model_module": "@jupyter-widgets/controls",
     "model_module_version": "1.5.0",
     "model_name": "FloatProgressModel",
     "state": {
      "_dom_classes": [],
      "_model_module": "@jupyter-widgets/controls",
      "_model_module_version": "1.5.0",
      "_model_name": "FloatProgressModel",
      "_view_count": null,
      "_view_module": "@jupyter-widgets/controls",
      "_view_module_version": "1.5.0",
      "_view_name": "ProgressView",
      "bar_style": "success",
      "description": "",
      "description_tooltip": null,
      "layout": "IPY_MODEL_29aa47ab203d4099aad31f79c72421f4",
      "max": 1,
      "min": 0,
      "orientation": "horizontal",
      "style": "IPY_MODEL_e3c232f427c649f2bf3f58ed97ad15d1",
      "value": 1
     }
    },
    "385a10a4ca644ca38db0f539be5a54d5": {
     "model_module": "@jupyter-widgets/controls",
     "model_module_version": "1.5.0",
     "model_name": "DescriptionStyleModel",
     "state": {
      "_model_module": "@jupyter-widgets/controls",
      "_model_module_version": "1.5.0",
      "_model_name": "DescriptionStyleModel",
      "_view_count": null,
      "_view_module": "@jupyter-widgets/base",
      "_view_module_version": "1.2.0",
      "_view_name": "StyleView",
      "description_width": ""
     }
    },
    "4d9642439f084654b63b4e7bde24b89c": {
     "model_module": "@jupyter-widgets/controls",
     "model_module_version": "1.5.0",
     "model_name": "HBoxModel",
     "state": {
      "_dom_classes": [],
      "_model_module": "@jupyter-widgets/controls",
      "_model_module_version": "1.5.0",
      "_model_name": "HBoxModel",
      "_view_count": null,
      "_view_module": "@jupyter-widgets/controls",
      "_view_module_version": "1.5.0",
      "_view_name": "HBoxView",
      "box_style": "",
      "children": [
       "IPY_MODEL_158453b7af414664b766d99ecbb9429e",
       "IPY_MODEL_6bf37bc7f5684a8eb3dcf625d02616fd",
       "IPY_MODEL_a7265046f01343a0a9de7635e60e2d5f"
      ],
      "layout": "IPY_MODEL_fd5c76c7cda94b22814409cbda62a38d"
     }
    },
    "4f7c45939d3f49eb856ccc58f999e37b": {
     "model_module": "@jupyter-widgets/base",
     "model_module_version": "1.2.0",
     "model_name": "LayoutModel",
     "state": {
      "_model_module": "@jupyter-widgets/base",
      "_model_module_version": "1.2.0",
      "_model_name": "LayoutModel",
      "_view_count": null,
      "_view_module": "@jupyter-widgets/base",
      "_view_module_version": "1.2.0",
      "_view_name": "LayoutView",
      "align_content": null,
      "align_items": null,
      "align_self": null,
      "border": null,
      "bottom": null,
      "display": null,
      "flex": null,
      "flex_flow": null,
      "grid_area": null,
      "grid_auto_columns": null,
      "grid_auto_flow": null,
      "grid_auto_rows": null,
      "grid_column": null,
      "grid_gap": null,
      "grid_row": null,
      "grid_template_areas": null,
      "grid_template_columns": null,
      "grid_template_rows": null,
      "height": null,
      "justify_content": null,
      "justify_items": null,
      "left": null,
      "margin": null,
      "max_height": null,
      "max_width": null,
      "min_height": null,
      "min_width": null,
      "object_fit": null,
      "object_position": null,
      "order": null,
      "overflow": null,
      "overflow_x": null,
      "overflow_y": null,
      "padding": null,
      "right": null,
      "top": null,
      "visibility": null,
      "width": null
     }
    },
    "4fdde132c9744c74bbf7aa7a3185ae64": {
     "model_module": "@jupyter-widgets/controls",
     "model_module_version": "1.5.0",
     "model_name": "HTMLModel",
     "state": {
      "_dom_classes": [],
      "_model_module": "@jupyter-widgets/controls",
      "_model_module_version": "1.5.0",
      "_model_name": "HTMLModel",
      "_view_count": null,
      "_view_module": "@jupyter-widgets/controls",
      "_view_module_version": "1.5.0",
      "_view_name": "HTMLView",
      "description": "",
      "description_tooltip": null,
      "layout": "IPY_MODEL_9b8d5063647d466684c6e1b196a90796",
      "placeholder": "​",
      "style": "IPY_MODEL_5a452ead65af499bbf868b5314dd7196",
      "value": " 1/1 [00:14&lt;00:00, 14.94s/ file]"
     }
    },
    "5a452ead65af499bbf868b5314dd7196": {
     "model_module": "@jupyter-widgets/controls",
     "model_module_version": "1.5.0",
     "model_name": "DescriptionStyleModel",
     "state": {
      "_model_module": "@jupyter-widgets/controls",
      "_model_module_version": "1.5.0",
      "_model_name": "DescriptionStyleModel",
      "_view_count": null,
      "_view_module": "@jupyter-widgets/base",
      "_view_module_version": "1.2.0",
      "_view_name": "StyleView",
      "description_width": ""
     }
    },
    "5b27a0a8a6964be49befadfc9d209c93": {
     "model_module": "@jupyter-widgets/base",
     "model_module_version": "1.2.0",
     "model_name": "LayoutModel",
     "state": {
      "_model_module": "@jupyter-widgets/base",
      "_model_module_version": "1.2.0",
      "_model_name": "LayoutModel",
      "_view_count": null,
      "_view_module": "@jupyter-widgets/base",
      "_view_module_version": "1.2.0",
      "_view_name": "LayoutView",
      "align_content": null,
      "align_items": null,
      "align_self": null,
      "border": null,
      "bottom": null,
      "display": null,
      "flex": null,
      "flex_flow": null,
      "grid_area": null,
      "grid_auto_columns": null,
      "grid_auto_flow": null,
      "grid_auto_rows": null,
      "grid_column": null,
      "grid_gap": null,
      "grid_row": null,
      "grid_template_areas": null,
      "grid_template_columns": null,
      "grid_template_rows": null,
      "height": null,
      "justify_content": null,
      "justify_items": null,
      "left": null,
      "margin": null,
      "max_height": null,
      "max_width": null,
      "min_height": null,
      "min_width": null,
      "object_fit": null,
      "object_position": null,
      "order": null,
      "overflow": null,
      "overflow_x": null,
      "overflow_y": null,
      "padding": null,
      "right": null,
      "top": null,
      "visibility": null,
      "width": null
     }
    },
    "6bf37bc7f5684a8eb3dcf625d02616fd": {
     "model_module": "@jupyter-widgets/controls",
     "model_module_version": "1.5.0",
     "model_name": "FloatProgressModel",
     "state": {
      "_dom_classes": [],
      "_model_module": "@jupyter-widgets/controls",
      "_model_module_version": "1.5.0",
      "_model_name": "FloatProgressModel",
      "_view_count": null,
      "_view_module": "@jupyter-widgets/controls",
      "_view_module_version": "1.5.0",
      "_view_name": "ProgressView",
      "bar_style": "success",
      "description": "",
      "description_tooltip": null,
      "layout": "IPY_MODEL_20d532a52ecd479fb7dfa9342decd2d1",
      "max": 1,
      "min": 0,
      "orientation": "horizontal",
      "style": "IPY_MODEL_a9e7a7b675844f1ab616bb1972c15d32",
      "value": 1
     }
    },
    "6f08665adc814ac09e7cb21e0533866c": {
     "model_module": "@jupyter-widgets/controls",
     "model_module_version": "1.5.0",
     "model_name": "DescriptionStyleModel",
     "state": {
      "_model_module": "@jupyter-widgets/controls",
      "_model_module_version": "1.5.0",
      "_model_name": "DescriptionStyleModel",
      "_view_count": null,
      "_view_module": "@jupyter-widgets/base",
      "_view_module_version": "1.2.0",
      "_view_name": "StyleView",
      "description_width": ""
     }
    },
    "710373ad31fe4dc0b29c7c681e345cc8": {
     "model_module": "@jupyter-widgets/base",
     "model_module_version": "1.2.0",
     "model_name": "LayoutModel",
     "state": {
      "_model_module": "@jupyter-widgets/base",
      "_model_module_version": "1.2.0",
      "_model_name": "LayoutModel",
      "_view_count": null,
      "_view_module": "@jupyter-widgets/base",
      "_view_module_version": "1.2.0",
      "_view_name": "LayoutView",
      "align_content": null,
      "align_items": null,
      "align_self": null,
      "border": null,
      "bottom": null,
      "display": null,
      "flex": null,
      "flex_flow": null,
      "grid_area": null,
      "grid_auto_columns": null,
      "grid_auto_flow": null,
      "grid_auto_rows": null,
      "grid_column": null,
      "grid_gap": null,
      "grid_row": null,
      "grid_template_areas": null,
      "grid_template_columns": null,
      "grid_template_rows": null,
      "height": null,
      "justify_content": null,
      "justify_items": null,
      "left": null,
      "margin": null,
      "max_height": null,
      "max_width": null,
      "min_height": null,
      "min_width": null,
      "object_fit": null,
      "object_position": null,
      "order": null,
      "overflow": null,
      "overflow_x": null,
      "overflow_y": null,
      "padding": null,
      "right": null,
      "top": null,
      "visibility": null,
      "width": null
     }
    },
    "9613736bf85c44338d6f5609e6efc90b": {
     "model_module": "@jupyter-widgets/base",
     "model_module_version": "1.2.0",
     "model_name": "LayoutModel",
     "state": {
      "_model_module": "@jupyter-widgets/base",
      "_model_module_version": "1.2.0",
      "_model_name": "LayoutModel",
      "_view_count": null,
      "_view_module": "@jupyter-widgets/base",
      "_view_module_version": "1.2.0",
      "_view_name": "LayoutView",
      "align_content": null,
      "align_items": null,
      "align_self": null,
      "border": null,
      "bottom": null,
      "display": null,
      "flex": null,
      "flex_flow": null,
      "grid_area": null,
      "grid_auto_columns": null,
      "grid_auto_flow": null,
      "grid_auto_rows": null,
      "grid_column": null,
      "grid_gap": null,
      "grid_row": null,
      "grid_template_areas": null,
      "grid_template_columns": null,
      "grid_template_rows": null,
      "height": null,
      "justify_content": null,
      "justify_items": null,
      "left": null,
      "margin": null,
      "max_height": null,
      "max_width": null,
      "min_height": null,
      "min_width": null,
      "object_fit": null,
      "object_position": null,
      "order": null,
      "overflow": null,
      "overflow_x": null,
      "overflow_y": null,
      "padding": null,
      "right": null,
      "top": null,
      "visibility": null,
      "width": "20px"
     }
    },
    "9b8d5063647d466684c6e1b196a90796": {
     "model_module": "@jupyter-widgets/base",
     "model_module_version": "1.2.0",
     "model_name": "LayoutModel",
     "state": {
      "_model_module": "@jupyter-widgets/base",
      "_model_module_version": "1.2.0",
      "_model_name": "LayoutModel",
      "_view_count": null,
      "_view_module": "@jupyter-widgets/base",
      "_view_module_version": "1.2.0",
      "_view_name": "LayoutView",
      "align_content": null,
      "align_items": null,
      "align_self": null,
      "border": null,
      "bottom": null,
      "display": null,
      "flex": null,
      "flex_flow": null,
      "grid_area": null,
      "grid_auto_columns": null,
      "grid_auto_flow": null,
      "grid_auto_rows": null,
      "grid_column": null,
      "grid_gap": null,
      "grid_row": null,
      "grid_template_areas": null,
      "grid_template_columns": null,
      "grid_template_rows": null,
      "height": null,
      "justify_content": null,
      "justify_items": null,
      "left": null,
      "margin": null,
      "max_height": null,
      "max_width": null,
      "min_height": null,
      "min_width": null,
      "object_fit": null,
      "object_position": null,
      "order": null,
      "overflow": null,
      "overflow_x": null,
      "overflow_y": null,
      "padding": null,
      "right": null,
      "top": null,
      "visibility": null,
      "width": null
     }
    },
    "a327863b15a54d1eb8cd2c26ee31c826": {
     "model_module": "@jupyter-widgets/controls",
     "model_module_version": "1.5.0",
     "model_name": "HTMLModel",
     "state": {
      "_dom_classes": [],
      "_model_module": "@jupyter-widgets/controls",
      "_model_module_version": "1.5.0",
      "_model_name": "HTMLModel",
      "_view_count": null,
      "_view_module": "@jupyter-widgets/controls",
      "_view_module_version": "1.5.0",
      "_view_name": "HTMLView",
      "description": "",
      "description_tooltip": null,
      "layout": "IPY_MODEL_710373ad31fe4dc0b29c7c681e345cc8",
      "placeholder": "​",
      "style": "IPY_MODEL_1a9b33aebfb444a9b3d9442a5d72cea2",
      "value": "Dl Completed...: 100%"
     }
    },
    "a7265046f01343a0a9de7635e60e2d5f": {
     "model_module": "@jupyter-widgets/controls",
     "model_module_version": "1.5.0",
     "model_name": "HTMLModel",
     "state": {
      "_dom_classes": [],
      "_model_module": "@jupyter-widgets/controls",
      "_model_module_version": "1.5.0",
      "_model_name": "HTMLModel",
      "_view_count": null,
      "_view_module": "@jupyter-widgets/controls",
      "_view_module_version": "1.5.0",
      "_view_name": "HTMLView",
      "description": "",
      "description_tooltip": null,
      "layout": "IPY_MODEL_b515ef8f06744ce486f110326909e90e",
      "placeholder": "​",
      "style": "IPY_MODEL_0b02c308f2604dd28dd5b430d6239253",
      "value": " 162/162 [00:14&lt;00:00, 15.22 MiB/s]"
     }
    },
    "a9e7a7b675844f1ab616bb1972c15d32": {
     "model_module": "@jupyter-widgets/controls",
     "model_module_version": "1.5.0",
     "model_name": "ProgressStyleModel",
     "state": {
      "_model_module": "@jupyter-widgets/controls",
      "_model_module_version": "1.5.0",
      "_model_name": "ProgressStyleModel",
      "_view_count": null,
      "_view_module": "@jupyter-widgets/base",
      "_view_module_version": "1.2.0",
      "_view_name": "StyleView",
      "bar_color": null,
      "description_width": ""
     }
    },
    "af4562715ddd41e786e717033a6f3fec": {
     "model_module": "@jupyter-widgets/controls",
     "model_module_version": "1.5.0",
     "model_name": "HBoxModel",
     "state": {
      "_dom_classes": [],
      "_model_module": "@jupyter-widgets/controls",
      "_model_module_version": "1.5.0",
      "_model_name": "HBoxModel",
      "_view_count": null,
      "_view_module": "@jupyter-widgets/controls",
      "_view_module_version": "1.5.0",
      "_view_name": "HBoxView",
      "box_style": "",
      "children": [
       "IPY_MODEL_d0c79d32309640a18b1097e50c273489",
       "IPY_MODEL_2f93c4391a204a26a8179b0a6b46a23e",
       "IPY_MODEL_4fdde132c9744c74bbf7aa7a3185ae64"
      ],
      "layout": "IPY_MODEL_5b27a0a8a6964be49befadfc9d209c93"
     }
    },
    "b515ef8f06744ce486f110326909e90e": {
     "model_module": "@jupyter-widgets/base",
     "model_module_version": "1.2.0",
     "model_name": "LayoutModel",
     "state": {
      "_model_module": "@jupyter-widgets/base",
      "_model_module_version": "1.2.0",
      "_model_name": "LayoutModel",
      "_view_count": null,
      "_view_module": "@jupyter-widgets/base",
      "_view_module_version": "1.2.0",
      "_view_name": "LayoutView",
      "align_content": null,
      "align_items": null,
      "align_self": null,
      "border": null,
      "bottom": null,
      "display": null,
      "flex": null,
      "flex_flow": null,
      "grid_area": null,
      "grid_auto_columns": null,
      "grid_auto_flow": null,
      "grid_auto_rows": null,
      "grid_column": null,
      "grid_gap": null,
      "grid_row": null,
      "grid_template_areas": null,
      "grid_template_columns": null,
      "grid_template_rows": null,
      "height": null,
      "justify_content": null,
      "justify_items": null,
      "left": null,
      "margin": null,
      "max_height": null,
      "max_width": null,
      "min_height": null,
      "min_width": null,
      "object_fit": null,
      "object_position": null,
      "order": null,
      "overflow": null,
      "overflow_x": null,
      "overflow_y": null,
      "padding": null,
      "right": null,
      "top": null,
      "visibility": null,
      "width": null
     }
    },
    "b7e8c1bf6e394e61aae415a735b18ffe": {
     "model_module": "@jupyter-widgets/controls",
     "model_module_version": "1.5.0",
     "model_name": "DescriptionStyleModel",
     "state": {
      "_model_module": "@jupyter-widgets/controls",
      "_model_module_version": "1.5.0",
      "_model_name": "DescriptionStyleModel",
      "_view_count": null,
      "_view_module": "@jupyter-widgets/base",
      "_view_module_version": "1.2.0",
      "_view_name": "StyleView",
      "description_width": ""
     }
    },
    "c8c9446c1a2f4a3785600ab596a451c9": {
     "model_module": "@jupyter-widgets/base",
     "model_module_version": "1.2.0",
     "model_name": "LayoutModel",
     "state": {
      "_model_module": "@jupyter-widgets/base",
      "_model_module_version": "1.2.0",
      "_model_name": "LayoutModel",
      "_view_count": null,
      "_view_module": "@jupyter-widgets/base",
      "_view_module_version": "1.2.0",
      "_view_name": "LayoutView",
      "align_content": null,
      "align_items": null,
      "align_self": null,
      "border": null,
      "bottom": null,
      "display": null,
      "flex": null,
      "flex_flow": null,
      "grid_area": null,
      "grid_auto_columns": null,
      "grid_auto_flow": null,
      "grid_auto_rows": null,
      "grid_column": null,
      "grid_gap": null,
      "grid_row": null,
      "grid_template_areas": null,
      "grid_template_columns": null,
      "grid_template_rows": null,
      "height": null,
      "justify_content": null,
      "justify_items": null,
      "left": null,
      "margin": null,
      "max_height": null,
      "max_width": null,
      "min_height": null,
      "min_width": null,
      "object_fit": null,
      "object_position": null,
      "order": null,
      "overflow": null,
      "overflow_x": null,
      "overflow_y": null,
      "padding": null,
      "right": null,
      "top": null,
      "visibility": null,
      "width": null
     }
    },
    "d0c79d32309640a18b1097e50c273489": {
     "model_module": "@jupyter-widgets/controls",
     "model_module_version": "1.5.0",
     "model_name": "HTMLModel",
     "state": {
      "_dom_classes": [],
      "_model_module": "@jupyter-widgets/controls",
      "_model_module_version": "1.5.0",
      "_model_name": "HTMLModel",
      "_view_count": null,
      "_view_module": "@jupyter-widgets/controls",
      "_view_module_version": "1.5.0",
      "_view_name": "HTMLView",
      "description": "",
      "description_tooltip": null,
      "layout": "IPY_MODEL_fd5460933db44c92b60e41b065551215",
      "placeholder": "​",
      "style": "IPY_MODEL_6f08665adc814ac09e7cb21e0533866c",
      "value": "Extraction completed...: 100%"
     }
    },
    "d46fa732fb474fce8f940c031ca06637": {
     "model_module": "@jupyter-widgets/controls",
     "model_module_version": "1.5.0",
     "model_name": "FloatProgressModel",
     "state": {
      "_dom_classes": [],
      "_model_module": "@jupyter-widgets/controls",
      "_model_module_version": "1.5.0",
      "_model_name": "FloatProgressModel",
      "_view_count": null,
      "_view_module": "@jupyter-widgets/controls",
      "_view_module_version": "1.5.0",
      "_view_name": "ProgressView",
      "bar_style": "success",
      "description": "",
      "description_tooltip": null,
      "layout": "IPY_MODEL_9613736bf85c44338d6f5609e6efc90b",
      "max": 1,
      "min": 0,
      "orientation": "horizontal",
      "style": "IPY_MODEL_dbe66bad8ba94b30b93c7c9d25cf8fbd",
      "value": 1
     }
    },
    "dbe66bad8ba94b30b93c7c9d25cf8fbd": {
     "model_module": "@jupyter-widgets/controls",
     "model_module_version": "1.5.0",
     "model_name": "ProgressStyleModel",
     "state": {
      "_model_module": "@jupyter-widgets/controls",
      "_model_module_version": "1.5.0",
      "_model_name": "ProgressStyleModel",
      "_view_count": null,
      "_view_module": "@jupyter-widgets/base",
      "_view_module_version": "1.2.0",
      "_view_name": "StyleView",
      "bar_color": null,
      "description_width": ""
     }
    },
    "e3c232f427c649f2bf3f58ed97ad15d1": {
     "model_module": "@jupyter-widgets/controls",
     "model_module_version": "1.5.0",
     "model_name": "ProgressStyleModel",
     "state": {
      "_model_module": "@jupyter-widgets/controls",
      "_model_module_version": "1.5.0",
      "_model_name": "ProgressStyleModel",
      "_view_count": null,
      "_view_module": "@jupyter-widgets/base",
      "_view_module_version": "1.2.0",
      "_view_name": "StyleView",
      "bar_color": null,
      "description_width": ""
     }
    },
    "ecefe53c759e4a54aa1f3ed44444fdf5": {
     "model_module": "@jupyter-widgets/base",
     "model_module_version": "1.2.0",
     "model_name": "LayoutModel",
     "state": {
      "_model_module": "@jupyter-widgets/base",
      "_model_module_version": "1.2.0",
      "_model_name": "LayoutModel",
      "_view_count": null,
      "_view_module": "@jupyter-widgets/base",
      "_view_module_version": "1.2.0",
      "_view_name": "LayoutView",
      "align_content": null,
      "align_items": null,
      "align_self": null,
      "border": null,
      "bottom": null,
      "display": null,
      "flex": null,
      "flex_flow": null,
      "grid_area": null,
      "grid_auto_columns": null,
      "grid_auto_flow": null,
      "grid_auto_rows": null,
      "grid_column": null,
      "grid_gap": null,
      "grid_row": null,
      "grid_template_areas": null,
      "grid_template_columns": null,
      "grid_template_rows": null,
      "height": null,
      "justify_content": null,
      "justify_items": null,
      "left": null,
      "margin": null,
      "max_height": null,
      "max_width": null,
      "min_height": null,
      "min_width": null,
      "object_fit": null,
      "object_position": null,
      "order": null,
      "overflow": null,
      "overflow_x": null,
      "overflow_y": null,
      "padding": null,
      "right": null,
      "top": null,
      "visibility": null,
      "width": null
     }
    },
    "fb0e11738e734dc6a7428c4a82e81705": {
     "model_module": "@jupyter-widgets/controls",
     "model_module_version": "1.5.0",
     "model_name": "HBoxModel",
     "state": {
      "_dom_classes": [],
      "_model_module": "@jupyter-widgets/controls",
      "_model_module_version": "1.5.0",
      "_model_name": "HBoxModel",
      "_view_count": null,
      "_view_module": "@jupyter-widgets/controls",
      "_view_module_version": "1.5.0",
      "_view_name": "HBoxView",
      "box_style": "",
      "children": [
       "IPY_MODEL_a327863b15a54d1eb8cd2c26ee31c826",
       "IPY_MODEL_d46fa732fb474fce8f940c031ca06637",
       "IPY_MODEL_fcf94990ac4f46b2a0fd54e06eb0f88b"
      ],
      "layout": "IPY_MODEL_4f7c45939d3f49eb856ccc58f999e37b"
     }
    },
    "fcf94990ac4f46b2a0fd54e06eb0f88b": {
     "model_module": "@jupyter-widgets/controls",
     "model_module_version": "1.5.0",
     "model_name": "HTMLModel",
     "state": {
      "_dom_classes": [],
      "_model_module": "@jupyter-widgets/controls",
      "_model_module_version": "1.5.0",
      "_model_name": "HTMLModel",
      "_view_count": null,
      "_view_module": "@jupyter-widgets/controls",
      "_view_module_version": "1.5.0",
      "_view_name": "HTMLView",
      "description": "",
      "description_tooltip": null,
      "layout": "IPY_MODEL_ecefe53c759e4a54aa1f3ed44444fdf5",
      "placeholder": "​",
      "style": "IPY_MODEL_385a10a4ca644ca38db0f539be5a54d5",
      "value": " 1/1 [00:15&lt;00:00, 12.66s/ url]"
     }
    },
    "fd5460933db44c92b60e41b065551215": {
     "model_module": "@jupyter-widgets/base",
     "model_module_version": "1.2.0",
     "model_name": "LayoutModel",
     "state": {
      "_model_module": "@jupyter-widgets/base",
      "_model_module_version": "1.2.0",
      "_model_name": "LayoutModel",
      "_view_count": null,
      "_view_module": "@jupyter-widgets/base",
      "_view_module_version": "1.2.0",
      "_view_name": "LayoutView",
      "align_content": null,
      "align_items": null,
      "align_self": null,
      "border": null,
      "bottom": null,
      "display": null,
      "flex": null,
      "flex_flow": null,
      "grid_area": null,
      "grid_auto_columns": null,
      "grid_auto_flow": null,
      "grid_auto_rows": null,
      "grid_column": null,
      "grid_gap": null,
      "grid_row": null,
      "grid_template_areas": null,
      "grid_template_columns": null,
      "grid_template_rows": null,
      "height": null,
      "justify_content": null,
      "justify_items": null,
      "left": null,
      "margin": null,
      "max_height": null,
      "max_width": null,
      "min_height": null,
      "min_width": null,
      "object_fit": null,
      "object_position": null,
      "order": null,
      "overflow": null,
      "overflow_x": null,
      "overflow_y": null,
      "padding": null,
      "right": null,
      "top": null,
      "visibility": null,
      "width": null
     }
    },
    "fd5c76c7cda94b22814409cbda62a38d": {
     "model_module": "@jupyter-widgets/base",
     "model_module_version": "1.2.0",
     "model_name": "LayoutModel",
     "state": {
      "_model_module": "@jupyter-widgets/base",
      "_model_module_version": "1.2.0",
      "_model_name": "LayoutModel",
      "_view_count": null,
      "_view_module": "@jupyter-widgets/base",
      "_view_module_version": "1.2.0",
      "_view_name": "LayoutView",
      "align_content": null,
      "align_items": null,
      "align_self": null,
      "border": null,
      "bottom": null,
      "display": null,
      "flex": null,
      "flex_flow": null,
      "grid_area": null,
      "grid_auto_columns": null,
      "grid_auto_flow": null,
      "grid_auto_rows": null,
      "grid_column": null,
      "grid_gap": null,
      "grid_row": null,
      "grid_template_areas": null,
      "grid_template_columns": null,
      "grid_template_rows": null,
      "height": null,
      "justify_content": null,
      "justify_items": null,
      "left": null,
      "margin": null,
      "max_height": null,
      "max_width": null,
      "min_height": null,
      "min_width": null,
      "object_fit": null,
      "object_position": null,
      "order": null,
      "overflow": null,
      "overflow_x": null,
      "overflow_y": null,
      "padding": null,
      "right": null,
      "top": null,
      "visibility": null,
      "width": null
     }
    }
   }
  }
 },
 "nbformat": 4,
 "nbformat_minor": 1
}
