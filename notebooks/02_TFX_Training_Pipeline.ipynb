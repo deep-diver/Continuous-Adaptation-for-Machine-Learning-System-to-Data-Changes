{
  "nbformat": 4,
  "nbformat_minor": 0,
  "metadata": {
    "colab": {
      "name": "Custom_Model_TFX",
      "provenance": [],
      "collapsed_sections": [],
      "machine_shape": "hm",
      "include_colab_link": true
    },
    "environment": {
      "name": "tf2-gpu.2-4.mnightly-2021-02-02-debian-10-test",
      "type": "gcloud",
      "uri": "gcr.io/deeplearning-platform-release/tf2-gpu.2-4:mnightly-2021-02-02-debian-10-test"
    },
    "kernelspec": {
      "display_name": "Python 3",
      "language": "python",
      "name": "python3"
    },
    "language_info": {
      "codemirror_mode": {
        "name": "ipython",
        "version": 3
      },
      "file_extension": ".py",
      "mimetype": "text/x-python",
      "name": "python",
      "nbconvert_exporter": "python",
      "pygments_lexer": "ipython3",
      "version": "3.7.4"
    }
  },
  "cells": [
    {
      "cell_type": "markdown",
      "metadata": {
        "id": "view-in-github",
        "colab_type": "text"
      },
      "source": [
        "<a href=\"https://colab.research.google.com/github/deep-diver/Continuous-Adaptation-for-Machine-Learning-System-to-Data-Changes/blob/main/notebooks/02_TFX_Training_Pipeline.ipynb\" target=\"_parent\"><img src=\"https://colab.research.google.com/assets/colab-badge.svg\" alt=\"Open In Colab\"/></a>"
      ]
    },
    {
      "cell_type": "markdown",
      "metadata": {
        "id": "mTVp-9PGYFIO"
      },
      "source": [
        "This notebook assumes you are familiar with the basics of Vertex AI, TFX (especially custom components), and TensorFlow. "
      ]
    },
    {
      "cell_type": "markdown",
      "metadata": {
        "id": "W7gJqmqrsfqh"
      },
      "source": [
        "## References\n",
        "\n",
        "This notebook refers to the following resources and also reuses parts of the code from there: \n",
        "* [Simple TFX Pipeline for Vertex Pipelines](https://colab.research.google.com/github/tensorflow/tfx/blob/master/docs/tutorials/tfx/gcp/vertex_pipelines_simple.ipynb)\n",
        "* [Vertex AI Training with TFX and Vertex Pipelines](https://www.tensorflow.org/tfx/tutorials/tfx/gcp/vertex_pipelines_vertex_training)\n",
        "* [Importing models to Vertex AI](https://cloud.google.com/vertex-ai/docs/general/import-model)\n",
        "* [Deploying a model using the Vertex AI API](https://cloud.google.com/vertex-ai/docs/predictions/deploy-model-api)\n",
        "* [MLOPs with Vertex AI](https://github.com/GoogleCloudPlatform/mlops-with-vertex-ai)\n",
        "* [Custom components TFX](https://www.tensorflow.org/tfx/tutorials/tfx/python_function_component)"
      ]
    },
    {
      "cell_type": "markdown",
      "metadata": {
        "id": "O9aBRdubPFsU"
      },
      "source": [
        "## Prerequisites\n",
        "- Enable Vertex AI API\n",
        "- Add the following rules to IAM\n",
        "  - Vertex AI Custom Code Service Agent\n",
        "  - Vertex AI Service Agent\n",
        "  - Vertex AI User\n",
        "  - Artifact Registry Service Agent\n",
        "  - Container Registry Service Agent"
      ]
    },
    {
      "cell_type": "markdown",
      "metadata": {
        "id": "D04aKMGWXjOu"
      },
      "source": [
        "## Setup"
      ]
    },
    {
      "cell_type": "code",
      "metadata": {
        "id": "I_niUhp_TY1G"
      },
      "source": [
        "# Use the latest version of pip.\n",
        "%%capture\n",
        "!pip install --upgrade tfx==1.2.0 kfp==1.6.1\n",
        "!pip install -q --upgrade google-cloud-aiplatform"
      ],
      "execution_count": 1,
      "outputs": []
    },
    {
      "cell_type": "markdown",
      "metadata": {
        "id": "ZVmgQ6w1oT_Z"
      },
      "source": [
        "### ***Please restart runtime before continuing.*** "
      ]
    },
    {
      "cell_type": "code",
      "metadata": {
        "id": "mstgsNHWoiXk"
      },
      "source": [
        "!gcloud init"
      ],
      "execution_count": null,
      "outputs": []
    },
    {
      "cell_type": "code",
      "metadata": {
        "id": "Pl8ewjX3oXRx"
      },
      "source": [
        "from google.colab import auth\n",
        "auth.authenticate_user()"
      ],
      "execution_count": 2,
      "outputs": []
    },
    {
      "cell_type": "markdown",
      "metadata": {
        "id": "zqVWpmywXngD"
      },
      "source": [
        "## Imports"
      ]
    },
    {
      "cell_type": "code",
      "metadata": {
        "colab": {
          "base_uri": "https://localhost:8080/"
        },
        "id": "wptXF0e-UXsT",
        "outputId": "3228fd0e-aac7-454d-dcfa-ddcf3f74ee12"
      },
      "source": [
        "import tensorflow as tf\n",
        "print('TensorFlow version: {}'.format(tf.__version__))\n",
        "from tfx import v1 as tfx\n",
        "print('TFX version: {}'.format(tfx.__version__))\n",
        "import kfp\n",
        "print('KFP version: {}'.format(kfp.__version__))\n",
        "\n",
        "from google.cloud import aiplatform as vertex_ai\n",
        "import os"
      ],
      "execution_count": 3,
      "outputs": [
        {
          "output_type": "stream",
          "name": "stdout",
          "text": [
            "TensorFlow version: 2.5.1\n",
            "TFX version: 1.2.0\n",
            "KFP version: 1.6.1\n"
          ]
        }
      ]
    },
    {
      "cell_type": "markdown",
      "metadata": {
        "id": "hFYHeepnXxpZ"
      },
      "source": [
        "## Environment setup"
      ]
    },
    {
      "cell_type": "code",
      "metadata": {
        "id": "zPVyBrXrW-vu"
      },
      "source": [
        "GOOGLE_CLOUD_PROJECT = 'gcp-ml-172005'    #@param {type:\"string\"}\n",
        "GOOGLE_CLOUD_REGION = 'us-central1'             #@param {type:\"string\"}\n",
        "GCS_BUCKET_NAME = 'cifar10-experimental-csp2'            #@param {type:\"string\"}\n",
        "DATA_ROOT = 'gs://cifar10-csp-public2' #@param {type:\"string\"}\n",
        "\n",
        "if not (GOOGLE_CLOUD_PROJECT and GOOGLE_CLOUD_REGION and GCS_BUCKET_NAME):\n",
        "    from absl import logging\n",
        "    logging.error('Please set all required parameters.')"
      ],
      "execution_count": 4,
      "outputs": []
    },
    {
      "cell_type": "markdown",
      "metadata": {
        "id": "CV-BZSvQq7YY"
      },
      "source": [
        "The location of the bucket must be a single region. Also, the bucket needs to be created in a region when [Vertex AI services are available](https://cloud.google.com/vertex-ai/docs/general/locations#available_regions). "
      ]
    },
    {
      "cell_type": "code",
      "metadata": {
        "colab": {
          "base_uri": "https://localhost:8080/"
        },
        "id": "J65KHrt4X-Fu",
        "outputId": "ab76e6a9-dc20-41df-e42b-bc516ee67e7f"
      },
      "source": [
        "PIPELINE_NAME = 'continuous-adaptation-for-data-changes'\n",
        "\n",
        "# Path to various pipeline artifact.\n",
        "PIPELINE_ROOT = 'gs://{}/pipeline_root/{}'.format(\n",
        "    GCS_BUCKET_NAME, PIPELINE_NAME)\n",
        "\n",
        "# Paths for users' Python module.\n",
        "MODULE_ROOT = 'gs://{}/pipeline_module/{}'.format(\n",
        "    GCS_BUCKET_NAME, PIPELINE_NAME)\n",
        "\n",
        "# This is the path where your model will be pushed for serving.\n",
        "SERVING_MODEL_DIR = 'gs://{}/serving_model/{}'.format(\n",
        "    GCS_BUCKET_NAME, PIPELINE_NAME)\n",
        "\n",
        "print('PIPELINE_ROOT: {}'.format(PIPELINE_ROOT))"
      ],
      "execution_count": 5,
      "outputs": [
        {
          "output_type": "stream",
          "name": "stdout",
          "text": [
            "PIPELINE_ROOT: gs://cifar10-experimental-csp2/pipeline_root/continuous-adaptation-for-data-changes\n"
          ]
        }
      ]
    },
    {
      "cell_type": "markdown",
      "metadata": {
        "id": "kQVpzyftX0y0"
      },
      "source": [
        "## Create training modules"
      ]
    },
    {
      "cell_type": "code",
      "metadata": {
        "id": "zFgnx3uGAfuj"
      },
      "source": [
        "_trainer_module_file = 'trainer.py'"
      ],
      "execution_count": 6,
      "outputs": []
    },
    {
      "cell_type": "code",
      "metadata": {
        "id": "sZqzotkfAf-C",
        "colab": {
          "base_uri": "https://localhost:8080/"
        },
        "outputId": "ec319d61-dbbb-4095-f2d2-0d2704d872ba"
      },
      "source": [
        "%%writefile {_trainer_module_file}\n",
        "\n",
        "from typing import List\n",
        "from absl import logging\n",
        "from tensorflow import keras\n",
        "from tfx import v1 as tfx\n",
        "import tensorflow as tf\n",
        "\n",
        "_IMAGE_FEATURES = {\n",
        "    \"image\": tf.io.FixedLenFeature([], tf.string),\n",
        "    \"label\": tf.io.FixedLenFeature([], tf.int64),\n",
        "}\n",
        "\n",
        "_CONCRETE_INPUT = \"numpy_inputs\"\n",
        "_TRAIN_BATCH_SIZE = 64\n",
        "_EVAL_BATCH_SIZE = 64\n",
        "_INPUT_SHAPE = (32, 32, 3)\n",
        "_EPOCHS = 2\n",
        "\n",
        "def _parse_fn(example):\n",
        "    example = tf.io.parse_single_example(example, _IMAGE_FEATURES)\n",
        "    image = tf.image.decode_jpeg(example[\"image\"], channels=3)\n",
        "    class_label = tf.cast(example[\"label\"], tf.int32)\n",
        "    return image, class_label\n",
        "\n",
        "def _input_fn(file_pattern: List[str], batch_size: int) -> tf.data.Dataset:\n",
        "  print(f\"Reading data from: {file_pattern}\")\n",
        "  tfrecord_filenames = tf.io.gfile.glob(file_pattern[0] + \".gz\")\n",
        "  print(tfrecord_filenames)\n",
        "  dataset = tf.data.TFRecordDataset(tfrecord_filenames, compression_type=\"GZIP\")\n",
        "  dataset = dataset.map(_parse_fn).batch(batch_size)\n",
        "  return dataset.repeat()\n",
        "\n",
        "def _make_keras_model() -> tf.keras.Model:\n",
        "  \"\"\"Creates a ResNet50-based model for classifying flowers data.\n",
        "\n",
        "  Returns:\n",
        "  A Keras Model.\n",
        "  \"\"\"\n",
        "  inputs = keras.Input(shape=_INPUT_SHAPE)\n",
        "  base_model = keras.applications.ResNet50(\n",
        "      include_top=False, input_shape=_INPUT_SHAPE, pooling=\"avg\"\n",
        "  )\n",
        "  base_model.trainable = False\n",
        "  x = tf.keras.applications.resnet.preprocess_input(inputs)\n",
        "  x = base_model(\n",
        "      x, training=False\n",
        "  )  # Ensures BatchNorm runs in inference model in this model\n",
        "  outputs = keras.layers.Dense(10, activation=\"softmax\")(x)\n",
        "  model = keras.Model(inputs, outputs)\n",
        "\n",
        "  model.compile(\n",
        "      optimizer=keras.optimizers.Adam(),\n",
        "      loss=tf.keras.losses.SparseCategoricalCrossentropy(),\n",
        "      metrics=[keras.metrics.SparseCategoricalAccuracy()],\n",
        "  )\n",
        "\n",
        "  model.summary(print_fn=logging.info)\n",
        "  return model\n",
        "\n",
        "def _preprocess(bytes_input):\n",
        "    decoded = tf.io.decode_jpeg(bytes_input, channels=3)\n",
        "    resized = tf.image.resize(decoded, size=(32, 32))\n",
        "    return resized\n",
        "\n",
        "\n",
        "@tf.function(input_signature=[tf.TensorSpec([None], tf.string)])\n",
        "def preprocess_fn(bytes_inputs):\n",
        "    decoded_images = tf.map_fn(\n",
        "        _preprocess, bytes_inputs, dtype=tf.float32, back_prop=False\n",
        "    )\n",
        "    return {_CONCRETE_INPUT: decoded_images}\n",
        "\n",
        "\n",
        "def _model_exporter(model: tf.keras.Model):\n",
        "  m_call = tf.function(model.call).get_concrete_function(\n",
        "      [\n",
        "          tf.TensorSpec(\n",
        "              shape=[None, 32, 32, 3], dtype=tf.float32, name=_CONCRETE_INPUT\n",
        "          )\n",
        "      ]\n",
        "  )\n",
        "\n",
        "  @tf.function(input_signature=[tf.TensorSpec([None], tf.string)])\n",
        "  def serving_fn(bytes_inputs):\n",
        "    # This function comes from the Computer Vision book from O'Reilly.\n",
        "    labels = tf.constant(\n",
        "        [\"airplane\", \"automobile\", \"bird\", \"cat\", \"deer\", \"dog\", \"frog\", \"horse\", \"ship\", \"truck\"], dtype=tf.string\n",
        "    )\n",
        "    images = preprocess_fn(bytes_inputs)\n",
        "\n",
        "    probs = m_call(**images)\n",
        "    indices = tf.argmax(probs, axis=1)\n",
        "    pred_source = tf.gather(params=labels, indices=indices)\n",
        "    pred_confidence = tf.reduce_max(probs, axis=1)\n",
        "    return {\"label\": pred_source, \"confidence\": pred_confidence}\n",
        "\n",
        "  return serving_fn\n",
        "\n",
        "def run_fn(fn_args: tfx.components.FnArgs):\n",
        "  print(fn_args)\n",
        "\n",
        "  train_dataset = _input_fn(fn_args.train_files, batch_size=_TRAIN_BATCH_SIZE)\n",
        "  eval_dataset = _input_fn(fn_args.eval_files, batch_size=_EVAL_BATCH_SIZE)\n",
        "\n",
        "  model = _make_keras_model()\n",
        "  model.fit(\n",
        "      train_dataset,\n",
        "      steps_per_epoch=fn_args.train_steps,\n",
        "      validation_data=eval_dataset,\n",
        "      validation_steps=fn_args.eval_steps,\n",
        "      epochs=_EPOCHS,\n",
        "  )  \n",
        "\n",
        "  _, acc = model.evaluate(eval_dataset, steps=fn_args.eval_steps)\n",
        "  logging.info(f\"Validation accuracy: {round(acc * 100, 2)}%\")\n",
        "  # The result of the training should be saved in `fn_args.serving_model_dir`\n",
        "  # directory.\n",
        "  tf.saved_model.save(\n",
        "      model,\n",
        "      fn_args.serving_model_dir,\n",
        "      signatures={\"serving_default\": _model_exporter(model)},\n",
        "  )  "
      ],
      "execution_count": 7,
      "outputs": [
        {
          "output_type": "stream",
          "name": "stdout",
          "text": [
            "Writing trainer.py\n"
          ]
        }
      ]
    },
    {
      "cell_type": "code",
      "metadata": {
        "colab": {
          "base_uri": "https://localhost:8080/"
        },
        "id": "DEPD_70MLf9b",
        "outputId": "36120020-9a1b-4e57-d39c-7d3b93697a2c"
      },
      "source": [
        "!gsutil cp {_trainer_module_file} {MODULE_ROOT}/\n",
        "!gsutil ls -lh {MODULE_ROOT}/"
      ],
      "execution_count": 8,
      "outputs": [
        {
          "output_type": "stream",
          "name": "stdout",
          "text": [
            "Copying file://trainer.py [Content-Type=text/x-python]...\n",
            "/ [1 files][  3.8 KiB/  3.8 KiB]                                                \n",
            "Operation completed over 1 objects/3.8 KiB.                                      \n",
            "   3.8 KiB  2021-10-16T14:22:00Z  gs://cifar10-experimental-csp2/pipeline_module/continuous-adaptation-for-data-changes/trainer.py\n",
            "TOTAL: 1 objects, 3890 bytes (3.8 KiB)\n"
          ]
        }
      ]
    },
    {
      "cell_type": "code",
      "metadata": {
        "colab": {
          "base_uri": "https://localhost:8080/",
          "height": 35
        },
        "id": "uKK1LHdaNIJc",
        "outputId": "74130cba-63c5-474f-c915-6ab3c355a3f3"
      },
      "source": [
        "os.path.join(MODULE_ROOT, _trainer_module_file)"
      ],
      "execution_count": 9,
      "outputs": [
        {
          "output_type": "execute_result",
          "data": {
            "application/vnd.google.colaboratory.intrinsic+json": {
              "type": "string"
            },
            "text/plain": [
              "'gs://cifar10-experimental-csp2/pipeline_module/continuous-adaptation-for-data-changes/trainer.py'"
            ]
          },
          "metadata": {},
          "execution_count": 9
        }
      ]
    },
    {
      "cell_type": "markdown",
      "metadata": {
        "id": "-WTt_mw3cnia"
      },
      "source": [
        "## Custom Vertex Components \n",
        "- basically cloned from [Dual Deployment Project]()"
      ]
    },
    {
      "cell_type": "code",
      "metadata": {
        "id": "T7XUOglgctyb"
      },
      "source": [
        "_vertex_uploader_module_file = 'vertex_uploader.py'\n",
        "_vertex_deployer_module_file = 'vertex_deployer.py'"
      ],
      "execution_count": 10,
      "outputs": []
    },
    {
      "cell_type": "code",
      "metadata": {
        "id": "qnOtYLm6cviP",
        "colab": {
          "base_uri": "https://localhost:8080/"
        },
        "outputId": "5334b065-a124-47ab-91d3-bbff4f470396"
      },
      "source": [
        "%%writefile {_vertex_uploader_module_file}\n",
        "\n",
        "import os\n",
        "import tensorflow as tf\n",
        "\n",
        "from tfx.dsl.component.experimental.decorators import component\n",
        "from tfx.dsl.component.experimental.annotations import Parameter\n",
        "from tfx.types.standard_artifacts import String\n",
        "from google.cloud import aiplatform as vertex_ai\n",
        "from tfx import v1 as tfx\n",
        "from absl import logging\n",
        "\n",
        "\n",
        "@component\n",
        "def VertexUploader(\n",
        "    project: Parameter[str],\n",
        "    region: Parameter[str],\n",
        "    model_display_name: Parameter[str],\n",
        "    pushed_model_location: Parameter[str],\n",
        "    serving_image_uri: Parameter[str],\n",
        "    uploaded_model: tfx.dsl.components.OutputArtifact[String],\n",
        "):\n",
        "\n",
        "    vertex_ai.init(project=project, location=region)\n",
        "\n",
        "    pushed_model_dir = os.path.join(\n",
        "        pushed_model_location, tf.io.gfile.listdir(pushed_model_location)[-1]\n",
        "    )\n",
        "\n",
        "    logging.info(f\"Model registry location: {pushed_model_dir}\")\n",
        "\n",
        "    vertex_model = vertex_ai.Model.upload(\n",
        "        display_name=model_display_name,\n",
        "        artifact_uri=pushed_model_dir,\n",
        "        serving_container_image_uri=serving_image_uri,\n",
        "        parameters_schema_uri=None,\n",
        "        instance_schema_uri=None,\n",
        "        explanation_metadata=None,\n",
        "        explanation_parameters=None,\n",
        "    )\n",
        "\n",
        "    uploaded_model.set_string_custom_property(\n",
        "        \"model_resource_name\", str(vertex_model.resource_name)\n",
        "    )\n",
        "    logging.info(f\"Model resource: {str(vertex_model.resource_name)}\")\n"
      ],
      "execution_count": 11,
      "outputs": [
        {
          "output_type": "stream",
          "name": "stdout",
          "text": [
            "Writing vertex_uploader.py\n"
          ]
        }
      ]
    },
    {
      "cell_type": "code",
      "metadata": {
        "id": "5nUaRKSJczio",
        "colab": {
          "base_uri": "https://localhost:8080/"
        },
        "outputId": "b62b81ae-cc2a-4551-d5a4-751b41bc89bc"
      },
      "source": [
        "%%writefile {_vertex_deployer_module_file}\n",
        "\n",
        "from tfx.dsl.component.experimental.decorators import component\n",
        "from tfx.dsl.component.experimental.annotations import Parameter\n",
        "from tfx.types.standard_artifacts import String\n",
        "from google.cloud import aiplatform as vertex_ai\n",
        "from tfx import v1 as tfx\n",
        "from absl import logging\n",
        "\n",
        "\n",
        "@component\n",
        "def VertexDeployer(\n",
        "    project: Parameter[str],\n",
        "    region: Parameter[str],\n",
        "    model_display_name: Parameter[str],\n",
        "    deployed_model_display_name: Parameter[str],\n",
        "):\n",
        "\n",
        "    logging.info(f\"Endpoint display: {deployed_model_display_name}\")\n",
        "    vertex_ai.init(project=project, location=region)\n",
        "\n",
        "    endpoints = vertex_ai.Endpoint.list(\n",
        "        filter=f\"display_name={deployed_model_display_name}\", order_by=\"update_time\"\n",
        "    )\n",
        "\n",
        "    if len(endpoints) > 0:\n",
        "        logging.info(f\"Endpoint {deployed_model_display_name} already exists.\")\n",
        "        endpoint = endpoints[-1]\n",
        "    else:\n",
        "        endpoint = vertex_ai.Endpoint.create(deployed_model_display_name)\n",
        "\n",
        "    model = vertex_ai.Model.list(\n",
        "        filter=f\"display_name={model_display_name}\", order_by=\"update_time\"\n",
        "    )[-1]\n",
        "\n",
        "    endpoint = vertex_ai.Endpoint.list(\n",
        "        filter=f\"display_name={deployed_model_display_name}\", order_by=\"update_time\"\n",
        "    )[-1]\n",
        "\n",
        "    deployed_model = endpoint.deploy(\n",
        "        model=model,\n",
        "        # Syntax from here: https://git.io/JBQDP\n",
        "        traffic_split={\"0\": 100},\n",
        "        machine_type=\"n1-standard-4\",\n",
        "        min_replica_count=1,\n",
        "        max_replica_count=1,\n",
        "    )\n",
        "\n",
        "    logging.info(f\"Model deployed to: {deployed_model}\")"
      ],
      "execution_count": 12,
      "outputs": [
        {
          "output_type": "stream",
          "name": "stdout",
          "text": [
            "Writing vertex_deployer.py\n"
          ]
        }
      ]
    },
    {
      "cell_type": "code",
      "metadata": {
        "id": "QyR80VnedA9Y"
      },
      "source": [
        "!mkdir -p ./custom_components\n",
        "!touch ./custom_components/__init__.py\n",
        "!cp -r {_vertex_uploader_module_file} {_vertex_deployer_module_file} custom_components"
      ],
      "execution_count": 13,
      "outputs": []
    },
    {
      "cell_type": "code",
      "metadata": {
        "id": "DLXV-aRodEmH",
        "colab": {
          "base_uri": "https://localhost:8080/"
        },
        "outputId": "e23b1a28-a329-470e-9d1b-89ac2fab820b"
      },
      "source": [
        "!ls -lh custom_components"
      ],
      "execution_count": 14,
      "outputs": [
        {
          "output_type": "stream",
          "name": "stdout",
          "text": [
            "total 8.0K\n",
            "-rw-r--r-- 1 root root    0 Oct 16 14:22 __init__.py\n",
            "-rw-r--r-- 1 root root 1.5K Oct 16 14:22 vertex_deployer.py\n",
            "-rw-r--r-- 1 root root 1.4K Oct 16 14:22 vertex_uploader.py\n"
          ]
        }
      ]
    },
    {
      "cell_type": "code",
      "metadata": {
        "id": "5-un8Vj1dGoL",
        "colab": {
          "base_uri": "https://localhost:8080/"
        },
        "outputId": "56471ff8-29a0-49b7-fdd3-137a071f6613"
      },
      "source": [
        "DATASET_DISPLAY_NAME = \"cifar10\"\n",
        "VERSION = \"tfx-1-2-0\"\n",
        "TFX_IMAGE_URI = f\"gcr.io/{GOOGLE_CLOUD_PROJECT}/{DATASET_DISPLAY_NAME}:{VERSION}\"\n",
        "print(f\"URI of the custom image: {TFX_IMAGE_URI}\")"
      ],
      "execution_count": 15,
      "outputs": [
        {
          "output_type": "stream",
          "name": "stdout",
          "text": [
            "URI of the custom image: gcr.io/gcp-ml-172005/cifar10:tfx-1-2-0\n"
          ]
        }
      ]
    },
    {
      "cell_type": "code",
      "metadata": {
        "id": "95lKF_6QdQ4o",
        "colab": {
          "base_uri": "https://localhost:8080/"
        },
        "outputId": "5e4b8876-00f3-4045-c680-c9ed5f35dcd7"
      },
      "source": [
        "%%writefile Dockerfile\n",
        "\n",
        "FROM gcr.io/tfx-oss-public/tfx:1.2.0\n",
        "RUN mkdir -p custom_components\n",
        "COPY custom_components/* ./custom_components/\n",
        "RUN pip install --upgrade google-cloud-aiplatform"
      ],
      "execution_count": null,
      "outputs": [
        {
          "output_type": "stream",
          "name": "stdout",
          "text": [
            "Writing Dockerfile\n"
          ]
        }
      ]
    },
    {
      "cell_type": "code",
      "metadata": {
        "id": "Tc_K3jVCdXE8"
      },
      "source": [
        "!gcloud builds submit --tag $TFX_IMAGE_URI . --timeout=15m --machine-type=e2-highcpu-8"
      ],
      "execution_count": null,
      "outputs": []
    },
    {
      "cell_type": "code",
      "metadata": {
        "id": "twstEC5PdjRq"
      },
      "source": [
        ""
      ],
      "execution_count": null,
      "outputs": []
    },
    {
      "cell_type": "markdown",
      "metadata": {
        "id": "zGJU5sXrrAJW"
      },
      "source": [
        "# Pipeline"
      ]
    },
    {
      "cell_type": "code",
      "metadata": {
        "id": "sEbNM9CeERX2"
      },
      "source": [
        "# Specify training worker configurations. To minimize costs we can even specify two\n",
        "# different configurations: a beefier machine for the Endpoint model and slightly less\n",
        "# powerful machine for the mobile model.\n",
        "TRAINING_JOB_SPEC = {\n",
        "    'project': GOOGLE_CLOUD_PROJECT,\n",
        "    'worker_pool_specs': [{\n",
        "        'machine_spec': {\n",
        "            'machine_type': 'n1-standard-4',\n",
        "            'accelerator_type': 'NVIDIA_TESLA_K80',\n",
        "            'accelerator_count': 1\n",
        "        },\n",
        "        'replica_count': 1,\n",
        "        'container_spec': {\n",
        "            'image_uri': 'gcr.io/tfx-oss-public/tfx:{}'.format(tfx.__version__),\n",
        "        },\n",
        "    }],\n",
        "}"
      ],
      "execution_count": 16,
      "outputs": []
    },
    {
      "cell_type": "code",
      "metadata": {
        "id": "Ivc6LzpVuzKb"
      },
      "source": [
        "SERVING_JOB_SPEC = {\n",
        "    'endpoint_name': PIPELINE_NAME.replace('-','_'),  # '-' is not allowed.\n",
        "    'project_id': GOOGLE_CLOUD_PROJECT,\n",
        "    'min_replica_count': 1,\n",
        "    'max_replica_count': 1,    \n",
        "    'machine_type': 'n1-standard-2',\n",
        "}"
      ],
      "execution_count": 17,
      "outputs": []
    },
    {
      "cell_type": "code",
      "metadata": {
        "id": "lOteqi0td5Vu"
      },
      "source": [
        "from datetime import datetime\n",
        "\n",
        "TIMESTAMP = datetime.now().strftime(\"%Y%m%d%H%M%S\")"
      ],
      "execution_count": 18,
      "outputs": []
    },
    {
      "cell_type": "code",
      "metadata": {
        "id": "EXtVu_w6Achq"
      },
      "source": [
        "import tfx"
      ],
      "execution_count": 19,
      "outputs": []
    },
    {
      "cell_type": "markdown",
      "metadata": {
        "id": "qITdwKUKRZUg"
      },
      "source": [
        "Spanning feature is currently not working in TFX version <= 1.3.0. It will be fixed in the next release. But for now, as a workaround, this notebook uses `utils.calculate_splits_fingerprint_span_and_version` function manually. Also note that `RuntimeParameter` can't be set within `utils.calculate_splits_fingerprint_span_and_version`, so it is not possible to select the range of spans dynamically during the runtime. \n",
        "\n",
        "When the new relase of TFX comes out, this part will be fixed."
      ]
    },
    {
      "cell_type": "code",
      "metadata": {
        "id": "ln1cvbcfphA9"
      },
      "source": [
        "from tfx.orchestration import data_types\n",
        "\n",
        "from tfx import v1 as tfx\n",
        "from tfx.proto import example_gen_pb2, range_config_pb2\n",
        "from tfx.components.example_gen import utils\n",
        "\n",
        "from custom_components.vertex_uploader import VertexUploader\n",
        "from custom_components.vertex_deployer import VertexDeployer\n",
        "\n",
        "def _create_pipeline(\n",
        "    input_config: data_types.RuntimeParameter,\n",
        "    output_config: data_types.RuntimeParameter,\n",
        "    pipeline_name: str,\n",
        "    pipeline_root: str,\n",
        "    data_root: str,\n",
        "    serving_model_dir: str,\n",
        "    trainer_module: str,\n",
        "    project_id: str,\n",
        "    region: str,\n",
        ") -> tfx.dsl.Pipeline:\n",
        "    \"\"\"Creates a three component flowers pipeline with TFX.\"\"\"\n",
        "    example_gen = tfx.components.ImportExampleGen(input_base=data_root,\n",
        "                                                  input_config=input_config,\n",
        "                                                  output_config=output_config)\n",
        "\n",
        "    # Trainer\n",
        "    trainer = tfx.extensions.google_cloud_ai_platform.Trainer(\n",
        "        module_file=trainer_module,\n",
        "        examples=example_gen.outputs[\"examples\"],\n",
        "        train_args=tfx.proto.TrainArgs(splits=['train'], num_steps=50000//64),\n",
        "        eval_args=tfx.proto.EvalArgs(splits=['val'], num_steps=10000//64),\n",
        "        custom_config={\n",
        "            tfx.extensions.google_cloud_ai_platform.ENABLE_VERTEX_KEY: True,\n",
        "            tfx.extensions.google_cloud_ai_platform.VERTEX_REGION_KEY: region,\n",
        "            tfx.extensions.google_cloud_ai_platform.TRAINING_ARGS_KEY: TRAINING_JOB_SPEC,\n",
        "            \"use_gpu\": True,\n",
        "        },        \n",
        "    ).with_id(\"trainer\")\n",
        "\n",
        "    # Pushes the model to a filesystem destination.\n",
        "    pushed_model_location = os.path.join(serving_model_dir, \"resnet50\")\n",
        "    resnet_pusher = tfx.components.Pusher(\n",
        "        model=trainer.outputs[\"model\"],\n",
        "        push_destination=tfx.proto.PushDestination(\n",
        "            filesystem=tfx.proto.PushDestination.Filesystem(\n",
        "                base_directory=pushed_model_location\n",
        "            )\n",
        "        ),\n",
        "    ).with_id(\"resnet_pusher\")\n",
        "\n",
        "    # Vertex AI upload.\n",
        "    model_display_name = \"resnet_cifar_latest\"\n",
        "    uploader = VertexUploader(\n",
        "        project=project_id,\n",
        "        region=region,\n",
        "        model_display_name=model_display_name,\n",
        "        pushed_model_location=pushed_model_location,\n",
        "        serving_image_uri=\"us-docker.pkg.dev/vertex-ai/prediction/tf2-cpu.2-5:latest\",\n",
        "    ).with_id(\"vertex_uploader\")\n",
        "    uploader.add_upstream_node(resnet_pusher)\n",
        "\n",
        "    # Create an endpoint.\n",
        "    deployer = VertexDeployer(\n",
        "        project=project_id,\n",
        "        region=region,\n",
        "        model_display_name=model_display_name,\n",
        "        deployed_model_display_name=model_display_name + \"_\" + TIMESTAMP,\n",
        "    ).with_id(\"vertex_deployer\")\n",
        "    deployer.add_upstream_node(uploader)\n",
        "\n",
        "    # pusher = tfx.extensions.google_cloud_ai_platform.Pusher(\n",
        "    #     model=trainer.outputs['model'],\n",
        "    #     custom_config={\n",
        "    #         tfx.extensions.google_cloud_ai_platform.ENABLE_VERTEX_KEY: True,\n",
        "    #         tfx.extensions.google_cloud_ai_platform.VERTEX_REGION_KEY: region,\n",
        "    #         tfx.extensions.google_cloud_ai_platform.VERTEX_CONTAINER_IMAGE_URI_KEY: 'us-docker.pkg.dev/vertex-ai/prediction/tf2-cpu.2-5:latest',\n",
        "    #         tfx.extensions.google_cloud_ai_platform.SERVING_ARGS_KEY: SERVING_JOB_SPEC\n",
        "    #     }\n",
        "    # ).with_id('pusher')\n",
        "\n",
        "    components = [\n",
        "        example_gen,\n",
        "        trainer,\n",
        "        resnet_pusher,\n",
        "        uploader,\n",
        "        deployer,\n",
        "    ]\n",
        "\n",
        "    return tfx.dsl.Pipeline(\n",
        "        pipeline_name=pipeline_name, \n",
        "        pipeline_root=pipeline_root,\n",
        "        components=components,\n",
        "        enable_cache=True,\n",
        "    )\n"
      ],
      "execution_count": 42,
      "outputs": []
    },
    {
      "cell_type": "markdown",
      "metadata": {
        "id": "IFdlslfOX54z"
      },
      "source": [
        "## Compile the pipeline"
      ]
    },
    {
      "cell_type": "code",
      "metadata": {
        "id": "-AY5Z2tbsbwE"
      },
      "source": [
        "import os\n",
        "\n",
        "PIPELINE_DEFINITION_FILE = PIPELINE_NAME + '_pipeline.json'\n",
        "\n",
        "# Important: We need to pass the custom Docker image URI to the\n",
        "# `KubeflowV2DagRunnerConfig` to take effect.\n",
        "runner = tfx.orchestration.experimental.KubeflowV2DagRunner(\n",
        "    config=tfx.orchestration.experimental.KubeflowV2DagRunnerConfig(default_image=TFX_IMAGE_URI),\n",
        "    output_filename=PIPELINE_DEFINITION_FILE)\n",
        "\n",
        "_ = runner.run(\n",
        "    _create_pipeline(\n",
        "        input_config=tfx.dsl.experimental.RuntimeParameter(\n",
        "            name='input-config',\n",
        "            default='{\"input_config\": {\"splits\": [{\"name\":\"train\", \"pattern\":\"span-1/train/tfrecord\"}, {\"name\":\"val\", \"pattern\":\"span-1/test/tfrecord\"}]}}',\n",
        "            ptype=str,\n",
        "        ),\n",
        "        output_config=tfx.dsl.experimental.RuntimeParameter(\n",
        "            name='output-config',\n",
        "            default='{}',\n",
        "            ptype=str,\n",
        "        ),\n",
        "        pipeline_name=PIPELINE_NAME,\n",
        "        pipeline_root=PIPELINE_ROOT,\n",
        "        data_root=DATA_ROOT,\n",
        "        serving_model_dir=SERVING_MODEL_DIR,\n",
        "        trainer_module=os.path.join(MODULE_ROOT, _trainer_module_file),\n",
        "        project_id=GOOGLE_CLOUD_PROJECT,\n",
        "        region=GOOGLE_CLOUD_REGION\n",
        "    )\n",
        ")"
      ],
      "execution_count": 43,
      "outputs": []
    },
    {
      "cell_type": "code",
      "metadata": {
        "id": "oCSQ98YN-F6v",
        "colab": {
          "base_uri": "https://localhost:8080/"
        },
        "outputId": "d82ffbb8-7320-420d-9983-2f3b7476f075"
      },
      "source": [
        "!gsutil cp {PIPELINE_DEFINITION_FILE} {PIPELINE_ROOT}/\n",
        "!gsutil ls -lh {PIPELINE_ROOT}/"
      ],
      "execution_count": 48,
      "outputs": [
        {
          "output_type": "stream",
          "name": "stdout",
          "text": [
            "Copying file://continuous-adaptation-for-data-changes_pipeline.json [Content-Type=application/json]...\n",
            "/ [1 files][  8.7 KiB/  8.7 KiB]                                                \n",
            "Operation completed over 1 objects/8.7 KiB.                                      \n",
            "  8.69 KiB  2021-10-16T15:51:22Z  gs://cifar10-experimental-csp2/pipeline_root/continuous-adaptation-for-data-changes/continuous-adaptation-for-data-changes_pipeline.json\n",
            "                                 gs://cifar10-experimental-csp2/pipeline_root/continuous-adaptation-for-data-changes/874401645461/\n",
            "TOTAL: 1 objects, 8896 bytes (8.69 KiB)\n"
          ]
        }
      ]
    },
    {
      "cell_type": "markdown",
      "metadata": {
        "id": "ocHBJaR_X7x2"
      },
      "source": [
        "## Submit the pipeline for execution to Vertex AI\n",
        "\n",
        "Generally, it's a good idea to first do a local run of the end-to-end pipeline before submitting it an online orchestrator. We can use `tfx.orchestration.LocalDagRunner()` for that but for the purposes of this notebook we won't be doing that. "
      ]
    },
    {
      "cell_type": "code",
      "metadata": {
        "colab": {
          "base_uri": "https://localhost:8080/"
        },
        "id": "3elrtDOus83z",
        "outputId": "cb8af6dc-ed37-447a-e8a6-5aefed30211e"
      },
      "source": [
        "from kfp.v2.google import client\n",
        "\n",
        "pipelines_client = client.AIPlatformClient(\n",
        "    project_id=GOOGLE_CLOUD_PROJECT,\n",
        "    region=GOOGLE_CLOUD_REGION,\n",
        ")"
      ],
      "execution_count": 27,
      "outputs": [
        {
          "output_type": "stream",
          "name": "stderr",
          "text": [
            "WARNING:google.auth._default:No project ID could be determined. Consider running `gcloud config set project` or setting the GOOGLE_CLOUD_PROJECT environment variable\n"
          ]
        }
      ]
    },
    {
      "cell_type": "code",
      "metadata": {
        "id": "TiSaBREqfa86",
        "outputId": "9b0addc0-9677-4202-9ffb-128485972bc1",
        "colab": {
          "base_uri": "https://localhost:8080/",
          "height": 34
        }
      },
      "source": [
        "import json\n",
        "from tfx.orchestration import data_types\n",
        "\n",
        "_ = pipelines_client.create_run_from_job_spec(PIPELINE_DEFINITION_FILE, \n",
        "                                              enable_caching=False,\n",
        "                                              parameter_values={\n",
        "                                                  'input-config': json.dumps({\n",
        "                                                        'splits': [\n",
        "                                                          {'name': 'train', 'pattern': 'span-[12]/train/*.tfrecord'},\n",
        "                                                          {'name': 'val', 'pattern': 'span-[12]/test/*.tfrecord'}\n",
        "                                                        ]\n",
        "                                                  }),\n",
        "                                                  'output-config': json.dumps({})\n",
        "                                              })"
      ],
      "execution_count": 47,
      "outputs": [
        {
          "output_type": "display_data",
          "data": {
            "text/html": [
              "See the Pipeline job <a href=\"https://console.cloud.google.com/vertex-ai/locations/us-central1/pipelines/runs/continuous-adaptation-for-data-changes-20211016152310?project=gcp-ml-172005\" target=\"_blank\" >here</a>."
            ],
            "text/plain": [
              "<IPython.core.display.HTML object>"
            ]
          },
          "metadata": {}
        }
      ]
    },
    {
      "cell_type": "code",
      "metadata": {
        "id": "wvZWYHfRCwFz"
      },
      "source": [
        ""
      ],
      "execution_count": null,
      "outputs": []
    }
  ]
}