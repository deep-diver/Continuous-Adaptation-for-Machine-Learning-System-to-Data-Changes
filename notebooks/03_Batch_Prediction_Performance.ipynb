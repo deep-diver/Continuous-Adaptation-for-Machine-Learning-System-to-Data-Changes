{
  "nbformat": 4,
  "nbformat_minor": 0,
  "metadata": {
    "orig_nbformat": 4,
    "colab": {
      "name": "03_Batch_Prediction_Performance.ipynb",
      "provenance": [],
      "include_colab_link": true
    },
    "language_info": {
      "name": "python"
    },
    "kernelspec": {
      "name": "python3",
      "display_name": "Python 3"
    }
  },
  "cells": [
    {
      "cell_type": "markdown",
      "metadata": {
        "id": "view-in-github",
        "colab_type": "text"
      },
      "source": [
        "<a href=\"https://colab.research.google.com/github/deep-diver/Continuous-Adaptation-for-Machine-Learning-System-to-Data-Changes/blob/main/notebooks/03_Batch_Prediction_Performance.ipynb\" target=\"_parent\"><img src=\"https://colab.research.google.com/assets/colab-badge.svg\" alt=\"Open In Colab\"/></a>"
      ]
    },
    {
      "cell_type": "markdown",
      "metadata": {
        "id": "msGXve8btxnH"
      },
      "source": [
        "## Outline\n",
        "1. Prepare data for data drift simulation\n",
        "2. Upload the data to the designated GCS bucket\n",
        "  - The data is stored in GCS bucket to simulate a real world scenario. In reality, data is collected in a central location(i.e. GCS bucket), and it will be used measure the model performance. We can measure the model performance much more reliable on a batch data than a single data(online)\n",
        "3. Measure the model performance on the data \n",
        "4. If we find any degradation on the model, it will trigger the pipeline to re-learn the data (including the previous data)"
      ]
    },
    {
      "cell_type": "code",
      "metadata": {
        "id": "heCy5KIqGmN5"
      },
      "source": [
        "!pip install -q --upgrade google-cloud-aiplatform\n",
        "!pip install -q --upgrade google-cloud-storage"
      ],
      "execution_count": 21,
      "outputs": []
    },
    {
      "cell_type": "code",
      "metadata": {
        "colab": {
          "base_uri": "https://localhost:8080/"
        },
        "id": "P28WFWH2GpwG",
        "outputId": "722815da-315d-4e1e-dc4b-b121ec397f8a"
      },
      "source": [
        "!gcloud init"
      ],
      "execution_count": 3,
      "outputs": [
        {
          "output_type": "stream",
          "name": "stdout",
          "text": [
            "ㄷ\n",
            "Welcome! This command will take you through the configuration of gcloud.\n",
            "\n",
            "Settings from your current configuration [default] are:\n",
            "component_manager:\n",
            "  disable_update_check: 'True'\n",
            "compute:\n",
            "  gce_metadata_read_timeout_sec: '0'\n",
            "\n",
            "Pick configuration to use:\n",
            " [1] Re-initialize this configuration [default] with new settings \n",
            " [2] Create a new configuration\n",
            "Please enter your numeric choice:  Please enter a value between 1 and 2:  2\n",
            "\n",
            "Enter configuration name. Names start with a lower case letter and \n",
            "contain only lower case letters a-z, digits 0-9, and hyphens '-':  gde\n",
            "Your current configuration has been set to: [gde]\n",
            "\n",
            "You can skip diagnostics next time by using the following flag:\n",
            "  gcloud init --skip-diagnostics\n",
            "\n",
            "Network diagnostic detects and fixes local network connection issues.\n",
            "Reachability Check passed.\n",
            "Network diagnostic passed (1/1 checks passed).\n",
            "\n",
            "You must log in to continue. Would you like to log in (Y/n)?  Y\n",
            "\n",
            "Go to the following link in your browser:\n",
            "\n",
            "    https://accounts.google.com/o/oauth2/auth?response_type=code&client_id=32555940559.apps.googleusercontent.com&redirect_uri=urn%3Aietf%3Awg%3Aoauth%3A2.0%3Aoob&scope=openid+https%3A%2F%2Fwww.googleapis.com%2Fauth%2Fuserinfo.email+https%3A%2F%2Fwww.googleapis.com%2Fauth%2Fcloud-platform+https%3A%2F%2Fwww.googleapis.com%2Fauth%2Fappengine.admin+https%3A%2F%2Fwww.googleapis.com%2Fauth%2Fcompute+https%3A%2F%2Fwww.googleapis.com%2Fauth%2Faccounts.reauth&state=h6DlitWzvUW9jpxlo7XQedSLfGoCRf&prompt=consent&access_type=offline&code_challenge=DlZbHm-n_YVf4J10Y1oAa_bpa-2J4M5vJzky1s0C56E&code_challenge_method=S256\n",
            "\n",
            "Enter verification code: 4/1AX4XfWggjaf6qgj0S2NG_vXRXtc1LcLzNhsVa9WKX8PB7XAM-XQaEWrR214\n",
            "\n",
            "\n",
            "To take a quick anonymous survey, run:\n",
            "  $ gcloud survey\n",
            "\n",
            "You are logged in as: [chansung.tester.1007@gmail.com].\n",
            "\n",
            "Pick cloud project to use: \n",
            " [1] central-hangar-321813\n",
            " [2] Create a new project\n",
            "Please enter numeric choice or text value (must exactly match list \n",
            "item):  Y\n",
            "Please enter a value between 1 and 2, or a value present in the list:  1\n",
            "\n",
            "Your current project has been set to: [central-hangar-321813].\n",
            "\n",
            "Do you want to configure a default Compute Region and Zone? (Y/n)?  Y\n",
            "\n",
            "Which Google Compute Engine zone would you like to use as project \n",
            "default?\n",
            "If you do not specify a zone via a command line flag while working \n",
            "with Compute Engine resources, the default is assumed.\n",
            " [1] us-east1-b\n",
            " [2] us-east1-c\n",
            " [3] us-east1-d\n",
            " [4] us-east4-c\n",
            " [5] us-east4-b\n",
            " [6] us-east4-a\n",
            " [7] us-central1-c\n",
            " [8] us-central1-a\n",
            " [9] us-central1-f\n",
            " [10] us-central1-b\n",
            " [11] us-west1-b\n",
            " [12] us-west1-c\n",
            " [13] us-west1-a\n",
            " [14] europe-west4-a\n",
            " [15] europe-west4-b\n",
            " [16] europe-west4-c\n",
            " [17] europe-west1-b\n",
            " [18] europe-west1-d\n",
            " [19] europe-west1-c\n",
            " [20] europe-west3-c\n",
            " [21] europe-west3-a\n",
            " [22] europe-west3-b\n",
            " [23] europe-west2-c\n",
            " [24] europe-west2-b\n",
            " [25] europe-west2-a\n",
            " [26] asia-east1-b\n",
            " [27] asia-east1-a\n",
            " [28] asia-east1-c\n",
            " [29] asia-southeast1-b\n",
            " [30] asia-southeast1-a\n",
            " [31] asia-southeast1-c\n",
            " [32] asia-northeast1-b\n",
            " [33] asia-northeast1-c\n",
            " [34] asia-northeast1-a\n",
            " [35] asia-south1-c\n",
            " [36] asia-south1-b\n",
            " [37] asia-south1-a\n",
            " [38] australia-southeast1-b\n",
            " [39] australia-southeast1-c\n",
            " [40] australia-southeast1-a\n",
            " [41] southamerica-east1-b\n",
            " [42] southamerica-east1-c\n",
            " [43] southamerica-east1-a\n",
            " [44] asia-east2-a\n",
            " [45] asia-east2-b\n",
            " [46] asia-east2-c\n",
            " [47] asia-northeast2-a\n",
            " [48] asia-northeast2-b\n",
            " [49] asia-northeast2-c\n",
            " [50] asia-northeast3-a\n",
            "Did not print [36] options.\n",
            "Too many options [86]. Enter \"list\" at prompt to print choices fully.\n",
            "Please enter numeric choice or text value (must exactly match list \n",
            "item):  8\n",
            "\n",
            "Your project default Compute Engine zone has been set to [us-central1-a].\n",
            "You can change it by running [gcloud config set compute/zone NAME].\n",
            "\n",
            "Your project default Compute Engine region has been set to [us-central1].\n",
            "You can change it by running [gcloud config set compute/region NAME].\n",
            "\n",
            "Your Google Cloud SDK is configured and ready to use!\n",
            "\n",
            "* Commands that require authentication will use chansung.tester.1007@gmail.com by default\n",
            "* Commands will reference project `central-hangar-321813` by default\n",
            "* Compute Engine commands will use region `us-central1` by default\n",
            "* Compute Engine commands will use zone `us-central1-a` by default\n",
            "\n",
            "Run `gcloud help config` to learn how to change individual settings\n",
            "\n",
            "This gcloud configuration is called [gde]. You can create additional configurations if you work with multiple accounts and/or projects.\n",
            "Run `gcloud topic configurations` to learn more.\n",
            "\n",
            "Some things to try next:\n",
            "\n",
            "* Run `gcloud --help` to see the Cloud Platform services you can interact with. And run `gcloud help COMMAND` to get help on any gcloud command.\n",
            "* Run `gcloud topic --help` to learn about advanced features of the SDK like arg files and output formatting\n"
          ]
        }
      ]
    },
    {
      "cell_type": "code",
      "metadata": {
        "id": "6v_P4FAjGuGf"
      },
      "source": [
        "from google.colab import auth\n",
        "auth.authenticate_user()"
      ],
      "execution_count": 44,
      "outputs": []
    },
    {
      "cell_type": "code",
      "metadata": {
        "id": "2Y4ZMVcLHHkX"
      },
      "source": [
        "GOOGLE_CLOUD_PROJECT = 'central-hangar-321813'    #@param {type:\"string\"}\n",
        "GOOGLE_CLOUD_REGION = 'us-central1'             #@param {type:\"string\"}\n",
        "\n",
        "MODEL_NAME = 'resnet_cifar_latest' #@param {type:\"string\"}\n",
        "\n",
        "TEST_FILENAME = 'test-images.txt' #@param {type:\"string\"}\n",
        "TEST_GCS_BUCKET = 'gs://batch-prediction-collection' #@param {type:\"string\"}\n",
        "TEST_LOCAL_PATH = 'Continuous-Adaptation-for-Machine-Learning-System-to-Data-Changes/notebooks/test-images' #@param {type:\"string\"}\n"
      ],
      "execution_count": 57,
      "outputs": []
    },
    {
      "cell_type": "code",
      "metadata": {
        "id": "fa7pOkvgHTM-"
      },
      "source": [
        ""
      ],
      "execution_count": null,
      "outputs": []
    },
    {
      "cell_type": "code",
      "metadata": {
        "colab": {
          "base_uri": "https://localhost:8080/"
        },
        "id": "KHcBvji7Rbrs",
        "outputId": "31cefc83-90c1-4568-87b3-66e1bfba6384"
      },
      "source": [
        "!git clone https://github.com/deep-diver/Continuous-Adaptation-for-Machine-Learning-System-to-Data-Changes.git"
      ],
      "execution_count": 12,
      "outputs": [
        {
          "output_type": "stream",
          "name": "stdout",
          "text": [
            "Cloning into 'Continuous-Adaptation-for-Machine-Learning-System-to-Data-Changes'...\n",
            "remote: Enumerating objects: 100, done.\u001b[K\n",
            "remote: Counting objects: 100% (100/100), done.\u001b[K\n",
            "remote: Compressing objects: 100% (78/78), done.\u001b[K\n",
            "remote: Total 100 (delta 59), reused 38 (delta 21), pack-reused 0\u001b[K\n",
            "Receiving objects: 100% (100/100), 57.61 KiB | 14.40 MiB/s, done.\n",
            "Resolving deltas: 100% (59/59), done.\n"
          ]
        }
      ]
    },
    {
      "cell_type": "code",
      "metadata": {
        "colab": {
          "base_uri": "https://localhost:8080/"
        },
        "id": "GDexvxTXRfWH",
        "outputId": "2bd5f4d9-588d-414e-e819-0f8969034e29"
      },
      "source": [
        "from os import listdir\n",
        "\n",
        "test_files = listdir(TEST_LOCAL_PATH)\n",
        "test_files"
      ],
      "execution_count": 58,
      "outputs": [
        {
          "output_type": "execute_result",
          "data": {
            "text/plain": [
              "['frog_0000.jpg',\n",
              " 'truck_0000.jpg',\n",
              " 'dog_0000.jpg',\n",
              " 'cat_0000.jpg',\n",
              " 'ship_0000.jpg',\n",
              " 'deer_0000.jpg',\n",
              " 'bird_0000.jpg',\n",
              " 'horse_0000.jpg',\n",
              " 'automobile_0000.jpg',\n",
              " 'airplane_0000.jpg']"
            ]
          },
          "metadata": {},
          "execution_count": 58
        }
      ]
    },
    {
      "cell_type": "code",
      "metadata": {
        "id": "OJR9wy6GXyJv"
      },
      "source": [
        "f = open(TEST_FILENAME, \"w\")\n",
        "\n",
        "for filename in test_files:\n",
        "  f.write(f'{TEST_GCS_BUCKET}/{filename}\\n')\n",
        "\n",
        "f.close()"
      ],
      "execution_count": 64,
      "outputs": []
    },
    {
      "cell_type": "code",
      "metadata": {
        "colab": {
          "base_uri": "https://localhost:8080/"
        },
        "id": "mmRePB6aYRfR",
        "outputId": "2ea2566d-a1a0-4dae-c7ef-6152ea6f79cc"
      },
      "source": [
        "!cat {TEST_FILENAME}"
      ],
      "execution_count": 65,
      "outputs": [
        {
          "output_type": "stream",
          "name": "stdout",
          "text": [
            "gs://batch-prediction-collection/frog_0000.jpg\n",
            "gs://batch-prediction-collection/truck_0000.jpg\n",
            "gs://batch-prediction-collection/dog_0000.jpg\n",
            "gs://batch-prediction-collection/cat_0000.jpg\n",
            "gs://batch-prediction-collection/ship_0000.jpg\n",
            "gs://batch-prediction-collection/deer_0000.jpg\n",
            "gs://batch-prediction-collection/bird_0000.jpg\n",
            "gs://batch-prediction-collection/horse_0000.jpg\n",
            "gs://batch-prediction-collection/automobile_0000.jpg\n",
            "gs://batch-prediction-collection/airplane_0000.jpg\n"
          ]
        }
      ]
    },
    {
      "cell_type": "code",
      "metadata": {
        "colab": {
          "base_uri": "https://localhost:8080/"
        },
        "id": "WdeuJt5YYVPw",
        "outputId": "d34b6904-a954-4a25-ba64-58d560f063f3"
      },
      "source": [
        "!gsutil -m cp -r {TEST_FILENAME} {TEST_GCS_BUCKET}\n",
        "!gsutil -m cp -r {TEST_LOCAL_PATH}/*.jpg {TEST_GCS_BUCKET}"
      ],
      "execution_count": 66,
      "outputs": [
        {
          "output_type": "stream",
          "name": "stdout",
          "text": [
            "Copying file://test-images.txt [Content-Type=text/plain]...\n",
            "/ [0/1 files][    0.0 B/  480.0 B]   0% Done                                    \r/ [1/1 files][  480.0 B/  480.0 B] 100% Done                                    \r\n",
            "Operation completed over 1 objects/480.0 B.                                      \n",
            "Copying file://Continuous-Adaptation-for-Machine-Learning-System-to-Data-Changes/notebooks/test-images/dog_0000.jpg [Content-Type=image/jpeg]...\n",
            "Copying file://Continuous-Adaptation-for-Machine-Learning-System-to-Data-Changes/notebooks/test-images/automobile_0000.jpg [Content-Type=image/jpeg]...\n",
            "Copying file://Continuous-Adaptation-for-Machine-Learning-System-to-Data-Changes/notebooks/test-images/cat_0000.jpg [Content-Type=image/jpeg]...\n",
            "Copying file://Continuous-Adaptation-for-Machine-Learning-System-to-Data-Changes/notebooks/test-images/frog_0000.jpg [Content-Type=image/jpeg]...\n",
            "Copying file://Continuous-Adaptation-for-Machine-Learning-System-to-Data-Changes/notebooks/test-images/bird_0000.jpg [Content-Type=image/jpeg]...\n",
            "Copying file://Continuous-Adaptation-for-Machine-Learning-System-to-Data-Changes/notebooks/test-images/airplane_0000.jpg [Content-Type=image/jpeg]...\n",
            "Copying file://Continuous-Adaptation-for-Machine-Learning-System-to-Data-Changes/notebooks/test-images/horse_0000.jpg [Content-Type=image/jpeg]...\n",
            "Copying file://Continuous-Adaptation-for-Machine-Learning-System-to-Data-Changes/notebooks/test-images/deer_0000.jpg [Content-Type=image/jpeg]...\n",
            "Copying file://Continuous-Adaptation-for-Machine-Learning-System-to-Data-Changes/notebooks/test-images/truck_0000.jpg [Content-Type=image/jpeg]...\n",
            "Copying file://Continuous-Adaptation-for-Machine-Learning-System-to-Data-Changes/notebooks/test-images/ship_0000.jpg [Content-Type=image/jpeg]...\n",
            "/ [10/10 files][  9.2 KiB/  9.2 KiB] 100% Done                                  \n",
            "Operation completed over 10 objects/9.2 KiB.                                     \n"
          ]
        }
      ]
    },
    {
      "cell_type": "code",
      "metadata": {
        "id": "-mVFSRUQHdEj"
      },
      "source": [
        "import google.cloud.aiplatform as aiplatform\n",
        "from google.protobuf import json_format\n",
        "from google.protobuf.json_format import MessageToJson, ParseDict\n",
        "from google.protobuf.struct_pb2 import Struct, Value"
      ],
      "execution_count": 3,
      "outputs": []
    },
    {
      "cell_type": "code",
      "metadata": {
        "id": "GmkgE-WRMVBu"
      },
      "source": [
        ""
      ],
      "execution_count": null,
      "outputs": []
    },
    {
      "cell_type": "code",
      "metadata": {
        "id": "z_0QXPfcHc3p"
      },
      "source": [
        "from typing import Union, Sequence\n",
        "\n",
        "def create_batch_prediction_job_dedicated_resources_sample(\n",
        "    project: str,\n",
        "    location: str,\n",
        "    model_resource_name: str,\n",
        "    job_display_name: str,\n",
        "    gcs_source: Union[str, Sequence[str]],\n",
        "    gcs_destination: str,\n",
        "    instances_format: str = \"file-list\",\n",
        "    machine_type: str = \"n1-standard-2\",\n",
        "    accelerator_count: int = 1,\n",
        "    accelerator_type: str = \"NVIDIA_TESLA_K80\",\n",
        "    starting_replica_count: int = 1,\n",
        "    max_replica_count: int = 1,\n",
        "    sync: bool = True,\n",
        "):\n",
        "    aiplatform.init(project=project, location=location)\n",
        "\n",
        "    my_model = aiplatform.Model(model_resource_name)\n",
        "\n",
        "    batch_prediction_job = my_model.batch_predict(\n",
        "        job_display_name=job_display_name,\n",
        "        instances_format=instances_format,\n",
        "        gcs_source=gcs_source,\n",
        "        gcs_destination_prefix=gcs_destination,\n",
        "        machine_type=machine_type,\n",
        "        accelerator_count=accelerator_count,\n",
        "        accelerator_type=accelerator_type,\n",
        "        starting_replica_count=starting_replica_count,\n",
        "        max_replica_count=max_replica_count,\n",
        "        sync=sync,\n",
        "    )\n",
        "\n",
        "    batch_prediction_job.wait()\n",
        "\n",
        "    print(batch_prediction_job.display_name)\n",
        "    print(batch_prediction_job.resource_name)\n",
        "    print(batch_prediction_job.state)\n",
        "    return batch_prediction_job"
      ],
      "execution_count": 68,
      "outputs": []
    },
    {
      "cell_type": "code",
      "metadata": {
        "id": "BkAJqucqaw_r"
      },
      "source": [
        "from datetime import datetime\n",
        "\n",
        "TIMESTAMP = datetime.now().strftime(\"%Y%m%d%H%M%S\")"
      ],
      "execution_count": 69,
      "outputs": []
    },
    {
      "cell_type": "code",
      "metadata": {
        "colab": {
          "base_uri": "https://localhost:8080/"
        },
        "id": "Hb1g6qdNLTfP",
        "outputId": "442d7ada-b10f-456b-b2e4-7ccb7df86e5a"
      },
      "source": [
        "create_batch_prediction_job_dedicated_resources_sample(\n",
        "    project=GOOGLE_CLOUD_PROJECT, \n",
        "    location=GOOGLE_CLOUD_REGION,\n",
        "    model_resource_name='2008244793993330688',\n",
        "    job_display_name=f'{MODEL_NAME}-{TIMESTAMP}',\n",
        "    gcs_source=[f'{TEST_GCS_BUCKET}/{TEST_FILENAME}'],\n",
        "    gcs_destination=f'{TEST_GCS_BUCKET}/results/',\n",
        "    accelerator_type=None,\n",
        "    accelerator_count=None\n",
        ")"
      ],
      "execution_count": 70,
      "outputs": [
        {
          "output_type": "stream",
          "name": "stdout",
          "text": [
            "INFO:google.cloud.aiplatform.jobs:Creating BatchPredictionJob\n",
            "INFO:google.cloud.aiplatform.jobs:BatchPredictionJob created. Resource name: projects/31482268105/locations/us-central1/batchPredictionJobs/1680882799009071104\n",
            "INFO:google.cloud.aiplatform.jobs:To use this BatchPredictionJob in another session:\n",
            "INFO:google.cloud.aiplatform.jobs:bpj = aiplatform.BatchPredictionJob('projects/31482268105/locations/us-central1/batchPredictionJobs/1680882799009071104')\n",
            "INFO:google.cloud.aiplatform.jobs:View Batch Prediction Job:\n",
            "https://console.cloud.google.com/ai/platform/locations/us-central1/batch-predictions/1680882799009071104?project=31482268105\n",
            "INFO:google.cloud.aiplatform.jobs:BatchPredictionJob projects/31482268105/locations/us-central1/batchPredictionJobs/1680882799009071104 current state:\n",
            "JobState.JOB_STATE_RUNNING\n",
            "INFO:google.cloud.aiplatform.jobs:BatchPredictionJob projects/31482268105/locations/us-central1/batchPredictionJobs/1680882799009071104 current state:\n",
            "JobState.JOB_STATE_RUNNING\n",
            "INFO:google.cloud.aiplatform.jobs:BatchPredictionJob projects/31482268105/locations/us-central1/batchPredictionJobs/1680882799009071104 current state:\n",
            "JobState.JOB_STATE_RUNNING\n",
            "INFO:google.cloud.aiplatform.jobs:BatchPredictionJob projects/31482268105/locations/us-central1/batchPredictionJobs/1680882799009071104 current state:\n",
            "JobState.JOB_STATE_RUNNING\n",
            "INFO:google.cloud.aiplatform.jobs:BatchPredictionJob projects/31482268105/locations/us-central1/batchPredictionJobs/1680882799009071104 current state:\n",
            "JobState.JOB_STATE_RUNNING\n",
            "INFO:google.cloud.aiplatform.jobs:BatchPredictionJob projects/31482268105/locations/us-central1/batchPredictionJobs/1680882799009071104 current state:\n",
            "JobState.JOB_STATE_RUNNING\n",
            "INFO:google.cloud.aiplatform.jobs:BatchPredictionJob projects/31482268105/locations/us-central1/batchPredictionJobs/1680882799009071104 current state:\n",
            "JobState.JOB_STATE_RUNNING\n",
            "INFO:google.cloud.aiplatform.jobs:BatchPredictionJob projects/31482268105/locations/us-central1/batchPredictionJobs/1680882799009071104 current state:\n",
            "JobState.JOB_STATE_RUNNING\n",
            "INFO:google.cloud.aiplatform.jobs:BatchPredictionJob projects/31482268105/locations/us-central1/batchPredictionJobs/1680882799009071104 current state:\n",
            "JobState.JOB_STATE_SUCCEEDED\n",
            "INFO:google.cloud.aiplatform.jobs:BatchPredictionJob run completed. Resource name: projects/31482268105/locations/us-central1/batchPredictionJobs/1680882799009071104\n",
            "resnet_cifar_latest-20210917022404\n",
            "projects/31482268105/locations/us-central1/batchPredictionJobs/1680882799009071104\n",
            "JobState.JOB_STATE_SUCCEEDED\n"
          ]
        },
        {
          "output_type": "execute_result",
          "data": {
            "text/plain": [
              "<google.cloud.aiplatform.jobs.BatchPredictionJob object at 0x7f6598844910> \n",
              "resource name: projects/31482268105/locations/us-central1/batchPredictionJobs/1680882799009071104"
            ]
          },
          "metadata": {},
          "execution_count": 70
        }
      ]
    },
    {
      "cell_type": "code",
      "metadata": {
        "colab": {
          "base_uri": "https://localhost:8080/"
        },
        "id": "b9Hz7CVqbE5o",
        "outputId": "08df5dd9-79b1-458b-aa63-b393eee60238"
      },
      "source": [
        "import os\n",
        "import json\n",
        "\n",
        "RESULTS_DIRECTORY = \"results\"\n",
        "RESULTS_DIRECTORY_FULL = f'{TEST_GCS_BUCKET}/{RESULTS_DIRECTORY}'\n",
        "\n",
        "# Create missing directories\n",
        "os.makedirs(RESULTS_DIRECTORY, exist_ok=True)\n",
        "\n",
        "# Get the Cloud Storage paths for each result\n",
        "!gsutil -m cp -r $RESULTS_DIRECTORY_FULL $RESULTS_DIRECTORY\n",
        "\n",
        "# Get most recently modified directory\n",
        "latest_directory = max(\n",
        "    [\n",
        "        os.path.join(RESULTS_DIRECTORY, d)\n",
        "        for d in os.listdir(RESULTS_DIRECTORY)\n",
        "    ],\n",
        "    key=os.path.getmtime,\n",
        ")\n",
        "\n",
        "# Get downloaded results in directory\n",
        "results_files = []\n",
        "for dirpath, subdirs, files in os.walk(latest_directory):\n",
        "    for file in files:\n",
        "        if file.startswith(\"prediction.results\"):\n",
        "            results_files.append(os.path.join(dirpath, file))\n",
        "\n",
        "# Consolidate all the results into a list\n",
        "results = []\n",
        "for results_file in results_files:\n",
        "    # Download each result\n",
        "    with open(results_file, \"r\") as file:\n",
        "        results.extend([json.loads(line) for line in file.readlines()])"
      ],
      "execution_count": 72,
      "outputs": [
        {
          "output_type": "stream",
          "name": "stdout",
          "text": [
            "Copying gs://batch-prediction-collection/results/prediction-resnet_cifar_latest-2021_09_16T19_24_05_801Z/prediction.results-00000-of-00001...\n",
            "/ [0/6 files][    0.0 B/  1.3 KiB]   0% Done                                    \rCopying gs://batch-prediction-collection/results/prediction-resnet_cifar_latest-2021_09_16T18_47_39_122Z/prediction.results-00000-of-00001...\n",
            "/ [0/6 files][    0.0 B/  1.3 KiB]   0% Done                                    \rCopying gs://batch-prediction-collection/results/prediction-resnet_cifar_latest-2021_09_16T18_47_39_122Z/prediction.errors_stats-00000-of-00001...\n",
            "/ [0/6 files][    0.0 B/  1.3 KiB]   0% Done                                    \rCopying gs://batch-prediction-collection/results/prediction-resnet_cifar_latest-2021_09_16T19_23_55_003Z/prediction.errors_stats-00000-of-00001...\n",
            "/ [0/6 files][    0.0 B/  1.3 KiB]   0% Done                                    \r/ [1/6 files][    0.0 B/  1.3 KiB]   0% Done                                    \rCopying gs://batch-prediction-collection/results/prediction-resnet_cifar_latest-2021_09_16T19_23_55_003Z/prediction.results-00000-of-00001...\n",
            "Copying gs://batch-prediction-collection/results/prediction-resnet_cifar_latest-2021_09_16T19_24_05_801Z/prediction.errors_stats-00000-of-00001...\n",
            "/ [6/6 files][  1.3 KiB/  1.3 KiB] 100% Done                                    \n",
            "Operation completed over 6 objects/1.3 KiB.                                      \n"
          ]
        }
      ]
    },
    {
      "cell_type": "code",
      "metadata": {
        "colab": {
          "base_uri": "https://localhost:8080/"
        },
        "id": "aCHYk8L0p6ED",
        "outputId": "ca9348c1-db4e-43e2-cf41-1a066d727389"
      },
      "source": [
        "results"
      ],
      "execution_count": 73,
      "outputs": [
        {
          "output_type": "execute_result",
          "data": {
            "text/plain": [
              "[{'instance': 'gs://batch-prediction-collection/airplane_0000.jpg',\n",
              "  'prediction': {'confidence': 0.635806859, 'label': 'ship'}},\n",
              " {'instance': 'gs://batch-prediction-collection/cat_0000.jpg',\n",
              "  'prediction': {'confidence': 0.514597297, 'label': 'cat'}},\n",
              " {'instance': 'gs://batch-prediction-collection/ship_0000.jpg',\n",
              "  'prediction': {'confidence': 0.944843113, 'label': 'ship'}},\n",
              " {'instance': 'gs://batch-prediction-collection/bird_0000.jpg',\n",
              "  'prediction': {'confidence': 0.710508406, 'label': 'horse'}},\n",
              " {'instance': 'gs://batch-prediction-collection/truck_0000.jpg',\n",
              "  'prediction': {'confidence': 0.980968714, 'label': 'truck'}},\n",
              " {'instance': 'gs://batch-prediction-collection/frog_0000.jpg',\n",
              "  'prediction': {'confidence': 0.696931422, 'label': 'frog'}},\n",
              " {'instance': 'gs://batch-prediction-collection/dog_0000.jpg',\n",
              "  'prediction': {'confidence': 0.382295936, 'label': 'cat'}},\n",
              " {'instance': 'gs://batch-prediction-collection/deer_0000.jpg',\n",
              "  'prediction': {'confidence': 0.437720776, 'label': 'dog'}},\n",
              " {'instance': 'gs://batch-prediction-collection/automobile_0000.jpg',\n",
              "  'prediction': {'confidence': 0.460335433, 'label': 'automobile'}},\n",
              " {'instance': 'gs://batch-prediction-collection/horse_0000.jpg',\n",
              "  'prediction': {'confidence': 0.918733776, 'label': 'dog'}}]"
            ]
          },
          "metadata": {},
          "execution_count": 73
        }
      ]
    },
    {
      "cell_type": "code",
      "metadata": {
        "colab": {
          "base_uri": "https://localhost:8080/"
        },
        "id": "g-6UdwcKqDKO",
        "outputId": "4545ebf3-71fa-477f-8c51-1068a6d65226"
      },
      "source": [
        "num_correct = 0\n",
        "\n",
        "for result in results:\n",
        "  label = os.path.basename(result['instance']).split(\"_\")[0]\n",
        "  prediction = result['prediction']['label']\n",
        "\n",
        "  print(f'label({label})/prediction({prediction})')\n",
        "  if label == prediction: \n",
        "    num_correct = num_correct + 1\n",
        "\n",
        "print()\n",
        "print(f'number of results: {len(results)}')\n",
        "print(f'number of correct: {num_correct}')\n",
        "print(f'Accuracy: {num_correct/len(results)}')"
      ],
      "execution_count": 83,
      "outputs": [
        {
          "output_type": "stream",
          "name": "stdout",
          "text": [
            "label(airplane)/prediction(ship)\n",
            "label(cat)/prediction(cat)\n",
            "label(ship)/prediction(ship)\n",
            "label(bird)/prediction(horse)\n",
            "label(truck)/prediction(truck)\n",
            "label(frog)/prediction(frog)\n",
            "label(dog)/prediction(cat)\n",
            "label(deer)/prediction(dog)\n",
            "label(automobile)/prediction(automobile)\n",
            "label(horse)/prediction(dog)\n",
            "\n",
            "number of results: 10\n",
            "number of correct: 5\n",
            "Accuracy: 0.5\n"
          ]
        }
      ]
    },
    {
      "cell_type": "code",
      "metadata": {
        "id": "rqGzTU7IqeOE"
      },
      "source": [
        ""
      ],
      "execution_count": null,
      "outputs": []
    }
  ]
}