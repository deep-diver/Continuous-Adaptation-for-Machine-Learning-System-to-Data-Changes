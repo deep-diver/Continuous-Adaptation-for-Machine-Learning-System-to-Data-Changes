{
  "nbformat": 4,
  "nbformat_minor": 0,
  "metadata": {
    "orig_nbformat": 4,
    "language_info": {
      "name": "python"
    },
    "colab": {
      "name": "03_Batch_Prediction_Performance.ipynb",
      "provenance": [],
      "include_colab_link": true
    }
  },
  "cells": [
    {
      "cell_type": "markdown",
      "metadata": {
        "id": "view-in-github",
        "colab_type": "text"
      },
      "source": [
        "<a href=\"https://colab.research.google.com/github/deep-diver/Continuous-Adaptation-for-Machine-Learning-System-to-Data-Changes/blob/main/notebooks/03_Batch_Prediction_Performance.ipynb\" target=\"_parent\"><img src=\"https://colab.research.google.com/assets/colab-badge.svg\" alt=\"Open In Colab\"/></a>"
      ]
    },
    {
      "cell_type": "markdown",
      "metadata": {
        "id": "msGXve8btxnH"
      },
      "source": [
        "## Outline\n",
        "1. Prepare data for data drift simulation\n",
        "2. Upload the data to the designated GCS bucket\n",
        "  - The data is stored in GCS bucket to simulate a real world scenario. In reality, data is collected in a central location(i.e. GCS bucket), and it will be used measure the model performance. We can measure the model performance much more reliable on a batch data than a single data(online)\n",
        "3. Measure the model performance on the data \n",
        "4. If we find any degradation on the model, it will trigger the pipeline to re-learn the data (including the previous data)"
      ]
    },
    {
      "cell_type": "markdown",
      "metadata": {
        "id": "W7dBccaOtxnJ"
      },
      "source": [
        ""
      ]
    }
  ]
}