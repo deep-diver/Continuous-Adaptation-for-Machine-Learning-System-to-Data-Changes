{
 "cells": [
  {
   "cell_type": "markdown",
   "source": [
    "## Outline\n",
    "1. Prepare handful amount of test data\n",
    "2. Setup GCS bucket\n",
    "3. Upload the test data to the GCS bucket\n",
    "- \n",
    "4. Measure the model performance on the test data"
   ],
   "metadata": {}
  },
  {
   "cell_type": "markdown",
   "source": [],
   "metadata": {}
  }
 ],
 "metadata": {
  "orig_nbformat": 4,
  "language_info": {
   "name": "python"
  }
 },
 "nbformat": 4,
 "nbformat_minor": 2
}