{
 "cells": [
  {
   "cell_type": "markdown",
   "source": [
    "## Batch Prediction Pipeline\n",
    "\n",
    "The main purpose of this notebook is to build KFP pipeline doing the following steps\n",
    "1. Create an batch request input file (file list format) based on the files uploaded to a GCS bucket\n",
    "2. Run Batch Prediction on the trained model obtained from [02_TFX_Training_Pipeline.ipynb](https://github.com/deep-diver/Continuous-Adaptation-for-Machine-Learning-System-to-Data-Changes/blob/main/notebooks/02_TFX_Training_Pipeline.ipynb)\n",
    "3. Measure the batch prediction model performance in terms of accuracy\n",
    "4. If model performance < threshold\n",
    "  - Copy the testing images to the original(previous) dataset\n",
    "  - Trigger the TFX training pipeline with original data + newly added data\n",
    "\n",
    "The functional test for batch prediction is shown in a separate notebook, [98_Batch_Prediction_Test.ipynb](https://github.com/deep-diver/Continuous-Adaptation-for-Machine-Learning-System-to-Data-Changes/blob/main/notebooks/98_Batch_Prediction_Test.ipynb)."
   ],
   "metadata": {}
  },
  {
   "cell_type": "code",
   "execution_count": null,
   "source": [],
   "outputs": [],
   "metadata": {}
  }
 ],
 "metadata": {
  "orig_nbformat": 4,
  "language_info": {
   "name": "python"
  }
 },
 "nbformat": 4,
 "nbformat_minor": 2
}