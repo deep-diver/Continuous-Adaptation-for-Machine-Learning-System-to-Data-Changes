{
  "nbformat": 4,
  "nbformat_minor": 0,
  "metadata": {
    "orig_nbformat": 4,
    "colab": {
      "name": "03_Batch_Prediction_Pipeline.ipynb",
      "provenance": [],
      "include_colab_link": true
    },
    "language_info": {
      "name": "python"
    },
    "kernelspec": {
      "name": "python3",
      "display_name": "Python 3"
    }
  },
  "cells": [
    {
      "cell_type": "markdown",
      "metadata": {
        "id": "view-in-github",
        "colab_type": "text"
      },
      "source": [
        "<a href=\"https://colab.research.google.com/github/deep-diver/Continuous-Adaptation-for-Machine-Learning-System-to-Data-Changes/blob/main/notebooks/03_Batch_Prediction_Pipeline.ipynb\" target=\"_parent\"><img src=\"https://colab.research.google.com/assets/colab-badge.svg\" alt=\"Open In Colab\"/></a>"
      ]
    },
    {
      "cell_type": "markdown",
      "metadata": {
        "id": "UKqBUdDXK2IF"
      },
      "source": [
        "## Batch Prediction Pipeline\n",
        "\n",
        "The main purpose of this notebook is to build KFP pipeline doing the following steps\n",
        "1. Create an batch request input file (file list format) based on the files uploaded to a GCS bucket\n",
        "2. Run Batch Prediction on the trained model obtained from [02_TFX_Training_Pipeline.ipynb](https://github.com/deep-diver/Continuous-Adaptation-for-Machine-Learning-System-to-Data-Changes/blob/main/notebooks/02_TFX_Training_Pipeline.ipynb)\n",
        "3. Measure the batch prediction model performance in terms of accuracy\n",
        "4. If model performance < threshold\n",
        "  - Copy the testing images to the original(previous) dataset\n",
        "  - Trigger the TFX training pipeline with original data + newly added data\n",
        "\n",
        "The functional test for batch prediction is shown in a separate notebook, [98_Batch_Prediction_Test.ipynb](https://github.com/deep-diver/Continuous-Adaptation-for-Machine-Learning-System-to-Data-Changes/blob/main/notebooks/98_Batch_Prediction_Test.ipynb)."
      ]
    },
    {
      "cell_type": "markdown",
      "metadata": {
        "id": "RuQerdmAK38q"
      },
      "source": [
        "## Setup"
      ]
    },
    {
      "cell_type": "code",
      "metadata": {
        "id": "tNC8roxxK3j5",
        "outputId": "f4d3a54d-2b28-40be-8385-0f4747b24b1f",
        "colab": {
          "base_uri": "https://localhost:8080/"
        }
      },
      "source": [
        "!pip install fastdot\n",
        "!pip install -q --upgrade google-cloud-aiplatform\n",
        "!pip install -q --upgrade google-cloud-storage"
      ],
      "execution_count": 2,
      "outputs": [
        {
          "output_type": "stream",
          "name": "stdout",
          "text": [
            "Collecting fastdot\n",
            "  Downloading fastdot-0.1.4-py3-none-any.whl (10 kB)\n",
            "Collecting dataclasses\n",
            "  Downloading dataclasses-0.6-py3-none-any.whl (14 kB)\n",
            "Requirement already satisfied: packaging in /usr/local/lib/python3.7/dist-packages (from fastdot) (21.0)\n",
            "Requirement already satisfied: matplotlib in /usr/local/lib/python3.7/dist-packages (from fastdot) (3.2.2)\n",
            "Requirement already satisfied: pydot in /usr/local/lib/python3.7/dist-packages (from fastdot) (1.3.0)\n",
            "Collecting fastcore\n",
            "  Downloading fastcore-1.3.26-py3-none-any.whl (56 kB)\n",
            "\u001b[K     |████████████████████████████████| 56 kB 3.6 MB/s \n",
            "\u001b[?25hRequirement already satisfied: pip in /usr/local/lib/python3.7/dist-packages (from fastdot) (21.1.3)\n",
            "Requirement already satisfied: kiwisolver>=1.0.1 in /usr/local/lib/python3.7/dist-packages (from matplotlib->fastdot) (1.3.2)\n",
            "Requirement already satisfied: python-dateutil>=2.1 in /usr/local/lib/python3.7/dist-packages (from matplotlib->fastdot) (2.8.2)\n",
            "Requirement already satisfied: cycler>=0.10 in /usr/local/lib/python3.7/dist-packages (from matplotlib->fastdot) (0.10.0)\n",
            "Requirement already satisfied: pyparsing!=2.0.4,!=2.1.2,!=2.1.6,>=2.0.1 in /usr/local/lib/python3.7/dist-packages (from matplotlib->fastdot) (2.4.7)\n",
            "Requirement already satisfied: numpy>=1.11 in /usr/local/lib/python3.7/dist-packages (from matplotlib->fastdot) (1.19.5)\n",
            "Requirement already satisfied: six in /usr/local/lib/python3.7/dist-packages (from cycler>=0.10->matplotlib->fastdot) (1.15.0)\n",
            "Installing collected packages: fastcore, dataclasses, fastdot\n",
            "Successfully installed dataclasses-0.6 fastcore-1.3.26 fastdot-0.1.4\n",
            "\u001b[K     |████████████████████████████████| 1.4 MB 7.2 MB/s \n",
            "\u001b[K     |████████████████████████████████| 105 kB 44.0 MB/s \n",
            "\u001b[K     |████████████████████████████████| 42 kB 1.7 MB/s \n",
            "\u001b[K     |████████████████████████████████| 105 kB 66.7 MB/s \n",
            "\u001b[K     |████████████████████████████████| 105 kB 73.3 MB/s \n",
            "\u001b[K     |████████████████████████████████| 105 kB 67.8 MB/s \n",
            "\u001b[K     |████████████████████████████████| 104 kB 58.1 MB/s \n",
            "\u001b[K     |████████████████████████████████| 104 kB 70.1 MB/s \n",
            "\u001b[K     |████████████████████████████████| 103 kB 70.7 MB/s \n",
            "\u001b[K     |████████████████████████████████| 103 kB 72.5 MB/s \n",
            "\u001b[K     |████████████████████████████████| 103 kB 63.4 MB/s \n",
            "\u001b[K     |████████████████████████████████| 103 kB 87.0 MB/s \n",
            "\u001b[K     |████████████████████████████████| 97 kB 7.7 MB/s \n",
            "\u001b[K     |████████████████████████████████| 97 kB 7.6 MB/s \n",
            "\u001b[K     |████████████████████████████████| 97 kB 8.7 MB/s \n",
            "\u001b[K     |████████████████████████████████| 96 kB 6.0 MB/s \n",
            "\u001b[K     |████████████████████████████████| 96 kB 6.4 MB/s \n",
            "\u001b[K     |████████████████████████████████| 96 kB 6.5 MB/s \n",
            "\u001b[K     |████████████████████████████████| 92 kB 14.2 MB/s \n",
            "\u001b[K     |████████████████████████████████| 92 kB 14.3 MB/s \n",
            "\u001b[K     |████████████████████████████████| 201 kB 88.9 MB/s \n",
            "\u001b[K     |████████████████████████████████| 200 kB 72.7 MB/s \n",
            "\u001b[K     |████████████████████████████████| 200 kB 58.9 MB/s \n",
            "\u001b[K     |████████████████████████████████| 200 kB 64.6 MB/s \n",
            "\u001b[K     |████████████████████████████████| 198 kB 70.0 MB/s \n",
            "\u001b[K     |████████████████████████████████| 198 kB 71.3 MB/s \n",
            "\u001b[K     |████████████████████████████████| 196 kB 64.8 MB/s \n",
            "\u001b[K     |████████████████████████████████| 196 kB 65.0 MB/s \n",
            "\u001b[K     |████████████████████████████████| 196 kB 67.3 MB/s \n",
            "\u001b[K     |████████████████████████████████| 196 kB 59.9 MB/s \n",
            "\u001b[K     |████████████████████████████████| 195 kB 57.6 MB/s \n",
            "\u001b[K     |████████████████████████████████| 194 kB 71.0 MB/s \n",
            "\u001b[K     |████████████████████████████████| 193 kB 89.3 MB/s \n",
            "\u001b[K     |████████████████████████████████| 75 kB 5.5 MB/s \n",
            "\u001b[K     |████████████████████████████████| 189 kB 66.1 MB/s \n",
            "\u001b[K     |████████████████████████████████| 188 kB 64.9 MB/s \n",
            "\u001b[K     |████████████████████████████████| 188 kB 65.9 MB/s \n",
            "\u001b[31mERROR: pip's dependency resolver does not currently take into account all the packages that are installed. This behaviour is the source of the following dependency conflicts.\n",
            "pandas-gbq 0.13.3 requires google-cloud-bigquery[bqstorage,pandas]<2.0.0dev,>=1.11.1, but you have google-cloud-bigquery 2.18.0 which is incompatible.\u001b[0m\n",
            "\u001b[K     |████████████████████████████████| 92 kB 488 kB/s \n",
            "\u001b[K     |████████████████████████████████| 93 kB 1.8 MB/s \n",
            "\u001b[?25h"
          ]
        }
      ]
    },
    {
      "cell_type": "code",
      "metadata": {
        "id": "9UKtYc2IK2II"
      },
      "source": [
        "!gcloud init"
      ],
      "execution_count": null,
      "outputs": []
    },
    {
      "cell_type": "code",
      "metadata": {
        "id": "Fd9CvkmRLFdu"
      },
      "source": [
        "from google.colab import auth\n",
        "auth.authenticate_user()"
      ],
      "execution_count": null,
      "outputs": []
    },
    {
      "cell_type": "code",
      "metadata": {
        "id": "9ypKeY5-LIL2"
      },
      "source": [
        ""
      ],
      "execution_count": null,
      "outputs": []
    },
    {
      "cell_type": "markdown",
      "metadata": {
        "id": "omrlUvFbLXsv"
      },
      "source": [
        "## Custom TFX Components"
      ]
    },
    {
      "cell_type": "code",
      "metadata": {
        "id": "7zMGdk-lM7QX",
        "colab": {
          "base_uri": "https://localhost:8080/",
          "height": 153
        },
        "cellView": "form",
        "outputId": "0ff4fa93-2a68-4f81-912a-fd6cec2c6354"
      },
      "source": [
        "#@title\n",
        "from fastdot.core import *\n",
        "\n",
        "tfx_components = ['FileListGen', 'BatchPredictionGen', 'ModelPerformanceGen', 'PipelineTrigger']\n",
        "block = 'TFX Component Workflow'\n",
        "\n",
        "g = graph_items(seq_cluster(tfx_components, block))\n",
        "g"
      ],
      "execution_count": 3,
      "outputs": [
        {
          "output_type": "execute_result",
          "data": {
            "text/plain": [
              "<pydot.Dot at 0x7f765f69c450>"
            ],
            "image/svg+xml": "<?xml version=\"1.0\" encoding=\"UTF-8\" standalone=\"no\"?>\n<!DOCTYPE svg PUBLIC \"-//W3C//DTD SVG 1.1//EN\"\n \"http://www.w3.org/Graphics/SVG/1.1/DTD/svg11.dtd\">\n<!-- Generated by graphviz version 2.40.1 (20161225.0304)\n -->\n<!-- Title: G Pages: 1 -->\n<svg width=\"619pt\" height=\"99pt\"\n viewBox=\"0.00 0.00 619.00 99.00\" xmlns=\"http://www.w3.org/2000/svg\" xmlns:xlink=\"http://www.w3.org/1999/xlink\">\n<g id=\"graph0\" class=\"graph\" transform=\"scale(1 1) rotate(0) translate(4 95)\">\n<title>G</title>\n<polygon fill=\"#ffffff\" stroke=\"transparent\" points=\"-4,4 -4,-95 615,-95 615,4 -4,4\"/>\n<g id=\"clust1\" class=\"cluster\">\n<title>cluster_n6083dea8db984102a9242848a85fea29</title>\n<g id=\"a_clust1\"><a xlink:title=\"TFX Component Workflow\">\n<path fill=\"#555555\" fill-opacity=\"0.133333\" stroke=\"#000000\" d=\"M20,-8C20,-8 591,-8 591,-8 597,-8 603,-14 603,-20 603,-20 603,-71 603,-71 603,-77 597,-83 591,-83 591,-83 20,-83 20,-83 14,-83 8,-77 8,-71 8,-71 8,-20 8,-20 8,-14 14,-8 20,-8\"/>\n<text text-anchor=\"middle\" x=\"305.5\" y=\"-67.8\" font-family=\"Times,serif\" font-size=\"14.00\" fill=\"#000000\">TFX Component Workflow</text>\n</a>\n</g>\n</g>\n<!-- n52a3a28223de41ffa0cf19215d4e2e95 -->\n<g id=\"node1\" class=\"node\">\n<title>n52a3a28223de41ffa0cf19215d4e2e95</title>\n<g id=\"a_node1\"><a xlink:title=\"FileListGen\">\n<path fill=\"#fcb763\" fill-opacity=\"0.168627\" stroke=\"#000000\" d=\"M88,-52C88,-52 28,-52 28,-52 22,-52 16,-46 16,-40 16,-40 16,-28 16,-28 16,-22 22,-16 28,-16 28,-16 88,-16 88,-16 94,-16 100,-22 100,-28 100,-28 100,-40 100,-40 100,-46 94,-52 88,-52\"/>\n<text text-anchor=\"middle\" x=\"58\" y=\"-30.3\" font-family=\"Times,serif\" font-size=\"14.00\" fill=\"#000000\">FileListGen</text>\n</a>\n</g>\n</g>\n<!-- n456a5b7a3a964b9eb7217ea3a7d22784 -->\n<g id=\"node2\" class=\"node\">\n<title>n456a5b7a3a964b9eb7217ea3a7d22784</title>\n<g id=\"a_node2\"><a xlink:title=\"BatchPredictionGen\">\n<path fill=\"#82ffb3\" fill-opacity=\"0.690196\" stroke=\"#000000\" d=\"M256,-52C256,-52 148,-52 148,-52 142,-52 136,-46 136,-40 136,-40 136,-28 136,-28 136,-22 142,-16 148,-16 148,-16 256,-16 256,-16 262,-16 268,-22 268,-28 268,-28 268,-40 268,-40 268,-46 262,-52 256,-52\"/>\n<text text-anchor=\"middle\" x=\"202\" y=\"-30.3\" font-family=\"Times,serif\" font-size=\"14.00\" fill=\"#000000\">BatchPredictionGen</text>\n</a>\n</g>\n</g>\n<!-- n52a3a28223de41ffa0cf19215d4e2e95&#45;&gt;n456a5b7a3a964b9eb7217ea3a7d22784 -->\n<g id=\"edge1\" class=\"edge\">\n<title>n52a3a28223de41ffa0cf19215d4e2e95&#45;&gt;n456a5b7a3a964b9eb7217ea3a7d22784</title>\n<path fill=\"none\" stroke=\"#000000\" d=\"M100.0379,-34C108.0929,-34 116.7569,-34 125.5097,-34\"/>\n<polygon fill=\"#000000\" stroke=\"#000000\" points=\"125.7944,-37.5001 135.7944,-34 125.7943,-30.5001 125.7944,-37.5001\"/>\n</g>\n<!-- nbe61a844a951492fbdd284707c81910d -->\n<g id=\"node3\" class=\"node\">\n<title>nbe61a844a951492fbdd284707c81910d</title>\n<g id=\"a_node3\"><a xlink:title=\"ModelPerformanceGen\">\n<path fill=\"#ff532a\" fill-opacity=\"0.207843\" stroke=\"#000000\" d=\"M442,-52C442,-52 316,-52 316,-52 310,-52 304,-46 304,-40 304,-40 304,-28 304,-28 304,-22 310,-16 316,-16 316,-16 442,-16 442,-16 448,-16 454,-22 454,-28 454,-28 454,-40 454,-40 454,-46 448,-52 442,-52\"/>\n<text text-anchor=\"middle\" x=\"379\" y=\"-30.3\" font-family=\"Times,serif\" font-size=\"14.00\" fill=\"#000000\">ModelPerformanceGen</text>\n</a>\n</g>\n</g>\n<!-- n456a5b7a3a964b9eb7217ea3a7d22784&#45;&gt;nbe61a844a951492fbdd284707c81910d -->\n<g id=\"edge2\" class=\"edge\">\n<title>n456a5b7a3a964b9eb7217ea3a7d22784&#45;&gt;nbe61a844a951492fbdd284707c81910d</title>\n<path fill=\"none\" stroke=\"#000000\" d=\"M268.16,-34C276.5585,-34 285.2441,-34 293.8867,-34\"/>\n<polygon fill=\"#000000\" stroke=\"#000000\" points=\"293.9927,-37.5001 303.9927,-34 293.9927,-30.5001 293.9927,-37.5001\"/>\n</g>\n<!-- nef536d93d09a43f2bbab67ef1b2ed96b -->\n<g id=\"node4\" class=\"node\">\n<title>nef536d93d09a43f2bbab67ef1b2ed96b</title>\n<g id=\"a_node4\"><a xlink:title=\"PipelineTrigger\">\n<path fill=\"#84ffb2\" fill-opacity=\"0.309804\" stroke=\"#000000\" d=\"M583,-52C583,-52 502,-52 502,-52 496,-52 490,-46 490,-40 490,-40 490,-28 490,-28 490,-22 496,-16 502,-16 502,-16 583,-16 583,-16 589,-16 595,-22 595,-28 595,-28 595,-40 595,-40 595,-46 589,-52 583,-52\"/>\n<text text-anchor=\"middle\" x=\"542.5\" y=\"-30.3\" font-family=\"Times,serif\" font-size=\"14.00\" fill=\"#000000\">PipelineTrigger</text>\n</a>\n</g>\n</g>\n<!-- nbe61a844a951492fbdd284707c81910d&#45;&gt;nef536d93d09a43f2bbab67ef1b2ed96b -->\n<g id=\"edge3\" class=\"edge\">\n<title>nbe61a844a951492fbdd284707c81910d&#45;&gt;nef536d93d09a43f2bbab67ef1b2ed96b</title>\n<path fill=\"none\" stroke=\"#000000\" d=\"M454.0506,-34C462.6448,-34 471.3384,-34 479.7481,-34\"/>\n<polygon fill=\"#000000\" stroke=\"#000000\" points=\"479.8394,-37.5001 489.8394,-34 479.8394,-30.5001 479.8394,-37.5001\"/>\n</g>\n</g>\n</svg>\n"
          },
          "metadata": {},
          "execution_count": 3
        }
      ]
    },
    {
      "cell_type": "markdown",
      "metadata": {
        "id": "yN4wUPP4Laqk"
      },
      "source": [
        "### **FileListGen Component [OPTIONAL]**\n",
        "\n",
        "- `FileListGen` will produce a `file list` file that `BatchPredictionGen` will refer to perform batch prediction on Vertex AI\n",
        "- `file list` format can be found [here](https://cloud.google.com/vertex-ai/docs/predictions/batch-predictions)\n",
        "\n",
        "**Spec**\n",
        "- input\n",
        "  - GCS path where the raw files are\n",
        "  - GCS path where the `file list` file will be \n",
        "- output\n",
        "  - GCS path where the `file list` file is"
      ]
    },
    {
      "cell_type": "markdown",
      "metadata": {
        "id": "pQ3mFDaCLgUh"
      },
      "source": [
        "### BatchPredictionGen Component\n",
        "- Behaviour of `BatchPredictionGen` is similar to TFX standard component `BulkInferrer`.\n",
        "- The only difference is we don't need `Model` artifact from `Trainer` but just `model ID` that can be found in `Vertex AI Model` registry.\n",
        "- Predicted results will be fed into the `PerformanceEvaluator` component.\n",
        "\n",
        "**Spec**\n",
        "- input\n",
        "  - GCS path where the TFRecord file is\n",
        "  - model id from Vertex AI Model\n",
        "- output\n",
        "  - predictions"
      ]
    },
    {
      "cell_type": "markdown",
      "metadata": {
        "id": "bjz3oQvTLxPG"
      },
      "source": [
        "### **PerformanceEvaluator Component**\n",
        "- Calculate any performance metrics \n",
        "- Outputs if the model performance is above or below the given threshold\n",
        "\n",
        "**Spec**\n",
        "- input\n",
        "  - predictions\n",
        "  - threshold\n",
        "- output\n",
        "  - `True` or `False` by the threshold"
      ]
    },
    {
      "cell_type": "markdown",
      "metadata": {
        "id": "N79u9i-tL5Jm"
      },
      "source": [
        "### PipelineTrigger Component\n",
        "- Trigger the training pipeline based on the `True` or `False` value by the threshold\n",
        "\n",
        "**Spec**\n",
        "- input\n",
        "  - `True` or `False` by threshold\n",
        "  - pipeline name to be triggered\n",
        "  - GCS path where the pipeline spec is \n",
        "  - GCP project ID\n",
        "  - GCP region\n",
        "- output\n",
        "  - None"
      ]
    },
    {
      "cell_type": "code",
      "metadata": {
        "id": "dnsPuwUNL4R4"
      },
      "source": [
        ""
      ],
      "execution_count": null,
      "outputs": []
    }
  ]
}