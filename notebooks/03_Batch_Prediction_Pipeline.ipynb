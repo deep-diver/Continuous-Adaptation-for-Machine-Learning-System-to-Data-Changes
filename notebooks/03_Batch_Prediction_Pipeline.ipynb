{
  "nbformat": 4,
  "nbformat_minor": 0,
  "metadata": {
    "orig_nbformat": 4,
    "colab": {
      "name": "03_Batch_Prediction_Pipeline.ipynb",
      "provenance": [],
      "include_colab_link": true
    },
    "language_info": {
      "name": "python"
    },
    "kernelspec": {
      "name": "python3",
      "display_name": "Python 3"
    }
  },
  "cells": [
    {
      "cell_type": "markdown",
      "metadata": {
        "id": "view-in-github",
        "colab_type": "text"
      },
      "source": [
        "<a href=\"https://colab.research.google.com/github/deep-diver/Continuous-Adaptation-for-Machine-Learning-System-to-Data-Changes/blob/main/notebooks/03_Batch_Prediction_Pipeline.ipynb\" target=\"_parent\"><img src=\"https://colab.research.google.com/assets/colab-badge.svg\" alt=\"Open In Colab\"/></a>"
      ]
    },
    {
      "cell_type": "markdown",
      "metadata": {
        "id": "UKqBUdDXK2IF"
      },
      "source": [
        "## Batch Prediction Pipeline\n",
        "\n",
        "The main purpose of this notebook is to build KFP pipeline doing the following steps\n",
        "1. Create an batch request input file (file list format) based on the files uploaded to a GCS bucket\n",
        "2. Run Batch Prediction on the trained model obtained from [02_TFX_Training_Pipeline.ipynb](https://github.com/deep-diver/Continuous-Adaptation-for-Machine-Learning-System-to-Data-Changes/blob/main/notebooks/02_TFX_Training_Pipeline.ipynb)\n",
        "3. Measure the batch prediction model performance in terms of accuracy\n",
        "4. If model performance < threshold\n",
        "  - Copy the testing images to the original(previous) dataset\n",
        "  - Trigger the TFX training pipeline with original data + newly added data\n",
        "\n",
        "The functional test for batch prediction is shown in a separate notebook, [98_Batch_Prediction_Test.ipynb](https://github.com/deep-diver/Continuous-Adaptation-for-Machine-Learning-System-to-Data-Changes/blob/main/notebooks/98_Batch_Prediction_Test.ipynb)."
      ]
    },
    {
      "cell_type": "markdown",
      "metadata": {
        "id": "RuQerdmAK38q"
      },
      "source": [
        "## Setup"
      ]
    },
    {
      "cell_type": "code",
      "metadata": {
        "id": "tNC8roxxK3j5",
        "colab": {
          "base_uri": "https://localhost:8080/",
          "height": 1000
        },
        "outputId": "437d9a3a-a22a-4a9e-c841-cc55b5e4ac14"
      },
      "source": [
        "!pip install fastdot\n",
        "!pip install tfx==1.2.0\n",
        "!pip install kfp==1.6.1\n",
        "!pip install -q --upgrade google-cloud-aiplatform\n",
        "!pip install -q --upgrade google-cloud-storage"
      ],
      "execution_count": 77,
      "outputs": [
        {
          "output_type": "stream",
          "name": "stdout",
          "text": [
            "Requirement already satisfied: fastdot in /usr/local/lib/python3.7/dist-packages (0.1.4)\n",
            "Requirement already satisfied: dataclasses in /usr/local/lib/python3.7/dist-packages (from fastdot) (0.6)\n",
            "Requirement already satisfied: packaging in /usr/local/lib/python3.7/dist-packages (from fastdot) (20.9)\n",
            "Requirement already satisfied: matplotlib in /usr/local/lib/python3.7/dist-packages (from fastdot) (3.2.2)\n",
            "Requirement already satisfied: pydot in /usr/local/lib/python3.7/dist-packages (from fastdot) (1.3.0)\n",
            "Requirement already satisfied: pip in /usr/local/lib/python3.7/dist-packages (from fastdot) (21.1.3)\n",
            "Requirement already satisfied: fastcore in /usr/local/lib/python3.7/dist-packages (from fastdot) (1.3.26)\n",
            "Requirement already satisfied: python-dateutil>=2.1 in /usr/local/lib/python3.7/dist-packages (from matplotlib->fastdot) (2.8.2)\n",
            "Requirement already satisfied: cycler>=0.10 in /usr/local/lib/python3.7/dist-packages (from matplotlib->fastdot) (0.10.0)\n",
            "Requirement already satisfied: pyparsing!=2.0.4,!=2.1.2,!=2.1.6,>=2.0.1 in /usr/local/lib/python3.7/dist-packages (from matplotlib->fastdot) (2.4.7)\n",
            "Requirement already satisfied: kiwisolver>=1.0.1 in /usr/local/lib/python3.7/dist-packages (from matplotlib->fastdot) (1.3.2)\n",
            "Requirement already satisfied: numpy>=1.11 in /usr/local/lib/python3.7/dist-packages (from matplotlib->fastdot) (1.19.5)\n",
            "Requirement already satisfied: six in /usr/local/lib/python3.7/dist-packages (from cycler>=0.10->matplotlib->fastdot) (1.15.0)\n",
            "Requirement already satisfied: tfx==1.2.0 in /usr/local/lib/python3.7/dist-packages (1.2.0)\n",
            "Requirement already satisfied: tfx-bsl<1.3.0,>=1.2.0 in /usr/local/lib/python3.7/dist-packages (from tfx==1.2.0) (1.2.0)\n",
            "Requirement already satisfied: tensorflow-transform<1.3.0,>=1.2.0 in /usr/local/lib/python3.7/dist-packages (from tfx==1.2.0) (1.2.0)\n",
            "Requirement already satisfied: apache-beam[gcp]<3,>=2.31 in /usr/local/lib/python3.7/dist-packages (from tfx==1.2.0) (2.32.0)\n",
            "Requirement already satisfied: pyarrow<3,>=1 in /usr/local/lib/python3.7/dist-packages (from tfx==1.2.0) (2.0.0)\n",
            "Requirement already satisfied: numpy<1.20,>=1.16 in /usr/local/lib/python3.7/dist-packages (from tfx==1.2.0) (1.19.5)\n",
            "Requirement already satisfied: click<8,>=7 in /usr/local/lib/python3.7/dist-packages (from tfx==1.2.0) (7.1.2)\n",
            "Requirement already satisfied: grpcio<2,>=1.28.1 in /usr/local/lib/python3.7/dist-packages (from tfx==1.2.0) (1.34.1)\n",
            "Requirement already satisfied: absl-py<0.13,>=0.9 in /usr/local/lib/python3.7/dist-packages (from tfx==1.2.0) (0.12.0)\n",
            "Requirement already satisfied: tensorflow-hub<0.13,>=0.9.0 in /usr/local/lib/python3.7/dist-packages (from tfx==1.2.0) (0.12.0)\n",
            "Requirement already satisfied: google-api-python-client<2,>=1.8 in /usr/local/lib/python3.7/dist-packages (from tfx==1.2.0) (1.12.8)\n",
            "Requirement already satisfied: tensorflow!=2.0.*,!=2.1.*,!=2.2.*,!=2.3.*,!=2.4.*,<2.6,>=1.15.2 in /usr/local/lib/python3.7/dist-packages (from tfx==1.2.0) (2.5.1)\n",
            "Requirement already satisfied: pyyaml<6,>=3.12 in /usr/local/lib/python3.7/dist-packages (from tfx==1.2.0) (3.13)\n",
            "Requirement already satisfied: attrs<21,>=19.3.0 in /usr/local/lib/python3.7/dist-packages (from tfx==1.2.0) (20.3.0)\n",
            "Requirement already satisfied: google-apitools<1,>=0.5 in /usr/local/lib/python3.7/dist-packages (from tfx==1.2.0) (0.5.31)\n",
            "Requirement already satisfied: ml-pipelines-sdk==1.2.0 in /usr/local/lib/python3.7/dist-packages (from tfx==1.2.0) (1.2.0)\n",
            "Collecting google-cloud-aiplatform<0.8,>=0.5.0\n",
            "  Using cached google_cloud_aiplatform-0.7.1-py2.py3-none-any.whl (1.3 MB)\n",
            "Requirement already satisfied: protobuf<4,>=3.13 in /usr/local/lib/python3.7/dist-packages (from tfx==1.2.0) (3.17.3)\n",
            "Requirement already satisfied: tensorflow-serving-api!=2.0.*,!=2.1.*,!=2.2.*,!=2.3.*,!=2.4.*,<3,>=1.15 in /usr/local/lib/python3.7/dist-packages (from tfx==1.2.0) (2.5.2)\n",
            "Requirement already satisfied: docker<5,>=4.1 in /usr/local/lib/python3.7/dist-packages (from tfx==1.2.0) (4.4.4)\n",
            "Requirement already satisfied: tensorflow-model-analysis<0.34,>=0.33 in /usr/local/lib/python3.7/dist-packages (from tfx==1.2.0) (0.33.0)\n",
            "Requirement already satisfied: packaging<21,>=20 in /usr/local/lib/python3.7/dist-packages (from tfx==1.2.0) (20.9)\n",
            "Requirement already satisfied: portpicker<2,>=1.3.1 in /usr/local/lib/python3.7/dist-packages (from tfx==1.2.0) (1.3.9)\n",
            "Requirement already satisfied: kubernetes<13,>=10.0.1 in /usr/local/lib/python3.7/dist-packages (from tfx==1.2.0) (12.0.1)\n",
            "Requirement already satisfied: google-cloud-bigquery<2.21,>=1.28.0 in /usr/local/lib/python3.7/dist-packages (from tfx==1.2.0) (2.18.0)\n",
            "Requirement already satisfied: ml-metadata<1.3.0,>=1.2.0 in /usr/local/lib/python3.7/dist-packages (from tfx==1.2.0) (1.2.0)\n",
            "Requirement already satisfied: jinja2<3,>=2.7.3 in /usr/local/lib/python3.7/dist-packages (from tfx==1.2.0) (2.11.3)\n",
            "Requirement already satisfied: tensorflow-data-validation<1.3.0,>=1.2.0 in /usr/local/lib/python3.7/dist-packages (from tfx==1.2.0) (1.2.0)\n",
            "Requirement already satisfied: keras-tuner<1.0.2,>=1 in /usr/local/lib/python3.7/dist-packages (from tfx==1.2.0) (1.0.1)\n",
            "Requirement already satisfied: six in /usr/local/lib/python3.7/dist-packages (from absl-py<0.13,>=0.9->tfx==1.2.0) (1.15.0)\n",
            "Requirement already satisfied: future<1.0.0,>=0.18.2 in /usr/local/lib/python3.7/dist-packages (from apache-beam[gcp]<3,>=2.31->tfx==1.2.0) (0.18.2)\n",
            "Requirement already satisfied: avro-python3!=1.9.2,<1.10.0,>=1.8.1 in /usr/local/lib/python3.7/dist-packages (from apache-beam[gcp]<3,>=2.31->tfx==1.2.0) (1.9.2.1)\n",
            "Requirement already satisfied: pymongo<4.0.0,>=3.8.0 in /usr/local/lib/python3.7/dist-packages (from apache-beam[gcp]<3,>=2.31->tfx==1.2.0) (3.12.0)\n",
            "Requirement already satisfied: crcmod<2.0,>=1.7 in /usr/local/lib/python3.7/dist-packages (from apache-beam[gcp]<3,>=2.31->tfx==1.2.0) (1.7)\n",
            "Requirement already satisfied: httplib2<0.20.0,>=0.8 in /usr/local/lib/python3.7/dist-packages (from apache-beam[gcp]<3,>=2.31->tfx==1.2.0) (0.17.4)\n",
            "Requirement already satisfied: oauth2client<5,>=2.0.1 in /usr/local/lib/python3.7/dist-packages (from apache-beam[gcp]<3,>=2.31->tfx==1.2.0) (4.1.3)\n",
            "Requirement already satisfied: fastavro<2,>=0.21.4 in /usr/local/lib/python3.7/dist-packages (from apache-beam[gcp]<3,>=2.31->tfx==1.2.0) (1.4.4)\n",
            "Requirement already satisfied: orjson<4.0 in /usr/local/lib/python3.7/dist-packages (from apache-beam[gcp]<3,>=2.31->tfx==1.2.0) (3.6.3)\n",
            "Requirement already satisfied: pytz>=2018.3 in /usr/local/lib/python3.7/dist-packages (from apache-beam[gcp]<3,>=2.31->tfx==1.2.0) (2018.9)\n",
            "Requirement already satisfied: hdfs<3.0.0,>=2.1.0 in /usr/local/lib/python3.7/dist-packages (from apache-beam[gcp]<3,>=2.31->tfx==1.2.0) (2.6.0)\n",
            "Requirement already satisfied: dill<0.3.2,>=0.3.1.1 in /usr/local/lib/python3.7/dist-packages (from apache-beam[gcp]<3,>=2.31->tfx==1.2.0) (0.3.1.1)\n",
            "Requirement already satisfied: python-dateutil<3,>=2.8.0 in /usr/local/lib/python3.7/dist-packages (from apache-beam[gcp]<3,>=2.31->tfx==1.2.0) (2.8.2)\n",
            "Requirement already satisfied: typing-extensions<3.8.0,>=3.7.0 in /usr/local/lib/python3.7/dist-packages (from apache-beam[gcp]<3,>=2.31->tfx==1.2.0) (3.7.4.3)\n",
            "Requirement already satisfied: requests<3.0.0,>=2.24.0 in /usr/local/lib/python3.7/dist-packages (from apache-beam[gcp]<3,>=2.31->tfx==1.2.0) (2.26.0)\n",
            "Requirement already satisfied: pydot<2,>=1.2.0 in /usr/local/lib/python3.7/dist-packages (from apache-beam[gcp]<3,>=2.31->tfx==1.2.0) (1.3.0)\n",
            "Requirement already satisfied: google-cloud-pubsub<2,>=0.39.0 in /usr/local/lib/python3.7/dist-packages (from apache-beam[gcp]<3,>=2.31->tfx==1.2.0) (1.7.0)\n",
            "Requirement already satisfied: google-cloud-recommendations-ai<=0.2.0,>=0.1.0 in /usr/local/lib/python3.7/dist-packages (from apache-beam[gcp]<3,>=2.31->tfx==1.2.0) (0.2.0)\n",
            "Requirement already satisfied: grpcio-gcp<1,>=0.2.2 in /usr/local/lib/python3.7/dist-packages (from apache-beam[gcp]<3,>=2.31->tfx==1.2.0) (0.2.2)\n",
            "Requirement already satisfied: google-cloud-vision<2,>=0.38.0 in /usr/local/lib/python3.7/dist-packages (from apache-beam[gcp]<3,>=2.31->tfx==1.2.0) (1.0.0)\n",
            "Requirement already satisfied: google-cloud-language<2,>=1.3.0 in /usr/local/lib/python3.7/dist-packages (from apache-beam[gcp]<3,>=2.31->tfx==1.2.0) (1.3.0)\n",
            "Requirement already satisfied: google-cloud-core<2,>=0.28.1 in /usr/local/lib/python3.7/dist-packages (from apache-beam[gcp]<3,>=2.31->tfx==1.2.0) (1.7.2)\n",
            "Requirement already satisfied: cachetools<5,>=3.1.0 in /usr/local/lib/python3.7/dist-packages (from apache-beam[gcp]<3,>=2.31->tfx==1.2.0) (4.2.2)\n",
            "Requirement already satisfied: google-cloud-bigtable<2,>=0.31.1 in /usr/local/lib/python3.7/dist-packages (from apache-beam[gcp]<3,>=2.31->tfx==1.2.0) (1.7.0)\n",
            "Requirement already satisfied: google-cloud-spanner<2,>=1.13.0 in /usr/local/lib/python3.7/dist-packages (from apache-beam[gcp]<3,>=2.31->tfx==1.2.0) (1.19.1)\n",
            "Requirement already satisfied: google-cloud-datastore<2,>=1.8.0 in /usr/local/lib/python3.7/dist-packages (from apache-beam[gcp]<3,>=2.31->tfx==1.2.0) (1.8.0)\n",
            "Requirement already satisfied: google-cloud-videointelligence<2,>=1.8.0 in /usr/local/lib/python3.7/dist-packages (from apache-beam[gcp]<3,>=2.31->tfx==1.2.0) (1.16.1)\n",
            "Requirement already satisfied: google-auth<2,>=1.18.0 in /usr/local/lib/python3.7/dist-packages (from apache-beam[gcp]<3,>=2.31->tfx==1.2.0) (1.35.0)\n",
            "Requirement already satisfied: google-cloud-dlp<2,>=0.12.0 in /usr/local/lib/python3.7/dist-packages (from apache-beam[gcp]<3,>=2.31->tfx==1.2.0) (1.0.0)\n",
            "Requirement already satisfied: websocket-client>=0.32.0 in /usr/local/lib/python3.7/dist-packages (from docker<5,>=4.1->tfx==1.2.0) (1.2.1)\n",
            "Requirement already satisfied: google-api-core<2dev,>=1.21.0 in /usr/local/lib/python3.7/dist-packages (from google-api-python-client<2,>=1.8->tfx==1.2.0) (1.31.2)\n",
            "Requirement already satisfied: uritemplate<4dev,>=3.0.0 in /usr/local/lib/python3.7/dist-packages (from google-api-python-client<2,>=1.8->tfx==1.2.0) (3.0.1)\n",
            "Requirement already satisfied: google-auth-httplib2>=0.0.3 in /usr/local/lib/python3.7/dist-packages (from google-api-python-client<2,>=1.8->tfx==1.2.0) (0.0.4)\n",
            "Requirement already satisfied: googleapis-common-protos<2.0dev,>=1.6.0 in /usr/local/lib/python3.7/dist-packages (from google-api-core<2dev,>=1.21.0->google-api-python-client<2,>=1.8->tfx==1.2.0) (1.53.0)\n",
            "Requirement already satisfied: setuptools>=40.3.0 in /usr/local/lib/python3.7/dist-packages (from google-api-core<2dev,>=1.21.0->google-api-python-client<2,>=1.8->tfx==1.2.0) (57.4.0)\n",
            "Requirement already satisfied: fasteners>=0.14 in /usr/local/lib/python3.7/dist-packages (from google-apitools<1,>=0.5->tfx==1.2.0) (0.16.3)\n",
            "Requirement already satisfied: pyasn1-modules>=0.2.1 in /usr/local/lib/python3.7/dist-packages (from google-auth<2,>=1.18.0->apache-beam[gcp]<3,>=2.31->tfx==1.2.0) (0.2.8)\n",
            "Requirement already satisfied: rsa<5,>=3.1.4 in /usr/local/lib/python3.7/dist-packages (from google-auth<2,>=1.18.0->apache-beam[gcp]<3,>=2.31->tfx==1.2.0) (4.7.2)\n",
            "Requirement already satisfied: proto-plus>=1.10.1 in /usr/local/lib/python3.7/dist-packages (from google-cloud-aiplatform<0.8,>=0.5.0->tfx==1.2.0) (1.19.0)\n",
            "Requirement already satisfied: google-cloud-storage<2.0.0dev,>=1.26.0 in /usr/local/lib/python3.7/dist-packages (from google-cloud-aiplatform<0.8,>=0.5.0->tfx==1.2.0) (1.42.2)\n",
            "Requirement already satisfied: google-resumable-media<2.0dev,>=0.6.0 in /usr/local/lib/python3.7/dist-packages (from google-cloud-bigquery<2.21,>=1.28.0->tfx==1.2.0) (1.3.3)\n",
            "Requirement already satisfied: grpc-google-iam-v1<0.13dev,>=0.12.3 in /usr/local/lib/python3.7/dist-packages (from google-cloud-bigtable<2,>=0.31.1->apache-beam[gcp]<3,>=2.31->tfx==1.2.0) (0.12.3)\n",
            "Requirement already satisfied: google-crc32c<2.0dev,>=1.0 in /usr/local/lib/python3.7/dist-packages (from google-resumable-media<2.0dev,>=0.6.0->google-cloud-bigquery<2.21,>=1.28.0->tfx==1.2.0) (1.1.5)\n",
            "Requirement already satisfied: docopt in /usr/local/lib/python3.7/dist-packages (from hdfs<3.0.0,>=2.1.0->apache-beam[gcp]<3,>=2.31->tfx==1.2.0) (0.6.2)\n",
            "Requirement already satisfied: MarkupSafe>=0.23 in /usr/local/lib/python3.7/dist-packages (from jinja2<3,>=2.7.3->tfx==1.2.0) (2.0.1)\n",
            "Requirement already satisfied: tabulate in /usr/local/lib/python3.7/dist-packages (from keras-tuner<1.0.2,>=1->tfx==1.2.0) (0.8.9)\n",
            "Requirement already satisfied: terminaltables in /usr/local/lib/python3.7/dist-packages (from keras-tuner<1.0.2,>=1->tfx==1.2.0) (3.1.0)\n",
            "Requirement already satisfied: colorama in /usr/local/lib/python3.7/dist-packages (from keras-tuner<1.0.2,>=1->tfx==1.2.0) (0.4.4)\n",
            "Requirement already satisfied: scikit-learn in /usr/local/lib/python3.7/dist-packages (from keras-tuner<1.0.2,>=1->tfx==1.2.0) (0.22.2.post1)\n",
            "Requirement already satisfied: tqdm in /usr/local/lib/python3.7/dist-packages (from keras-tuner<1.0.2,>=1->tfx==1.2.0) (4.62.2)\n",
            "Requirement already satisfied: scipy in /usr/local/lib/python3.7/dist-packages (from keras-tuner<1.0.2,>=1->tfx==1.2.0) (1.4.1)\n",
            "Requirement already satisfied: urllib3>=1.24.2 in /usr/local/lib/python3.7/dist-packages (from kubernetes<13,>=10.0.1->tfx==1.2.0) (1.24.3)\n",
            "Requirement already satisfied: certifi>=14.05.14 in /usr/local/lib/python3.7/dist-packages (from kubernetes<13,>=10.0.1->tfx==1.2.0) (2021.5.30)\n",
            "Requirement already satisfied: requests-oauthlib in /usr/local/lib/python3.7/dist-packages (from kubernetes<13,>=10.0.1->tfx==1.2.0) (1.3.0)\n",
            "Requirement already satisfied: pyasn1>=0.1.7 in /usr/local/lib/python3.7/dist-packages (from oauth2client<5,>=2.0.1->apache-beam[gcp]<3,>=2.31->tfx==1.2.0) (0.4.8)\n",
            "Requirement already satisfied: pyparsing>=2.0.2 in /usr/local/lib/python3.7/dist-packages (from packaging<21,>=20->tfx==1.2.0) (2.4.7)\n",
            "Requirement already satisfied: idna<4,>=2.5 in /usr/local/lib/python3.7/dist-packages (from requests<3.0.0,>=2.24.0->apache-beam[gcp]<3,>=2.31->tfx==1.2.0) (2.10)\n",
            "Requirement already satisfied: charset-normalizer~=2.0.0 in /usr/local/lib/python3.7/dist-packages (from requests<3.0.0,>=2.24.0->apache-beam[gcp]<3,>=2.31->tfx==1.2.0) (2.0.5)\n",
            "Requirement already satisfied: wheel~=0.35 in /usr/local/lib/python3.7/dist-packages (from tensorflow!=2.0.*,!=2.1.*,!=2.2.*,!=2.3.*,!=2.4.*,<2.6,>=1.15.2->tfx==1.2.0) (0.37.0)\n",
            "Requirement already satisfied: gast==0.4.0 in /usr/local/lib/python3.7/dist-packages (from tensorflow!=2.0.*,!=2.1.*,!=2.2.*,!=2.3.*,!=2.4.*,<2.6,>=1.15.2->tfx==1.2.0) (0.4.0)\n",
            "Requirement already satisfied: astunparse~=1.6.3 in /usr/local/lib/python3.7/dist-packages (from tensorflow!=2.0.*,!=2.1.*,!=2.2.*,!=2.3.*,!=2.4.*,<2.6,>=1.15.2->tfx==1.2.0) (1.6.3)\n",
            "Requirement already satisfied: keras-nightly~=2.5.0.dev in /usr/local/lib/python3.7/dist-packages (from tensorflow!=2.0.*,!=2.1.*,!=2.2.*,!=2.3.*,!=2.4.*,<2.6,>=1.15.2->tfx==1.2.0) (2.5.0.dev2021032900)\n",
            "Requirement already satisfied: opt-einsum~=3.3.0 in /usr/local/lib/python3.7/dist-packages (from tensorflow!=2.0.*,!=2.1.*,!=2.2.*,!=2.3.*,!=2.4.*,<2.6,>=1.15.2->tfx==1.2.0) (3.3.0)\n",
            "Requirement already satisfied: tensorflow-estimator<2.6.0,>=2.5.0 in /usr/local/lib/python3.7/dist-packages (from tensorflow!=2.0.*,!=2.1.*,!=2.2.*,!=2.3.*,!=2.4.*,<2.6,>=1.15.2->tfx==1.2.0) (2.5.0)\n",
            "Requirement already satisfied: h5py~=3.1.0 in /usr/local/lib/python3.7/dist-packages (from tensorflow!=2.0.*,!=2.1.*,!=2.2.*,!=2.3.*,!=2.4.*,<2.6,>=1.15.2->tfx==1.2.0) (3.1.0)\n",
            "Requirement already satisfied: wrapt~=1.12.1 in /usr/local/lib/python3.7/dist-packages (from tensorflow!=2.0.*,!=2.1.*,!=2.2.*,!=2.3.*,!=2.4.*,<2.6,>=1.15.2->tfx==1.2.0) (1.12.1)\n",
            "Requirement already satisfied: tensorboard~=2.5 in /usr/local/lib/python3.7/dist-packages (from tensorflow!=2.0.*,!=2.1.*,!=2.2.*,!=2.3.*,!=2.4.*,<2.6,>=1.15.2->tfx==1.2.0) (2.6.0)\n",
            "Requirement already satisfied: google-pasta~=0.2 in /usr/local/lib/python3.7/dist-packages (from tensorflow!=2.0.*,!=2.1.*,!=2.2.*,!=2.3.*,!=2.4.*,<2.6,>=1.15.2->tfx==1.2.0) (0.2.0)\n",
            "Requirement already satisfied: termcolor~=1.1.0 in /usr/local/lib/python3.7/dist-packages (from tensorflow!=2.0.*,!=2.1.*,!=2.2.*,!=2.3.*,!=2.4.*,<2.6,>=1.15.2->tfx==1.2.0) (1.1.0)\n",
            "Requirement already satisfied: flatbuffers~=1.12.0 in /usr/local/lib/python3.7/dist-packages (from tensorflow!=2.0.*,!=2.1.*,!=2.2.*,!=2.3.*,!=2.4.*,<2.6,>=1.15.2->tfx==1.2.0) (1.12)\n",
            "Requirement already satisfied: keras-preprocessing~=1.1.2 in /usr/local/lib/python3.7/dist-packages (from tensorflow!=2.0.*,!=2.1.*,!=2.2.*,!=2.3.*,!=2.4.*,<2.6,>=1.15.2->tfx==1.2.0) (1.1.2)\n",
            "Requirement already satisfied: cached-property in /usr/local/lib/python3.7/dist-packages (from h5py~=3.1.0->tensorflow!=2.0.*,!=2.1.*,!=2.2.*,!=2.3.*,!=2.4.*,<2.6,>=1.15.2->tfx==1.2.0) (1.5.2)\n",
            "Requirement already satisfied: tensorboard-plugin-wit>=1.6.0 in /usr/local/lib/python3.7/dist-packages (from tensorboard~=2.5->tensorflow!=2.0.*,!=2.1.*,!=2.2.*,!=2.3.*,!=2.4.*,<2.6,>=1.15.2->tfx==1.2.0) (1.8.0)\n",
            "Requirement already satisfied: tensorboard-data-server<0.7.0,>=0.6.0 in /usr/local/lib/python3.7/dist-packages (from tensorboard~=2.5->tensorflow!=2.0.*,!=2.1.*,!=2.2.*,!=2.3.*,!=2.4.*,<2.6,>=1.15.2->tfx==1.2.0) (0.6.1)\n",
            "Requirement already satisfied: werkzeug>=0.11.15 in /usr/local/lib/python3.7/dist-packages (from tensorboard~=2.5->tensorflow!=2.0.*,!=2.1.*,!=2.2.*,!=2.3.*,!=2.4.*,<2.6,>=1.15.2->tfx==1.2.0) (1.0.1)\n",
            "Requirement already satisfied: markdown>=2.6.8 in /usr/local/lib/python3.7/dist-packages (from tensorboard~=2.5->tensorflow!=2.0.*,!=2.1.*,!=2.2.*,!=2.3.*,!=2.4.*,<2.6,>=1.15.2->tfx==1.2.0) (3.3.4)\n",
            "Requirement already satisfied: google-auth-oauthlib<0.5,>=0.4.1 in /usr/local/lib/python3.7/dist-packages (from tensorboard~=2.5->tensorflow!=2.0.*,!=2.1.*,!=2.2.*,!=2.3.*,!=2.4.*,<2.6,>=1.15.2->tfx==1.2.0) (0.4.6)\n",
            "Requirement already satisfied: importlib-metadata in /usr/local/lib/python3.7/dist-packages (from markdown>=2.6.8->tensorboard~=2.5->tensorflow!=2.0.*,!=2.1.*,!=2.2.*,!=2.3.*,!=2.4.*,<2.6,>=1.15.2->tfx==1.2.0) (4.8.1)\n",
            "Requirement already satisfied: oauthlib>=3.0.0 in /usr/local/lib/python3.7/dist-packages (from requests-oauthlib->kubernetes<13,>=10.0.1->tfx==1.2.0) (3.1.1)\n",
            "Requirement already satisfied: joblib<0.15,>=0.12 in /usr/local/lib/python3.7/dist-packages (from tensorflow-data-validation<1.3.0,>=1.2.0->tfx==1.2.0) (0.14.1)\n",
            "Requirement already satisfied: tensorflow-metadata<1.3,>=1.2 in /usr/local/lib/python3.7/dist-packages (from tensorflow-data-validation<1.3.0,>=1.2.0->tfx==1.2.0) (1.2.0)\n",
            "Requirement already satisfied: pandas<2,>=1.0 in /usr/local/lib/python3.7/dist-packages (from tensorflow-data-validation<1.3.0,>=1.2.0->tfx==1.2.0) (1.1.5)\n",
            "Requirement already satisfied: ipython<8,>=7 in /usr/local/lib/python3.7/dist-packages (from tensorflow-model-analysis<0.34,>=0.33->tfx==1.2.0) (7.27.0)\n",
            "Requirement already satisfied: ipywidgets<8,>=7 in /usr/local/lib/python3.7/dist-packages (from tensorflow-model-analysis<0.34,>=0.33->tfx==1.2.0) (7.6.5)\n",
            "Requirement already satisfied: pygments in /usr/local/lib/python3.7/dist-packages (from ipython<8,>=7->tensorflow-model-analysis<0.34,>=0.33->tfx==1.2.0) (2.6.1)\n",
            "Requirement already satisfied: matplotlib-inline in /usr/local/lib/python3.7/dist-packages (from ipython<8,>=7->tensorflow-model-analysis<0.34,>=0.33->tfx==1.2.0) (0.1.3)\n",
            "Requirement already satisfied: decorator in /usr/local/lib/python3.7/dist-packages (from ipython<8,>=7->tensorflow-model-analysis<0.34,>=0.33->tfx==1.2.0) (4.4.2)\n",
            "Requirement already satisfied: prompt-toolkit!=3.0.0,!=3.0.1,<3.1.0,>=2.0.0 in /usr/local/lib/python3.7/dist-packages (from ipython<8,>=7->tensorflow-model-analysis<0.34,>=0.33->tfx==1.2.0) (3.0.20)\n",
            "Requirement already satisfied: traitlets>=4.2 in /usr/local/lib/python3.7/dist-packages (from ipython<8,>=7->tensorflow-model-analysis<0.34,>=0.33->tfx==1.2.0) (5.1.0)\n",
            "Requirement already satisfied: jedi>=0.16 in /usr/local/lib/python3.7/dist-packages (from ipython<8,>=7->tensorflow-model-analysis<0.34,>=0.33->tfx==1.2.0) (0.18.0)\n",
            "Requirement already satisfied: backcall in /usr/local/lib/python3.7/dist-packages (from ipython<8,>=7->tensorflow-model-analysis<0.34,>=0.33->tfx==1.2.0) (0.2.0)\n",
            "Requirement already satisfied: pickleshare in /usr/local/lib/python3.7/dist-packages (from ipython<8,>=7->tensorflow-model-analysis<0.34,>=0.33->tfx==1.2.0) (0.7.5)\n",
            "Requirement already satisfied: pexpect>4.3 in /usr/local/lib/python3.7/dist-packages (from ipython<8,>=7->tensorflow-model-analysis<0.34,>=0.33->tfx==1.2.0) (4.8.0)\n",
            "Requirement already satisfied: nbformat>=4.2.0 in /usr/local/lib/python3.7/dist-packages (from ipywidgets<8,>=7->tensorflow-model-analysis<0.34,>=0.33->tfx==1.2.0) (5.1.3)\n",
            "Requirement already satisfied: jupyterlab-widgets>=1.0.0 in /usr/local/lib/python3.7/dist-packages (from ipywidgets<8,>=7->tensorflow-model-analysis<0.34,>=0.33->tfx==1.2.0) (1.0.2)\n",
            "Requirement already satisfied: ipykernel>=4.5.1 in /usr/local/lib/python3.7/dist-packages (from ipywidgets<8,>=7->tensorflow-model-analysis<0.34,>=0.33->tfx==1.2.0) (4.10.1)\n",
            "Requirement already satisfied: ipython-genutils~=0.2.0 in /usr/local/lib/python3.7/dist-packages (from ipywidgets<8,>=7->tensorflow-model-analysis<0.34,>=0.33->tfx==1.2.0) (0.2.0)\n",
            "Requirement already satisfied: widgetsnbextension~=3.5.0 in /usr/local/lib/python3.7/dist-packages (from ipywidgets<8,>=7->tensorflow-model-analysis<0.34,>=0.33->tfx==1.2.0) (3.5.1)\n",
            "Requirement already satisfied: tornado>=4.0 in /usr/local/lib/python3.7/dist-packages (from ipykernel>=4.5.1->ipywidgets<8,>=7->tensorflow-model-analysis<0.34,>=0.33->tfx==1.2.0) (5.1.1)\n",
            "Requirement already satisfied: jupyter-client in /usr/local/lib/python3.7/dist-packages (from ipykernel>=4.5.1->ipywidgets<8,>=7->tensorflow-model-analysis<0.34,>=0.33->tfx==1.2.0) (5.3.5)\n",
            "Requirement already satisfied: parso<0.9.0,>=0.8.0 in /usr/local/lib/python3.7/dist-packages (from jedi>=0.16->ipython<8,>=7->tensorflow-model-analysis<0.34,>=0.33->tfx==1.2.0) (0.8.2)\n",
            "Requirement already satisfied: jupyter-core in /usr/local/lib/python3.7/dist-packages (from nbformat>=4.2.0->ipywidgets<8,>=7->tensorflow-model-analysis<0.34,>=0.33->tfx==1.2.0) (4.7.1)\n",
            "Requirement already satisfied: jsonschema!=2.5.0,>=2.4 in /usr/local/lib/python3.7/dist-packages (from nbformat>=4.2.0->ipywidgets<8,>=7->tensorflow-model-analysis<0.34,>=0.33->tfx==1.2.0) (2.6.0)\n",
            "Requirement already satisfied: ptyprocess>=0.5 in /usr/local/lib/python3.7/dist-packages (from pexpect>4.3->ipython<8,>=7->tensorflow-model-analysis<0.34,>=0.33->tfx==1.2.0) (0.7.0)\n",
            "Requirement already satisfied: wcwidth in /usr/local/lib/python3.7/dist-packages (from prompt-toolkit!=3.0.0,!=3.0.1,<3.1.0,>=2.0.0->ipython<8,>=7->tensorflow-model-analysis<0.34,>=0.33->tfx==1.2.0) (0.2.5)\n",
            "Requirement already satisfied: notebook>=4.4.1 in /usr/local/lib/python3.7/dist-packages (from widgetsnbextension~=3.5.0->ipywidgets<8,>=7->tensorflow-model-analysis<0.34,>=0.33->tfx==1.2.0) (5.3.1)\n",
            "Requirement already satisfied: nbconvert in /usr/local/lib/python3.7/dist-packages (from notebook>=4.4.1->widgetsnbextension~=3.5.0->ipywidgets<8,>=7->tensorflow-model-analysis<0.34,>=0.33->tfx==1.2.0) (5.6.1)\n",
            "Requirement already satisfied: Send2Trash in /usr/local/lib/python3.7/dist-packages (from notebook>=4.4.1->widgetsnbextension~=3.5.0->ipywidgets<8,>=7->tensorflow-model-analysis<0.34,>=0.33->tfx==1.2.0) (1.8.0)\n",
            "Requirement already satisfied: terminado>=0.8.1 in /usr/local/lib/python3.7/dist-packages (from notebook>=4.4.1->widgetsnbextension~=3.5.0->ipywidgets<8,>=7->tensorflow-model-analysis<0.34,>=0.33->tfx==1.2.0) (0.12.1)\n",
            "Requirement already satisfied: pyzmq>=13 in /usr/local/lib/python3.7/dist-packages (from jupyter-client->ipykernel>=4.5.1->ipywidgets<8,>=7->tensorflow-model-analysis<0.34,>=0.33->tfx==1.2.0) (22.2.1)\n",
            "Requirement already satisfied: zipp>=0.5 in /usr/local/lib/python3.7/dist-packages (from importlib-metadata->markdown>=2.6.8->tensorboard~=2.5->tensorflow!=2.0.*,!=2.1.*,!=2.2.*,!=2.3.*,!=2.4.*,<2.6,>=1.15.2->tfx==1.2.0) (3.5.0)\n",
            "Requirement already satisfied: bleach in /usr/local/lib/python3.7/dist-packages (from nbconvert->notebook>=4.4.1->widgetsnbextension~=3.5.0->ipywidgets<8,>=7->tensorflow-model-analysis<0.34,>=0.33->tfx==1.2.0) (4.1.0)\n",
            "Requirement already satisfied: defusedxml in /usr/local/lib/python3.7/dist-packages (from nbconvert->notebook>=4.4.1->widgetsnbextension~=3.5.0->ipywidgets<8,>=7->tensorflow-model-analysis<0.34,>=0.33->tfx==1.2.0) (0.7.1)\n",
            "Requirement already satisfied: pandocfilters>=1.4.1 in /usr/local/lib/python3.7/dist-packages (from nbconvert->notebook>=4.4.1->widgetsnbextension~=3.5.0->ipywidgets<8,>=7->tensorflow-model-analysis<0.34,>=0.33->tfx==1.2.0) (1.5.0)\n",
            "Requirement already satisfied: testpath in /usr/local/lib/python3.7/dist-packages (from nbconvert->notebook>=4.4.1->widgetsnbextension~=3.5.0->ipywidgets<8,>=7->tensorflow-model-analysis<0.34,>=0.33->tfx==1.2.0) (0.5.0)\n",
            "Requirement already satisfied: mistune<2,>=0.8.1 in /usr/local/lib/python3.7/dist-packages (from nbconvert->notebook>=4.4.1->widgetsnbextension~=3.5.0->ipywidgets<8,>=7->tensorflow-model-analysis<0.34,>=0.33->tfx==1.2.0) (0.8.4)\n",
            "Requirement already satisfied: entrypoints>=0.2.2 in /usr/local/lib/python3.7/dist-packages (from nbconvert->notebook>=4.4.1->widgetsnbextension~=3.5.0->ipywidgets<8,>=7->tensorflow-model-analysis<0.34,>=0.33->tfx==1.2.0) (0.3)\n",
            "Requirement already satisfied: webencodings in /usr/local/lib/python3.7/dist-packages (from bleach->nbconvert->notebook>=4.4.1->widgetsnbextension~=3.5.0->ipywidgets<8,>=7->tensorflow-model-analysis<0.34,>=0.33->tfx==1.2.0) (0.5.1)\n",
            "Installing collected packages: google-cloud-aiplatform\n",
            "  Attempting uninstall: google-cloud-aiplatform\n",
            "    Found existing installation: google-cloud-aiplatform 1.4.3\n",
            "    Uninstalling google-cloud-aiplatform-1.4.3:\n",
            "      Successfully uninstalled google-cloud-aiplatform-1.4.3\n",
            "Successfully installed google-cloud-aiplatform-0.7.1\n"
          ]
        },
        {
          "output_type": "display_data",
          "data": {
            "application/vnd.colab-display-data+json": {
              "pip_warning": {
                "packages": [
                  "google"
                ]
              }
            }
          },
          "metadata": {}
        },
        {
          "output_type": "stream",
          "name": "stdout",
          "text": [
            "Collecting kfp==1.6.1\n",
            "  Downloading kfp-1.6.1.tar.gz (221 kB)\n",
            "     |████████████████████████████████| 221 kB 7.5 MB/s \n",
            "\u001b[?25hCollecting absl-py<=0.11,>=0.9\n",
            "  Downloading absl_py-0.11.0-py3-none-any.whl (127 kB)\n",
            "     |████████████████████████████████| 127 kB 61.3 MB/s \n",
            "\u001b[?25hCollecting PyYAML<6,>=5.3\n",
            "  Downloading PyYAML-5.4.1-cp37-cp37m-manylinux1_x86_64.whl (636 kB)\n",
            "     |████████████████████████████████| 636 kB 53.9 MB/s \n",
            "\u001b[?25hRequirement already satisfied: google-cloud-storage<2,>=1.20.0 in /usr/local/lib/python3.7/dist-packages (from kfp==1.6.1) (1.42.2)\n",
            "Requirement already satisfied: kubernetes<13,>=8.0.0 in /usr/local/lib/python3.7/dist-packages (from kfp==1.6.1) (12.0.1)\n",
            "Requirement already satisfied: google-api-python-client<2,>=1.7.8 in /usr/local/lib/python3.7/dist-packages (from kfp==1.6.1) (1.12.8)\n",
            "Requirement already satisfied: google-auth<2,>=1.6.1 in /usr/local/lib/python3.7/dist-packages (from kfp==1.6.1) (1.35.0)\n",
            "Collecting requests-toolbelt<1,>=0.8.0\n",
            "  Downloading requests_toolbelt-0.9.1-py2.py3-none-any.whl (54 kB)\n",
            "     |████████████████████████████████| 54 kB 2.0 MB/s \n",
            "\u001b[?25hRequirement already satisfied: cloudpickle<2,>=1.3.0 in /usr/local/lib/python3.7/dist-packages (from kfp==1.6.1) (1.3.0)\n",
            "Collecting kfp-server-api<2.0.0,>=1.1.2\n",
            "  Downloading kfp-server-api-1.7.0.tar.gz (52 kB)\n",
            "     |████████████████████████████████| 52 kB 977 kB/s \n",
            "\u001b[?25hCollecting jsonschema<4,>=3.0.1\n",
            "  Downloading jsonschema-3.2.0-py2.py3-none-any.whl (56 kB)\n",
            "     |████████████████████████████████| 56 kB 4.1 MB/s \n",
            "\u001b[?25hRequirement already satisfied: tabulate<1,>=0.8.6 in /usr/local/lib/python3.7/dist-packages (from kfp==1.6.1) (0.8.9)\n",
            "Requirement already satisfied: click<8,>=7.1.1 in /usr/local/lib/python3.7/dist-packages (from kfp==1.6.1) (7.1.2)\n",
            "Collecting Deprecated<2,>=1.2.7\n",
            "  Downloading Deprecated-1.2.13-py2.py3-none-any.whl (9.6 kB)\n",
            "Collecting strip-hints<1,>=0.1.8\n",
            "  Downloading strip-hints-0.1.10.tar.gz (29 kB)\n",
            "Collecting docstring-parser<1,>=0.7.3\n",
            "  Downloading docstring_parser-0.10.tar.gz (20 kB)\n",
            "  Installing build dependencies ... \u001b[?25l\u001b[?25hdone\n",
            "  Getting requirements to build wheel ... \u001b[?25l\u001b[?25hdone\n",
            "    Preparing wheel metadata ... \u001b[?25l\u001b[?25hdone\n",
            "Collecting kfp-pipeline-spec<0.2.0,>=0.1.7\n",
            "  Downloading kfp_pipeline_spec-0.1.11-py3-none-any.whl (18 kB)\n",
            "Collecting fire<1,>=0.3.1\n",
            "  Downloading fire-0.4.0.tar.gz (87 kB)\n",
            "     |████████████████████████████████| 87 kB 4.3 MB/s \n",
            "\u001b[?25hRequirement already satisfied: protobuf<4,>=3.13.0 in /usr/local/lib/python3.7/dist-packages (from kfp==1.6.1) (3.17.3)\n",
            "Requirement already satisfied: six in /usr/local/lib/python3.7/dist-packages (from absl-py<=0.11,>=0.9->kfp==1.6.1) (1.15.0)\n",
            "Requirement already satisfied: wrapt<2,>=1.10 in /usr/local/lib/python3.7/dist-packages (from Deprecated<2,>=1.2.7->kfp==1.6.1) (1.12.1)\n",
            "Requirement already satisfied: termcolor in /usr/local/lib/python3.7/dist-packages (from fire<1,>=0.3.1->kfp==1.6.1) (1.1.0)\n",
            "Requirement already satisfied: uritemplate<4dev,>=3.0.0 in /usr/local/lib/python3.7/dist-packages (from google-api-python-client<2,>=1.7.8->kfp==1.6.1) (3.0.1)\n",
            "Requirement already satisfied: google-auth-httplib2>=0.0.3 in /usr/local/lib/python3.7/dist-packages (from google-api-python-client<2,>=1.7.8->kfp==1.6.1) (0.0.4)\n",
            "Requirement already satisfied: google-api-core<2dev,>=1.21.0 in /usr/local/lib/python3.7/dist-packages (from google-api-python-client<2,>=1.7.8->kfp==1.6.1) (1.31.2)\n",
            "Requirement already satisfied: httplib2<1dev,>=0.15.0 in /usr/local/lib/python3.7/dist-packages (from google-api-python-client<2,>=1.7.8->kfp==1.6.1) (0.17.4)\n",
            "Requirement already satisfied: pytz in /usr/local/lib/python3.7/dist-packages (from google-api-core<2dev,>=1.21.0->google-api-python-client<2,>=1.7.8->kfp==1.6.1) (2018.9)\n",
            "Requirement already satisfied: setuptools>=40.3.0 in /usr/local/lib/python3.7/dist-packages (from google-api-core<2dev,>=1.21.0->google-api-python-client<2,>=1.7.8->kfp==1.6.1) (57.4.0)\n",
            "Requirement already satisfied: googleapis-common-protos<2.0dev,>=1.6.0 in /usr/local/lib/python3.7/dist-packages (from google-api-core<2dev,>=1.21.0->google-api-python-client<2,>=1.7.8->kfp==1.6.1) (1.53.0)\n",
            "Requirement already satisfied: requests<3.0.0dev,>=2.18.0 in /usr/local/lib/python3.7/dist-packages (from google-api-core<2dev,>=1.21.0->google-api-python-client<2,>=1.7.8->kfp==1.6.1) (2.26.0)\n",
            "Requirement already satisfied: packaging>=14.3 in /usr/local/lib/python3.7/dist-packages (from google-api-core<2dev,>=1.21.0->google-api-python-client<2,>=1.7.8->kfp==1.6.1) (20.9)\n",
            "Requirement already satisfied: pyasn1-modules>=0.2.1 in /usr/local/lib/python3.7/dist-packages (from google-auth<2,>=1.6.1->kfp==1.6.1) (0.2.8)\n",
            "Requirement already satisfied: rsa<5,>=3.1.4 in /usr/local/lib/python3.7/dist-packages (from google-auth<2,>=1.6.1->kfp==1.6.1) (4.7.2)\n",
            "Requirement already satisfied: cachetools<5.0,>=2.0.0 in /usr/local/lib/python3.7/dist-packages (from google-auth<2,>=1.6.1->kfp==1.6.1) (4.2.2)\n",
            "Requirement already satisfied: google-resumable-media<3.0dev,>=1.3.0 in /usr/local/lib/python3.7/dist-packages (from google-cloud-storage<2,>=1.20.0->kfp==1.6.1) (1.3.3)\n",
            "Requirement already satisfied: google-cloud-core<3.0dev,>=1.6.0 in /usr/local/lib/python3.7/dist-packages (from google-cloud-storage<2,>=1.20.0->kfp==1.6.1) (1.7.2)\n",
            "Requirement already satisfied: google-crc32c<2.0dev,>=1.0 in /usr/local/lib/python3.7/dist-packages (from google-resumable-media<3.0dev,>=1.3.0->google-cloud-storage<2,>=1.20.0->kfp==1.6.1) (1.1.5)\n",
            "Requirement already satisfied: importlib-metadata in /usr/local/lib/python3.7/dist-packages (from jsonschema<4,>=3.0.1->kfp==1.6.1) (4.8.1)\n",
            "Requirement already satisfied: attrs>=17.4.0 in /usr/local/lib/python3.7/dist-packages (from jsonschema<4,>=3.0.1->kfp==1.6.1) (20.3.0)\n",
            "Requirement already satisfied: pyrsistent>=0.14.0 in /usr/local/lib/python3.7/dist-packages (from jsonschema<4,>=3.0.1->kfp==1.6.1) (0.18.0)\n",
            "Requirement already satisfied: urllib3>=1.15 in /usr/local/lib/python3.7/dist-packages (from kfp-server-api<2.0.0,>=1.1.2->kfp==1.6.1) (1.24.3)\n",
            "Requirement already satisfied: certifi in /usr/local/lib/python3.7/dist-packages (from kfp-server-api<2.0.0,>=1.1.2->kfp==1.6.1) (2021.5.30)\n",
            "Requirement already satisfied: python-dateutil in /usr/local/lib/python3.7/dist-packages (from kfp-server-api<2.0.0,>=1.1.2->kfp==1.6.1) (2.8.2)\n",
            "Requirement already satisfied: requests-oauthlib in /usr/local/lib/python3.7/dist-packages (from kubernetes<13,>=8.0.0->kfp==1.6.1) (1.3.0)\n",
            "Requirement already satisfied: websocket-client!=0.40.0,!=0.41.*,!=0.42.*,>=0.32.0 in /usr/local/lib/python3.7/dist-packages (from kubernetes<13,>=8.0.0->kfp==1.6.1) (1.2.1)\n",
            "Requirement already satisfied: pyparsing>=2.0.2 in /usr/local/lib/python3.7/dist-packages (from packaging>=14.3->google-api-core<2dev,>=1.21.0->google-api-python-client<2,>=1.7.8->kfp==1.6.1) (2.4.7)\n",
            "Requirement already satisfied: pyasn1<0.5.0,>=0.4.6 in /usr/local/lib/python3.7/dist-packages (from pyasn1-modules>=0.2.1->google-auth<2,>=1.6.1->kfp==1.6.1) (0.4.8)\n",
            "Requirement already satisfied: charset-normalizer~=2.0.0 in /usr/local/lib/python3.7/dist-packages (from requests<3.0.0dev,>=2.18.0->google-api-core<2dev,>=1.21.0->google-api-python-client<2,>=1.7.8->kfp==1.6.1) (2.0.5)\n",
            "Requirement already satisfied: idna<4,>=2.5 in /usr/local/lib/python3.7/dist-packages (from requests<3.0.0dev,>=2.18.0->google-api-core<2dev,>=1.21.0->google-api-python-client<2,>=1.7.8->kfp==1.6.1) (2.10)\n",
            "Requirement already satisfied: wheel in /usr/local/lib/python3.7/dist-packages (from strip-hints<1,>=0.1.8->kfp==1.6.1) (0.37.0)\n",
            "Requirement already satisfied: zipp>=0.5 in /usr/local/lib/python3.7/dist-packages (from importlib-metadata->jsonschema<4,>=3.0.1->kfp==1.6.1) (3.5.0)\n",
            "Requirement already satisfied: typing-extensions>=3.6.4 in /usr/local/lib/python3.7/dist-packages (from importlib-metadata->jsonschema<4,>=3.0.1->kfp==1.6.1) (3.7.4.3)\n",
            "Requirement already satisfied: oauthlib>=3.0.0 in /usr/local/lib/python3.7/dist-packages (from requests-oauthlib->kubernetes<13,>=8.0.0->kfp==1.6.1) (3.1.1)\n",
            "Building wheels for collected packages: kfp, docstring-parser, fire, kfp-server-api, strip-hints\n",
            "  Building wheel for kfp (setup.py) ... \u001b[?25l\u001b[?25hdone\n",
            "  Created wheel for kfp: filename=kfp-1.6.1-py3-none-any.whl size=301571 sha256=38f0ea8ef3f03f04101a7cc96f608b37be495d6c4a33ce465c5f8aea13676aa8\n",
            "  Stored in directory: /root/.cache/pip/wheels/c3/e9/fe/2eb7a670d99e0b638de9882d87695010501512b61ce546d675\n",
            "  Building wheel for docstring-parser (PEP 517) ... \u001b[?25l\u001b[?25hdone\n",
            "  Created wheel for docstring-parser: filename=docstring_parser-0.10-py3-none-any.whl size=28862 sha256=3ba75f7ab69e6b6e922d560d6b788d78bef6818562486c7d446b27595028a16c\n",
            "  Stored in directory: /root/.cache/pip/wheels/c2/12/f3/67c96229e15e2fe18709cba1b9e3a6a982699c4f0a7b4c0748\n",
            "  Building wheel for fire (setup.py) ... \u001b[?25l\u001b[?25hdone\n",
            "  Created wheel for fire: filename=fire-0.4.0-py2.py3-none-any.whl size=115943 sha256=ed88faf61fbf2f7b4c921d4b05f891e98b4861650c7bcb93ffa58de50e1e10e4\n",
            "  Stored in directory: /root/.cache/pip/wheels/8a/67/fb/2e8a12fa16661b9d5af1f654bd199366799740a85c64981226\n",
            "  Building wheel for kfp-server-api (setup.py) ... \u001b[?25l\u001b[?25hdone\n",
            "  Created wheel for kfp-server-api: filename=kfp_server_api-1.7.0-py3-none-any.whl size=92619 sha256=fe07511757f10f873054e2bb6f1fc3876b368bbcdef021499e03667c6c2e4fd5\n",
            "  Stored in directory: /root/.cache/pip/wheels/7c/f0/36/cd1c7475b12b2541f90e4ab9413e59756a11262c1307a97633\n",
            "  Building wheel for strip-hints (setup.py) ... \u001b[?25l\u001b[?25hdone\n",
            "  Created wheel for strip-hints: filename=strip_hints-0.1.10-py2.py3-none-any.whl size=22302 sha256=842c01014e49de9665a0e62716525f81401bd4847e5c2aaef3cb07cdfd3e2679\n",
            "  Stored in directory: /root/.cache/pip/wheels/5e/14/c3/6e44e9b2545f2d570b03f5b6d38c00b7534aa8abb376978363\n",
            "Successfully built kfp docstring-parser fire kfp-server-api strip-hints\n",
            "Installing collected packages: PyYAML, strip-hints, requests-toolbelt, kfp-server-api, kfp-pipeline-spec, jsonschema, fire, docstring-parser, Deprecated, absl-py, kfp\n",
            "  Attempting uninstall: PyYAML\n",
            "    Found existing installation: PyYAML 3.13\n",
            "    Uninstalling PyYAML-3.13:\n",
            "      Successfully uninstalled PyYAML-3.13\n",
            "  Attempting uninstall: jsonschema\n",
            "    Found existing installation: jsonschema 2.6.0\n",
            "    Uninstalling jsonschema-2.6.0:\n",
            "      Successfully uninstalled jsonschema-2.6.0\n",
            "  Attempting uninstall: absl-py\n",
            "    Found existing installation: absl-py 0.12.0\n",
            "    Uninstalling absl-py-0.12.0:\n",
            "      Successfully uninstalled absl-py-0.12.0\n",
            "ERROR: pip's dependency resolver does not currently take into account all the packages that are installed. This behaviour is the source of the following dependency conflicts.\n",
            "nbclient 0.5.4 requires jupyter-client>=6.1.5, but you have jupyter-client 5.3.5 which is incompatible.\n",
            "Successfully installed Deprecated-1.2.13 PyYAML-5.4.1 absl-py-0.11.0 docstring-parser-0.10 fire-0.4.0 jsonschema-3.2.0 kfp-1.6.1 kfp-pipeline-spec-0.1.11 kfp-server-api-1.7.0 requests-toolbelt-0.9.1 strip-hints-0.1.10\n"
          ]
        },
        {
          "output_type": "display_data",
          "data": {
            "application/vnd.colab-display-data+json": {
              "pip_warning": {
                "packages": [
                  "absl",
                  "yaml"
                ]
              }
            }
          },
          "metadata": {}
        },
        {
          "output_type": "stream",
          "name": "stdout",
          "text": [
            "ERROR: pip's dependency resolver does not currently take into account all the packages that are installed. This behaviour is the source of the following dependency conflicts.\n",
            "tfx 1.2.0 requires google-cloud-aiplatform<0.8,>=0.5.0, but you have google-cloud-aiplatform 1.4.3 which is incompatible.\n"
          ]
        }
      ]
    },
    {
      "cell_type": "code",
      "metadata": {
        "id": "9UKtYc2IK2II"
      },
      "source": [
        "!gcloud init"
      ],
      "execution_count": null,
      "outputs": []
    },
    {
      "cell_type": "code",
      "metadata": {
        "id": "Fd9CvkmRLFdu"
      },
      "source": [
        "from google.colab import auth\n",
        "auth.authenticate_user()"
      ],
      "execution_count": 18,
      "outputs": []
    },
    {
      "cell_type": "markdown",
      "metadata": {
        "id": "omrlUvFbLXsv"
      },
      "source": [
        "## Custom TFX Components"
      ]
    },
    {
      "cell_type": "code",
      "metadata": {
        "id": "7zMGdk-lM7QX",
        "colab": {
          "base_uri": "https://localhost:8080/",
          "height": 153
        },
        "cellView": "form",
        "outputId": "0ff4fa93-2a68-4f81-912a-fd6cec2c6354"
      },
      "source": [
        "#@title\n",
        "from fastdot.core import *\n",
        "\n",
        "tfx_components = ['FileListGen', 'BatchPredictionGen', 'ModelPerformanceGen', 'PipelineTrigger']\n",
        "block = 'TFX Component Workflow'\n",
        "\n",
        "g = graph_items(seq_cluster(tfx_components, block))\n",
        "g"
      ],
      "execution_count": 3,
      "outputs": [
        {
          "output_type": "execute_result",
          "data": {
            "text/plain": [
              "<pydot.Dot at 0x7f765f69c450>"
            ],
            "image/svg+xml": "<?xml version=\"1.0\" encoding=\"UTF-8\" standalone=\"no\"?>\n<!DOCTYPE svg PUBLIC \"-//W3C//DTD SVG 1.1//EN\"\n \"http://www.w3.org/Graphics/SVG/1.1/DTD/svg11.dtd\">\n<!-- Generated by graphviz version 2.40.1 (20161225.0304)\n -->\n<!-- Title: G Pages: 1 -->\n<svg width=\"619pt\" height=\"99pt\"\n viewBox=\"0.00 0.00 619.00 99.00\" xmlns=\"http://www.w3.org/2000/svg\" xmlns:xlink=\"http://www.w3.org/1999/xlink\">\n<g id=\"graph0\" class=\"graph\" transform=\"scale(1 1) rotate(0) translate(4 95)\">\n<title>G</title>\n<polygon fill=\"#ffffff\" stroke=\"transparent\" points=\"-4,4 -4,-95 615,-95 615,4 -4,4\"/>\n<g id=\"clust1\" class=\"cluster\">\n<title>cluster_n6083dea8db984102a9242848a85fea29</title>\n<g id=\"a_clust1\"><a xlink:title=\"TFX Component Workflow\">\n<path fill=\"#555555\" fill-opacity=\"0.133333\" stroke=\"#000000\" d=\"M20,-8C20,-8 591,-8 591,-8 597,-8 603,-14 603,-20 603,-20 603,-71 603,-71 603,-77 597,-83 591,-83 591,-83 20,-83 20,-83 14,-83 8,-77 8,-71 8,-71 8,-20 8,-20 8,-14 14,-8 20,-8\"/>\n<text text-anchor=\"middle\" x=\"305.5\" y=\"-67.8\" font-family=\"Times,serif\" font-size=\"14.00\" fill=\"#000000\">TFX Component Workflow</text>\n</a>\n</g>\n</g>\n<!-- n52a3a28223de41ffa0cf19215d4e2e95 -->\n<g id=\"node1\" class=\"node\">\n<title>n52a3a28223de41ffa0cf19215d4e2e95</title>\n<g id=\"a_node1\"><a xlink:title=\"FileListGen\">\n<path fill=\"#fcb763\" fill-opacity=\"0.168627\" stroke=\"#000000\" d=\"M88,-52C88,-52 28,-52 28,-52 22,-52 16,-46 16,-40 16,-40 16,-28 16,-28 16,-22 22,-16 28,-16 28,-16 88,-16 88,-16 94,-16 100,-22 100,-28 100,-28 100,-40 100,-40 100,-46 94,-52 88,-52\"/>\n<text text-anchor=\"middle\" x=\"58\" y=\"-30.3\" font-family=\"Times,serif\" font-size=\"14.00\" fill=\"#000000\">FileListGen</text>\n</a>\n</g>\n</g>\n<!-- n456a5b7a3a964b9eb7217ea3a7d22784 -->\n<g id=\"node2\" class=\"node\">\n<title>n456a5b7a3a964b9eb7217ea3a7d22784</title>\n<g id=\"a_node2\"><a xlink:title=\"BatchPredictionGen\">\n<path fill=\"#82ffb3\" fill-opacity=\"0.690196\" stroke=\"#000000\" d=\"M256,-52C256,-52 148,-52 148,-52 142,-52 136,-46 136,-40 136,-40 136,-28 136,-28 136,-22 142,-16 148,-16 148,-16 256,-16 256,-16 262,-16 268,-22 268,-28 268,-28 268,-40 268,-40 268,-46 262,-52 256,-52\"/>\n<text text-anchor=\"middle\" x=\"202\" y=\"-30.3\" font-family=\"Times,serif\" font-size=\"14.00\" fill=\"#000000\">BatchPredictionGen</text>\n</a>\n</g>\n</g>\n<!-- n52a3a28223de41ffa0cf19215d4e2e95&#45;&gt;n456a5b7a3a964b9eb7217ea3a7d22784 -->\n<g id=\"edge1\" class=\"edge\">\n<title>n52a3a28223de41ffa0cf19215d4e2e95&#45;&gt;n456a5b7a3a964b9eb7217ea3a7d22784</title>\n<path fill=\"none\" stroke=\"#000000\" d=\"M100.0379,-34C108.0929,-34 116.7569,-34 125.5097,-34\"/>\n<polygon fill=\"#000000\" stroke=\"#000000\" points=\"125.7944,-37.5001 135.7944,-34 125.7943,-30.5001 125.7944,-37.5001\"/>\n</g>\n<!-- nbe61a844a951492fbdd284707c81910d -->\n<g id=\"node3\" class=\"node\">\n<title>nbe61a844a951492fbdd284707c81910d</title>\n<g id=\"a_node3\"><a xlink:title=\"ModelPerformanceGen\">\n<path fill=\"#ff532a\" fill-opacity=\"0.207843\" stroke=\"#000000\" d=\"M442,-52C442,-52 316,-52 316,-52 310,-52 304,-46 304,-40 304,-40 304,-28 304,-28 304,-22 310,-16 316,-16 316,-16 442,-16 442,-16 448,-16 454,-22 454,-28 454,-28 454,-40 454,-40 454,-46 448,-52 442,-52\"/>\n<text text-anchor=\"middle\" x=\"379\" y=\"-30.3\" font-family=\"Times,serif\" font-size=\"14.00\" fill=\"#000000\">ModelPerformanceGen</text>\n</a>\n</g>\n</g>\n<!-- n456a5b7a3a964b9eb7217ea3a7d22784&#45;&gt;nbe61a844a951492fbdd284707c81910d -->\n<g id=\"edge2\" class=\"edge\">\n<title>n456a5b7a3a964b9eb7217ea3a7d22784&#45;&gt;nbe61a844a951492fbdd284707c81910d</title>\n<path fill=\"none\" stroke=\"#000000\" d=\"M268.16,-34C276.5585,-34 285.2441,-34 293.8867,-34\"/>\n<polygon fill=\"#000000\" stroke=\"#000000\" points=\"293.9927,-37.5001 303.9927,-34 293.9927,-30.5001 293.9927,-37.5001\"/>\n</g>\n<!-- nef536d93d09a43f2bbab67ef1b2ed96b -->\n<g id=\"node4\" class=\"node\">\n<title>nef536d93d09a43f2bbab67ef1b2ed96b</title>\n<g id=\"a_node4\"><a xlink:title=\"PipelineTrigger\">\n<path fill=\"#84ffb2\" fill-opacity=\"0.309804\" stroke=\"#000000\" d=\"M583,-52C583,-52 502,-52 502,-52 496,-52 490,-46 490,-40 490,-40 490,-28 490,-28 490,-22 496,-16 502,-16 502,-16 583,-16 583,-16 589,-16 595,-22 595,-28 595,-28 595,-40 595,-40 595,-46 589,-52 583,-52\"/>\n<text text-anchor=\"middle\" x=\"542.5\" y=\"-30.3\" font-family=\"Times,serif\" font-size=\"14.00\" fill=\"#000000\">PipelineTrigger</text>\n</a>\n</g>\n</g>\n<!-- nbe61a844a951492fbdd284707c81910d&#45;&gt;nef536d93d09a43f2bbab67ef1b2ed96b -->\n<g id=\"edge3\" class=\"edge\">\n<title>nbe61a844a951492fbdd284707c81910d&#45;&gt;nef536d93d09a43f2bbab67ef1b2ed96b</title>\n<path fill=\"none\" stroke=\"#000000\" d=\"M454.0506,-34C462.6448,-34 471.3384,-34 479.7481,-34\"/>\n<polygon fill=\"#000000\" stroke=\"#000000\" points=\"479.8394,-37.5001 489.8394,-34 479.8394,-30.5001 479.8394,-37.5001\"/>\n</g>\n</g>\n</svg>\n"
          },
          "metadata": {},
          "execution_count": 3
        }
      ]
    },
    {
      "cell_type": "markdown",
      "metadata": {
        "id": "yN4wUPP4Laqk"
      },
      "source": [
        "### **FileListGen Component [OPTIONAL]**\n",
        "\n",
        "- `FileListGen` will produce a `file list` file that `BatchPredictionGen` will refer to perform batch prediction on Vertex AI\n",
        "- `file list` format can be found [here](https://cloud.google.com/vertex-ai/docs/predictions/batch-predictions)\n",
        "\n",
        "**Spec**\n",
        "- input\n",
        "  - GCS path where the raw files are\n",
        "  - GCS path where the `file list` file will be \n",
        "- output\n",
        "  - GCS path where the `file list` file is"
      ]
    },
    {
      "cell_type": "markdown",
      "metadata": {
        "id": "nit2eUyQx-Zo"
      },
      "source": [
        "#### Testing"
      ]
    },
    {
      "cell_type": "code",
      "metadata": {
        "id": "IwlMeqr8qKTE"
      },
      "source": [
        "GOOGLE_CLOUD_PROJECT = 'central-hangar-321813'    #@param {type:\"string\"}\n",
        "GOOGLE_CLOUD_REGION = 'us-central1'             #@param {type:\"string\"}\n",
        "\n",
        "MODEL_NAME = 'resnet_cifar_latest' #@param {type:\"string\"}\n",
        "\n",
        "TEST_FILENAME = 'test-images.txt' #@param {type:\"string\"}\n",
        "TEST_GCS_BUCKET = 'batch-prediction-collection' #@param {type:\"string\"}\n",
        "TEST_GCS_PREFIX = '' #@param {type: \"string\"}"
      ],
      "execution_count": 27,
      "outputs": []
    },
    {
      "cell_type": "code",
      "metadata": {
        "id": "ObPLaHx9pm6M"
      },
      "source": [
        "from google.cloud import storage"
      ],
      "execution_count": 28,
      "outputs": []
    },
    {
      "cell_type": "code",
      "metadata": {
        "id": "IKGOgj3KpnwV"
      },
      "source": [
        "client = storage.Client(project=GOOGLE_CLOUD_PROJECT)\n",
        "bucket = client.get_bucket(TEST_GCS_BUCKET)\n",
        "blobs = bucket.list_blobs(prefix=TEST_GCS_PREFIX)\n",
        "\n",
        "f = open(TEST_FILENAME, \"w\")\n",
        "\n",
        "for blob in blobs:\n",
        "  if blob.name.split('.')[-1] == \"jpg\":\n",
        "    if TEST_GCS_PREFIX != '':\n",
        "      TEST_GCS_PREFIX = f'/{TEST_GCS_PREFIX}'\n",
        "    line = f'{TEST_GCS_BUCKET}{TEST_GCS_PREFIX}/{blob.name}\\n'\n",
        "\n",
        "    f.write(line)\n",
        "\n",
        "f.close()"
      ],
      "execution_count": 33,
      "outputs": []
    },
    {
      "cell_type": "code",
      "metadata": {
        "colab": {
          "base_uri": "https://localhost:8080/"
        },
        "id": "LMo28z34qaHF",
        "outputId": "5c4e34b3-fcf7-4440-9efc-1039560286c5"
      },
      "source": [
        "!cat {TEST_FILENAME}"
      ],
      "execution_count": 36,
      "outputs": [
        {
          "output_type": "stream",
          "name": "stdout",
          "text": [
            "batch-prediction-collection/airplane_0000.jpg\n",
            "batch-prediction-collection/automobile_0000.jpg\n",
            "batch-prediction-collection/bird_0000.jpg\n",
            "batch-prediction-collection/cat_0000.jpg\n",
            "batch-prediction-collection/deer_0000.jpg\n",
            "batch-prediction-collection/dog_0000.jpg\n",
            "batch-prediction-collection/frog_0000.jpg\n",
            "batch-prediction-collection/horse_0000.jpg\n",
            "batch-prediction-collection/ship_0000.jpg\n",
            "batch-prediction-collection/truck_0000.jpg\n"
          ]
        }
      ]
    },
    {
      "cell_type": "code",
      "metadata": {
        "id": "t3Dgp0KWwWwn"
      },
      "source": [
        "blob = bucket.blob(f'test/{TEST_FILENAME}')"
      ],
      "execution_count": 40,
      "outputs": []
    },
    {
      "cell_type": "code",
      "metadata": {
        "id": "-hVk2ma4waMd"
      },
      "source": [
        "blob.upload_from_filename(TEST_FILENAME)"
      ],
      "execution_count": 41,
      "outputs": []
    },
    {
      "cell_type": "markdown",
      "metadata": {
        "id": "zRXtyTYxx6Er"
      },
      "source": [
        "#### Module"
      ]
    },
    {
      "cell_type": "code",
      "metadata": {
        "id": "g5z336WGoT0q"
      },
      "source": [
        "_file_list_gen_module_file = 'file_list_gen.py'"
      ],
      "execution_count": 1,
      "outputs": []
    },
    {
      "cell_type": "code",
      "metadata": {
        "colab": {
          "base_uri": "https://localhost:8080/"
        },
        "id": "5s_YUXiFobVr",
        "outputId": "12e8891d-ff7b-4025-ddbd-b3b7411067db"
      },
      "source": [
        "%%writefile {_file_list_gen_module_file}\n",
        "\n",
        "from tfx import v1 as tfx\n",
        "from tfx.dsl.component.experimental.decorators import component\n",
        "from tfx.dsl.component.experimental.annotations import Parameter\n",
        "from google.cloud import storage\n",
        "from absl import logging\n",
        "\n",
        "@component\n",
        "def FileListGen(\n",
        "    project: Parameter[str],\n",
        "    gcs_source_bucket: Parameter[str],\n",
        "    gcs_source_prefix: Parameter[str] = '',\n",
        "    output_filename: Parameter[str] = 'test-images.txt'\n",
        ") -> tfx.dsl.components.OutputDict(result=str):\n",
        "  logging.info('FileListGen started')\n",
        "\n",
        "  client = storage.Client(project=project)\n",
        "  bucket = client.get_bucket(gcs_source_bucket)\n",
        "  blobs = bucket.list_blobs(prefix=gcs_source_prefix)\n",
        "  logging.info('Successfully retrieve the file(jpg) list from GCS path')\n",
        "\n",
        "  f = open(output_filename, 'w')\n",
        "  for blob in blobs:\n",
        "    if blob.name.split('.')[-1] == 'jpg':\n",
        "      if gcs_source_prefix != '':\n",
        "        prefix = f'/{gcs_source_prefix}'\n",
        "      line = f'{gcs_source_bucket}{prefix}/{blob.name}\\n'\n",
        "      f.write(line)\n",
        "  f.close()\n",
        "  logging.info(f'Successfully created the file list file({output_filename}) in local storage')\n",
        "\n",
        "  if gcs_source_prefix != '':\n",
        "    prefix = f'{gcs_source_prefix}/'\n",
        "  blob = bucket.blob(f'{prefix}{source_file_name}')\n",
        "  blob.upload_from_filename(source_file_name)\n",
        "  logging.info(f'Successfully uploaded the file list ({prefix}{source_file_name})')\n",
        "\n",
        "  return {\"output_path\": f'{prefix}{source_file_name}'}"
      ],
      "execution_count": 47,
      "outputs": [
        {
          "output_type": "stream",
          "name": "stdout",
          "text": [
            "Writing file_list_gen.py\n"
          ]
        }
      ]
    },
    {
      "cell_type": "markdown",
      "metadata": {
        "id": "pQ3mFDaCLgUh"
      },
      "source": [
        "### BatchPredictionGen Component\n",
        "- Behaviour of `BatchPredictionGen` is similar to TFX standard component `BulkInferrer`.\n",
        "- The only difference is we don't need `Model` artifact from `Trainer` but just `model ID` that can be found in `Vertex AI Model` registry.\n",
        "- Predicted results will be fed into the `PerformanceEvaluator` component.\n",
        "\n",
        "**Spec**\n",
        "- input\n",
        "  - GCS path where the TFRecord file is\n",
        "  - model id from Vertex AI Model\n",
        "- output\n",
        "  - predictions"
      ]
    },
    {
      "cell_type": "markdown",
      "metadata": {
        "id": "bjz3oQvTLxPG"
      },
      "source": [
        "### **PerformanceEvaluator Component**\n",
        "- Calculate any performance metrics \n",
        "- Outputs if the model performance is above or below the given threshold\n",
        "\n",
        "**Spec**\n",
        "- input\n",
        "  - predictions\n",
        "  - threshold\n",
        "- output\n",
        "  - `True` or `False` by the threshold"
      ]
    },
    {
      "cell_type": "markdown",
      "metadata": {
        "id": "N79u9i-tL5Jm"
      },
      "source": [
        "### PipelineTrigger Component\n",
        "- Trigger the training pipeline based on the `True` or `False` value by the threshold\n",
        "\n",
        "**Spec**\n",
        "- input\n",
        "  - `True` or `False` by threshold\n",
        "  - pipeline name to be triggered\n",
        "  - GCS path where the pipeline spec is \n",
        "  - GCP project ID\n",
        "  - GCP region\n",
        "- output\n",
        "  - None"
      ]
    },
    {
      "cell_type": "markdown",
      "metadata": {
        "id": "EYQNNM_Y5DNI"
      },
      "source": [
        "# Pipeline"
      ]
    },
    {
      "cell_type": "code",
      "metadata": {
        "id": "dnsPuwUNL4R4"
      },
      "source": [
        "GOOGLE_CLOUD_PROJECT = 'central-hangar-321813'        #@param {type:\"string\"}\n",
        "GOOGLE_CLOUD_REGION = 'us-central1'                   #@param {type:\"string\"}\n",
        "GCS_BUCKET_NAME = 'cifar10-experimental-batch-csp'    #@param {type:\"string\"}\n",
        "\n",
        "TEST_FILENAME = 'test-images.txt' #@param {type:\"string\"}\n",
        "TEST_GCS_BUCKET = 'batch-prediction-collection' #@param {type:\"string\"}\n",
        "TEST_GCS_PREFIX = '' #@param {type: \"string\"}\n",
        "\n",
        "if not (GOOGLE_CLOUD_PROJECT and GOOGLE_CLOUD_REGION and GCS_BUCKET_NAME):\n",
        "    from absl import logging\n",
        "    logging.error('Please set all required parameters.')"
      ],
      "execution_count": 1,
      "outputs": []
    },
    {
      "cell_type": "code",
      "metadata": {
        "id": "zOljVxpi5Xo1",
        "outputId": "e737cde2-67e6-418b-97bc-0691b289c15f",
        "colab": {
          "base_uri": "https://localhost:8080/"
        }
      },
      "source": [
        "PIPELINE_NAME = 'continuous-adaptation-for-data-changes-batch'\n",
        "\n",
        "# Path to various pipeline artifact.\n",
        "PIPELINE_ROOT = 'gs://{}/pipeline_root/{}'.format(\n",
        "    GCS_BUCKET_NAME, PIPELINE_NAME)\n",
        "\n",
        "print('PIPELINE_ROOT: {}'.format(PIPELINE_ROOT))"
      ],
      "execution_count": 2,
      "outputs": [
        {
          "output_type": "stream",
          "name": "stdout",
          "text": [
            "PIPELINE_ROOT: gs://cifar10-experimental-batch-csp/pipeline_root/continuous-adaptation-for-data-changes-batch\n"
          ]
        }
      ]
    },
    {
      "cell_type": "code",
      "metadata": {
        "id": "Eic7WtdY5iTz"
      },
      "source": [
        "!mkdir -p ./custom_components\n",
        "!touch ./custom_components/__init__.py\n",
        "!cp -r {_file_list_gen_module_file} custom_components"
      ],
      "execution_count": 48,
      "outputs": []
    },
    {
      "cell_type": "code",
      "metadata": {
        "id": "Zf-5AjJQ5w9Z",
        "outputId": "a32cf936-e647-42a8-936b-cb0cc8652446",
        "colab": {
          "base_uri": "https://localhost:8080/"
        }
      },
      "source": [
        "DISPLAY_NAME = \"batch-prediction\"\n",
        "VERSION = \"tfx-1-2-0\"\n",
        "TFX_IMAGE_URI = f\"gcr.io/{GOOGLE_CLOUD_PROJECT}/{DISPLAY_NAME}:{VERSION}\"\n",
        "print(f\"URI of the custom image: {TFX_IMAGE_URI}\")"
      ],
      "execution_count": 3,
      "outputs": [
        {
          "output_type": "stream",
          "name": "stdout",
          "text": [
            "URI of the custom image: gcr.io/central-hangar-321813/batch-prediction:tfx-1-2-0\n"
          ]
        }
      ]
    },
    {
      "cell_type": "code",
      "metadata": {
        "id": "Yvv4-FIG58P9",
        "outputId": "d1bca552-c7e2-434f-ef73-9f7867b10f1e",
        "colab": {
          "base_uri": "https://localhost:8080/"
        }
      },
      "source": [
        "%%writefile Dockerfile\n",
        "\n",
        "FROM gcr.io/tfx-oss-public/tfx:1.2.0\n",
        "RUN mkdir -p custom_components\n",
        "COPY custom_components/* ./custom_components/\n",
        "RUN pip install --upgrade google-cloud-aiplatform google-cloud-storage"
      ],
      "execution_count": 50,
      "outputs": [
        {
          "output_type": "stream",
          "name": "stdout",
          "text": [
            "Writing Dockerfile\n"
          ]
        }
      ]
    },
    {
      "cell_type": "code",
      "metadata": {
        "id": "I86iu9-76DQi",
        "outputId": "fe8b9447-3b76-4c46-dbfc-b58105d93eff",
        "colab": {
          "base_uri": "https://localhost:8080/"
        }
      },
      "source": [
        "!gcloud builds submit --tag $TFX_IMAGE_URI . --timeout=15m --machine-type=e2-highcpu-8"
      ],
      "execution_count": 51,
      "outputs": [
        {
          "output_type": "stream",
          "name": "stdout",
          "text": [
            "Creating temporary tarball archive of 34 file(s) totalling 54.3 MiB before compression.\n",
            "Uploading tarball of [.] to [gs://central-hangar-321813_cloudbuild/source/1631951813.220174-2cf1dd0c8f49477cb61e0b68ec72922d.tgz]\n",
            "Created [https://cloudbuild.googleapis.com/v1/projects/central-hangar-321813/locations/global/builds/04eb8e1c-b66f-44c4-aa27-33ea17a35c89].\n",
            "Logs are available at [https://console.cloud.google.com/cloud-build/builds/04eb8e1c-b66f-44c4-aa27-33ea17a35c89?project=31482268105].\n",
            " REMOTE BUILD OUTPUT\n",
            "starting build \"04eb8e1c-b66f-44c4-aa27-33ea17a35c89\"\n",
            "\n",
            "FETCHSOURCE\n",
            "Fetching storage object: gs://central-hangar-321813_cloudbuild/source/1631951813.220174-2cf1dd0c8f49477cb61e0b68ec72922d.tgz#1631951823087793\n",
            "Copying gs://central-hangar-321813_cloudbuild/source/1631951813.220174-2cf1dd0c8f49477cb61e0b68ec72922d.tgz#1631951823087793...\n",
            "/ [1 files][  6.5 MiB/  6.5 MiB]                                                \n",
            "Operation completed over 1 objects/6.5 MiB.                                      \n",
            "tar: .config/gce: time stamp 2040-01-01 00:00:00 is 577036905.821248277 s in the future\n",
            "BUILD\n",
            "Already have image (with digest): gcr.io/cloud-builders/docker\n",
            "Sending build context to Docker daemon  56.96MB\n",
            "Step 1/4 : FROM gcr.io/tfx-oss-public/tfx:1.2.0\n",
            "1.2.0: Pulling from tfx-oss-public/tfx\n",
            "25fa05cd42bd: Pulling fs layer\n",
            "2d6e353a95ec: Pulling fs layer\n",
            "14d7996407de: Pulling fs layer\n",
            "0c9c6fc70f16: Pulling fs layer\n",
            "c3c76be11512: Pulling fs layer\n",
            "ab6e5a9c78ee: Pulling fs layer\n",
            "7bc1690abd59: Pulling fs layer\n",
            "f5b4dd7682bc: Pulling fs layer\n",
            "d6897660f71d: Pulling fs layer\n",
            "174d792fb622: Pulling fs layer\n",
            "5f8143275aca: Pulling fs layer\n",
            "56646f115483: Pulling fs layer\n",
            "798922b52524: Pulling fs layer\n",
            "e2699a9f592b: Pulling fs layer\n",
            "f43e7d1c07e4: Pulling fs layer\n",
            "1e71d5e9923d: Pulling fs layer\n",
            "bf6ae2a2e250: Pulling fs layer\n",
            "e49679b748d5: Pulling fs layer\n",
            "80208bd6f7fb: Pulling fs layer\n",
            "b83c16bef138: Pulling fs layer\n",
            "9d1427033824: Pulling fs layer\n",
            "c0028679f003: Pulling fs layer\n",
            "09c222e7ff04: Pulling fs layer\n",
            "ae6048a3aec1: Pulling fs layer\n",
            "1ced637de50b: Pulling fs layer\n",
            "762ff1eb7f16: Pulling fs layer\n",
            "f6f8f4265c8c: Pulling fs layer\n",
            "595b1c49222a: Pulling fs layer\n",
            "b6c7eb38f366: Pulling fs layer\n",
            "520be5017b4d: Pulling fs layer\n",
            "0a1aacb7e387: Pulling fs layer\n",
            "8f605134caf9: Pulling fs layer\n",
            "189ba322d030: Pulling fs layer\n",
            "af92447b9198: Pulling fs layer\n",
            "bf6ae2a2e250: Waiting\n",
            "e49679b748d5: Waiting\n",
            "80208bd6f7fb: Waiting\n",
            "b83c16bef138: Waiting\n",
            "f6f8f4265c8c: Waiting\n",
            "595b1c49222a: Waiting\n",
            "b6c7eb38f366: Waiting\n",
            "520be5017b4d: Waiting\n",
            "0a1aacb7e387: Waiting\n",
            "9d1427033824: Waiting\n",
            "c0028679f003: Waiting\n",
            "09c222e7ff04: Waiting\n",
            "ae6048a3aec1: Waiting\n",
            "0c9c6fc70f16: Waiting\n",
            "1ced637de50b: Waiting\n",
            "762ff1eb7f16: Waiting\n",
            "8f605134caf9: Waiting\n",
            "c3c76be11512: Waiting\n",
            "189ba322d030: Waiting\n",
            "ab6e5a9c78ee: Waiting\n",
            "7bc1690abd59: Waiting\n",
            "f5b4dd7682bc: Waiting\n",
            "af92447b9198: Waiting\n",
            "d6897660f71d: Waiting\n",
            "174d792fb622: Waiting\n",
            "5f8143275aca: Waiting\n",
            "56646f115483: Waiting\n",
            "798922b52524: Waiting\n",
            "e2699a9f592b: Waiting\n",
            "f43e7d1c07e4: Waiting\n",
            "1e71d5e9923d: Waiting\n",
            "2d6e353a95ec: Verifying Checksum\n",
            "2d6e353a95ec: Download complete\n",
            "0c9c6fc70f16: Verifying Checksum\n",
            "0c9c6fc70f16: Download complete\n",
            "c3c76be11512: Verifying Checksum\n",
            "c3c76be11512: Download complete\n",
            "25fa05cd42bd: Verifying Checksum\n",
            "25fa05cd42bd: Download complete\n",
            "7bc1690abd59: Verifying Checksum\n",
            "7bc1690abd59: Download complete\n",
            "14d7996407de: Verifying Checksum\n",
            "14d7996407de: Download complete\n",
            "d6897660f71d: Download complete\n",
            "25fa05cd42bd: Pull complete\n",
            "2d6e353a95ec: Pull complete\n",
            "14d7996407de: Pull complete\n",
            "0c9c6fc70f16: Pull complete\n",
            "c3c76be11512: Pull complete\n",
            "f5b4dd7682bc: Download complete\n",
            "5f8143275aca: Verifying Checksum\n",
            "5f8143275aca: Download complete\n",
            "ab6e5a9c78ee: Verifying Checksum\n",
            "ab6e5a9c78ee: Download complete\n",
            "798922b52524: Download complete\n",
            "e2699a9f592b: Verifying Checksum\n",
            "e2699a9f592b: Download complete\n",
            "f43e7d1c07e4: Verifying Checksum\n",
            "f43e7d1c07e4: Download complete\n",
            "1e71d5e9923d: Verifying Checksum\n",
            "1e71d5e9923d: Download complete\n",
            "bf6ae2a2e250: Verifying Checksum\n",
            "bf6ae2a2e250: Download complete\n",
            "e49679b748d5: Download complete\n",
            "80208bd6f7fb: Verifying Checksum\n",
            "80208bd6f7fb: Download complete\n",
            "b83c16bef138: Download complete\n",
            "9d1427033824: Download complete\n",
            "c0028679f003: Download complete\n",
            "09c222e7ff04: Verifying Checksum\n",
            "09c222e7ff04: Download complete\n",
            "ae6048a3aec1: Download complete\n",
            "56646f115483: Verifying Checksum\n",
            "56646f115483: Download complete\n",
            "1ced637de50b: Verifying Checksum\n",
            "1ced637de50b: Download complete\n",
            "f6f8f4265c8c: Verifying Checksum\n",
            "f6f8f4265c8c: Download complete\n",
            "174d792fb622: Verifying Checksum\n",
            "174d792fb622: Download complete\n",
            "b6c7eb38f366: Verifying Checksum\n",
            "b6c7eb38f366: Download complete\n",
            "520be5017b4d: Download complete\n",
            "0a1aacb7e387: Verifying Checksum\n",
            "0a1aacb7e387: Download complete\n",
            "8f605134caf9: Verifying Checksum\n",
            "8f605134caf9: Download complete\n",
            "189ba322d030: Verifying Checksum\n",
            "189ba322d030: Download complete\n",
            "af92447b9198: Verifying Checksum\n",
            "af92447b9198: Download complete\n",
            "595b1c49222a: Verifying Checksum\n",
            "595b1c49222a: Download complete\n",
            "762ff1eb7f16: Verifying Checksum\n",
            "762ff1eb7f16: Download complete\n",
            "ab6e5a9c78ee: Pull complete\n",
            "7bc1690abd59: Pull complete\n",
            "f5b4dd7682bc: Pull complete\n",
            "d6897660f71d: Pull complete\n",
            "174d792fb622: Pull complete\n",
            "5f8143275aca: Pull complete\n",
            "56646f115483: Pull complete\n",
            "798922b52524: Pull complete\n",
            "e2699a9f592b: Pull complete\n",
            "f43e7d1c07e4: Pull complete\n",
            "1e71d5e9923d: Pull complete\n",
            "bf6ae2a2e250: Pull complete\n",
            "e49679b748d5: Pull complete\n",
            "80208bd6f7fb: Pull complete\n",
            "b83c16bef138: Pull complete\n",
            "9d1427033824: Pull complete\n",
            "c0028679f003: Pull complete\n",
            "09c222e7ff04: Pull complete\n",
            "ae6048a3aec1: Pull complete\n",
            "1ced637de50b: Pull complete\n",
            "762ff1eb7f16: Pull complete\n",
            "f6f8f4265c8c: Pull complete\n",
            "595b1c49222a: Pull complete\n",
            "b6c7eb38f366: Pull complete\n",
            "520be5017b4d: Pull complete\n",
            "0a1aacb7e387: Pull complete\n",
            "8f605134caf9: Pull complete\n",
            "189ba322d030: Pull complete\n",
            "af92447b9198: Pull complete\n",
            "Digest: sha256:eba9e7b7d9131eb5b05434feaafc4676268ad805e4b97218f58994ad2714be67\n",
            "Status: Downloaded newer image for gcr.io/tfx-oss-public/tfx:1.2.0\n",
            " ---> 0e86fadcc60c\n",
            "Step 2/4 : RUN mkdir -p custom_components\n",
            " ---> Running in b6e6058362df\n",
            "Removing intermediate container b6e6058362df\n",
            " ---> 6a666e8bb5d6\n",
            "Step 3/4 : COPY custom_components/* ./custom_components/\n",
            " ---> faafa0d89c51\n",
            "Step 4/4 : RUN pip install --upgrade google-cloud-aiplatform google-cloud-storage\n",
            " ---> Running in 18b78524ef68\n",
            "Requirement already satisfied: google-cloud-aiplatform in /opt/conda/lib/python3.7/site-packages (0.7.1)\n",
            "Collecting google-cloud-aiplatform\n",
            "  Downloading google_cloud_aiplatform-1.4.3-py2.py3-none-any.whl (1.4 MB)\n",
            "Requirement already satisfied: google-cloud-storage in /opt/conda/lib/python3.7/site-packages (1.41.1)\n",
            "Collecting google-cloud-storage\n",
            "  Downloading google_cloud_storage-1.42.2-py2.py3-none-any.whl (105 kB)\n",
            "Requirement already satisfied: google-api-core[grpc]<3.0.0dev,>=1.26.0 in /opt/conda/lib/python3.7/site-packages (from google-cloud-aiplatform) (1.31.1)\n",
            "Requirement already satisfied: packaging>=14.3 in /opt/conda/lib/python3.7/site-packages (from google-cloud-aiplatform) (20.9)\n",
            "Requirement already satisfied: google-cloud-bigquery<3.0.0dev,>=1.15.0 in /opt/conda/lib/python3.7/site-packages (from google-cloud-aiplatform) (2.20.0)\n",
            "Requirement already satisfied: proto-plus>=1.10.1 in /opt/conda/lib/python3.7/site-packages (from google-cloud-aiplatform) (1.19.0)\n",
            "Requirement already satisfied: google-cloud-core<3.0dev,>=1.6.0 in /opt/conda/lib/python3.7/site-packages (from google-cloud-storage) (1.7.2)\n",
            "Requirement already satisfied: google-resumable-media<3.0dev,>=1.3.0 in /opt/conda/lib/python3.7/site-packages (from google-cloud-storage) (1.3.2)\n",
            "Requirement already satisfied: six in /opt/conda/lib/python3.7/site-packages (from google-cloud-storage) (1.15.0)\n",
            "Requirement already satisfied: google-auth<3.0dev,>=1.25.0 in /opt/conda/lib/python3.7/site-packages (from google-cloud-storage) (1.34.0)\n",
            "Requirement already satisfied: requests<3.0.0dev,>=2.18.0 in /opt/conda/lib/python3.7/site-packages (from google-cloud-storage) (2.25.1)\n",
            "Requirement already satisfied: protobuf in /opt/conda/lib/python3.7/site-packages (from google-cloud-storage) (3.16.0)\n",
            "Requirement already satisfied: pytz in /opt/conda/lib/python3.7/site-packages (from google-api-core[grpc]<3.0.0dev,>=1.26.0->google-cloud-aiplatform) (2021.1)\n",
            "Requirement already satisfied: googleapis-common-protos<2.0dev,>=1.6.0 in /opt/conda/lib/python3.7/site-packages (from google-api-core[grpc]<3.0.0dev,>=1.26.0->google-cloud-aiplatform) (1.53.0)\n",
            "Requirement already satisfied: setuptools>=40.3.0 in /opt/conda/lib/python3.7/site-packages (from google-api-core[grpc]<3.0.0dev,>=1.26.0->google-cloud-aiplatform) (49.6.0.post20210108)\n",
            "Requirement already satisfied: grpcio<2.0dev,>=1.29.0 in /opt/conda/lib/python3.7/site-packages (from google-api-core[grpc]<3.0.0dev,>=1.26.0->google-cloud-aiplatform) (1.34.1)\n",
            "Requirement already satisfied: pyasn1-modules>=0.2.1 in /opt/conda/lib/python3.7/site-packages (from google-auth<3.0dev,>=1.25.0->google-cloud-storage) (0.2.7)\n",
            "Requirement already satisfied: rsa<5,>=3.1.4 in /opt/conda/lib/python3.7/site-packages (from google-auth<3.0dev,>=1.25.0->google-cloud-storage) (4.7.2)\n",
            "Requirement already satisfied: cachetools<5.0,>=2.0.0 in /opt/conda/lib/python3.7/site-packages (from google-auth<3.0dev,>=1.25.0->google-cloud-storage) (4.2.2)\n",
            "Requirement already satisfied: google-crc32c<2.0dev,>=1.0 in /opt/conda/lib/python3.7/site-packages (from google-resumable-media<3.0dev,>=1.3.0->google-cloud-storage) (1.1.2)\n",
            "Requirement already satisfied: cffi>=1.0.0 in /opt/conda/lib/python3.7/site-packages (from google-crc32c<2.0dev,>=1.0->google-resumable-media<3.0dev,>=1.3.0->google-cloud-storage) (1.14.6)\n",
            "Requirement already satisfied: pycparser in /opt/conda/lib/python3.7/site-packages (from cffi>=1.0.0->google-crc32c<2.0dev,>=1.0->google-resumable-media<3.0dev,>=1.3.0->google-cloud-storage) (2.20)\n",
            "Requirement already satisfied: pyparsing>=2.0.2 in /opt/conda/lib/python3.7/site-packages (from packaging>=14.3->google-cloud-aiplatform) (2.4.7)\n",
            "Requirement already satisfied: pyasn1<0.5.0,>=0.4.6 in /opt/conda/lib/python3.7/site-packages (from pyasn1-modules>=0.2.1->google-auth<3.0dev,>=1.25.0->google-cloud-storage) (0.4.8)\n",
            "Requirement already satisfied: urllib3<1.27,>=1.21.1 in /opt/conda/lib/python3.7/site-packages (from requests<3.0.0dev,>=2.18.0->google-cloud-storage) (1.26.6)\n",
            "Requirement already satisfied: chardet<5,>=3.0.2 in /opt/conda/lib/python3.7/site-packages (from requests<3.0.0dev,>=2.18.0->google-cloud-storage) (4.0.0)\n",
            "Requirement already satisfied: certifi>=2017.4.17 in /opt/conda/lib/python3.7/site-packages (from requests<3.0.0dev,>=2.18.0->google-cloud-storage) (2021.5.30)\n",
            "Requirement already satisfied: idna<3,>=2.5 in /opt/conda/lib/python3.7/site-packages (from requests<3.0.0dev,>=2.18.0->google-cloud-storage) (2.10)\n",
            "Installing collected packages: google-cloud-storage, google-cloud-aiplatform\n",
            "  Attempting uninstall: google-cloud-storage\n",
            "    Found existing installation: google-cloud-storage 1.41.1\n",
            "    Uninstalling google-cloud-storage-1.41.1:\n",
            "      Successfully uninstalled google-cloud-storage-1.41.1\n",
            "  Attempting uninstall: google-cloud-aiplatform\n",
            "    Found existing installation: google-cloud-aiplatform 0.7.1\n",
            "    Uninstalling google-cloud-aiplatform-0.7.1:\n",
            "      Successfully uninstalled google-cloud-aiplatform-0.7.1\n",
            "\u001b[91mERROR: pip's dependency resolver does not currently take into account all the packages that are installed. This behaviour is the source of the following dependency conflicts.\n",
            "tfx 1.2.0 requires google-cloud-aiplatform<0.8,>=0.5.0, but you have google-cloud-aiplatform 1.4.3 which is incompatible.\n",
            "WARNING: Running pip as the 'root' user can result in broken permissions and conflicting behaviour with the system package manager. It is recommended to use a virtual environment instead: https://pip.pypa.io/warnings/venv\n",
            "\u001b[0mSuccessfully installed google-cloud-aiplatform-1.4.3 google-cloud-storage-1.42.2\n",
            "Removing intermediate container 18b78524ef68\n",
            " ---> a44c1c69a63b\n",
            "Successfully built a44c1c69a63b\n",
            "Successfully tagged gcr.io/central-hangar-321813/batch-prediction:tfx-1-2-0\n",
            "PUSH\n",
            "Pushing gcr.io/central-hangar-321813/batch-prediction:tfx-1-2-0\n",
            "The push refers to repository [gcr.io/central-hangar-321813/batch-prediction]\n",
            "63704001ad8b: Preparing\n",
            "9260d12a7c0b: Preparing\n",
            "921ac9243afc: Preparing\n",
            "d42c05f73feb: Preparing\n",
            "3119d30f29a9: Preparing\n",
            "121c9dfc7bce: Preparing\n",
            "868786b3710b: Preparing\n",
            "5bb1aa5df10d: Preparing\n",
            "f028010939aa: Preparing\n",
            "dc99c4ea3a81: Preparing\n",
            "37b508c5711b: Preparing\n",
            "756ab564e194: Preparing\n",
            "2ae86808a3d1: Preparing\n",
            "1dccbdf9b557: Preparing\n",
            "cfcbdbc2b748: Preparing\n",
            "937ab8f29c2e: Preparing\n",
            "5d417b2f7486: Preparing\n",
            "d6a297a3e6e4: Preparing\n",
            "6474a5e8117f: Preparing\n",
            "fe498124ed57: Preparing\n",
            "d5454704bb3d: Preparing\n",
            "fb896ef24b4b: Preparing\n",
            "5087113f67c8: Preparing\n",
            "2a92857a1d48: Preparing\n",
            "0ded97864c52: Preparing\n",
            "b50bbaac3e32: Preparing\n",
            "262ea1af4c10: Preparing\n",
            "b420a468ca49: Preparing\n",
            "608c205798d1: Preparing\n",
            "0760cd6d4269: Preparing\n",
            "fb4755c89c2a: Preparing\n",
            "22cfb9034da6: Preparing\n",
            "8bec4fbfce85: Preparing\n",
            "3b129ca3db46: Preparing\n",
            "64cb1a1930ab: Preparing\n",
            "600ef5a43f1f: Preparing\n",
            "8f8f0266f834: Preparing\n",
            "121c9dfc7bce: Waiting\n",
            "868786b3710b: Waiting\n",
            "5bb1aa5df10d: Waiting\n",
            "f028010939aa: Waiting\n",
            "dc99c4ea3a81: Waiting\n",
            "37b508c5711b: Waiting\n",
            "756ab564e194: Waiting\n",
            "2ae86808a3d1: Waiting\n",
            "1dccbdf9b557: Waiting\n",
            "262ea1af4c10: Waiting\n",
            "b420a468ca49: Waiting\n",
            "608c205798d1: Waiting\n",
            "0760cd6d4269: Waiting\n",
            "cfcbdbc2b748: Waiting\n",
            "937ab8f29c2e: Waiting\n",
            "5d417b2f7486: Waiting\n",
            "d6a297a3e6e4: Waiting\n",
            "6474a5e8117f: Waiting\n",
            "fe498124ed57: Waiting\n",
            "d5454704bb3d: Waiting\n",
            "fb896ef24b4b: Waiting\n",
            "5087113f67c8: Waiting\n",
            "2a92857a1d48: Waiting\n",
            "fb4755c89c2a: Waiting\n",
            "0ded97864c52: Waiting\n",
            "b50bbaac3e32: Waiting\n",
            "22cfb9034da6: Waiting\n",
            "8bec4fbfce85: Waiting\n",
            "3b129ca3db46: Waiting\n",
            "64cb1a1930ab: Waiting\n",
            "600ef5a43f1f: Waiting\n",
            "8f8f0266f834: Waiting\n",
            "d42c05f73feb: Layer already exists\n",
            "3119d30f29a9: Layer already exists\n",
            "121c9dfc7bce: Layer already exists\n",
            "868786b3710b: Layer already exists\n",
            "5bb1aa5df10d: Layer already exists\n",
            "f028010939aa: Layer already exists\n",
            "37b508c5711b: Layer already exists\n",
            "dc99c4ea3a81: Layer already exists\n",
            "2ae86808a3d1: Layer already exists\n",
            "756ab564e194: Layer already exists\n",
            "1dccbdf9b557: Layer already exists\n",
            "cfcbdbc2b748: Layer already exists\n",
            "5d417b2f7486: Layer already exists\n",
            "937ab8f29c2e: Layer already exists\n",
            "d6a297a3e6e4: Layer already exists\n",
            "6474a5e8117f: Layer already exists\n",
            "fe498124ed57: Layer already exists\n",
            "d5454704bb3d: Layer already exists\n",
            "fb896ef24b4b: Layer already exists\n",
            "5087113f67c8: Layer already exists\n",
            "2a92857a1d48: Layer already exists\n",
            "0ded97864c52: Layer already exists\n",
            "b50bbaac3e32: Layer already exists\n",
            "262ea1af4c10: Layer already exists\n",
            "608c205798d1: Layer already exists\n",
            "b420a468ca49: Layer already exists\n",
            "0760cd6d4269: Layer already exists\n",
            "fb4755c89c2a: Layer already exists\n",
            "22cfb9034da6: Layer already exists\n",
            "8bec4fbfce85: Layer already exists\n",
            "3b129ca3db46: Layer already exists\n",
            "64cb1a1930ab: Layer already exists\n",
            "600ef5a43f1f: Layer already exists\n",
            "8f8f0266f834: Layer already exists\n",
            "921ac9243afc: Pushed\n",
            "9260d12a7c0b: Pushed\n",
            "63704001ad8b: Pushed\n",
            "tfx-1-2-0: digest: sha256:fa6363e312961564115dd5231f63979ec15a8edd8bd514d9dc14896bd7ec79be size: 8099\n",
            "DONE\n",
            "\n",
            "ID                                    CREATE_TIME                DURATION  SOURCE                                                                                               IMAGES                                                   STATUS\n",
            "04eb8e1c-b66f-44c4-aa27-33ea17a35c89  2021-09-18T07:57:03+00:00  4M9S      gs://central-hangar-321813_cloudbuild/source/1631951813.220174-2cf1dd0c8f49477cb61e0b68ec72922d.tgz  gcr.io/central-hangar-321813/batch-prediction:tfx-1-2-0  SUCCESS\n"
          ]
        }
      ]
    },
    {
      "cell_type": "code",
      "metadata": {
        "id": "XDNAaIjB6HWy"
      },
      "source": [
        "import tfx\n",
        "from tfx.orchestration.pipeline import Pipeline\n",
        "from custom_components.file_list_gen import FileListGen\n",
        "\n",
        "def _create_pipeline(\n",
        "    pipeline_name: str,\n",
        "    pipeline_root: str,\n",
        "    data_gcs_bucket: str,\n",
        "    data_gcs_prefix: str,\n",
        "    project_id: str,\n",
        "    region: str,\n",
        ") -> Pipeline :\n",
        "  filelist_gen = FileListGen(\n",
        "      project = project_id, \n",
        "      gcs_source_bucket = data_gcs_bucket,\n",
        "      gcs_source_prefix = data_gcs_prefix,\n",
        "  )\n",
        "\n",
        "  components = [\n",
        "    filelist_gen,\n",
        "  ]\n",
        "\n",
        "  return Pipeline(\n",
        "      pipeline_name=pipeline_name, \n",
        "      pipeline_root=pipeline_root,\n",
        "      components=components\n",
        "  )"
      ],
      "execution_count": 15,
      "outputs": []
    },
    {
      "cell_type": "code",
      "metadata": {
        "id": "Gi3BobZw7JiS"
      },
      "source": [
        "import os\n",
        "import tfx\n",
        "from tfx.orchestration.kubeflow.v2.kubeflow_v2_dag_runner import KubeflowV2DagRunner\n",
        "from tfx.orchestration.kubeflow.v2.kubeflow_v2_dag_runner import KubeflowV2DagRunnerConfig\n",
        "\n",
        "PIPELINE_DEFINITION_FILE = PIPELINE_NAME + '_pipeline.json'\n",
        "\n",
        "# Important: We need to pass the custom Docker image URI to the\n",
        "# `KubeflowV2DagRunnerConfig` to take effect.\n",
        "runner = KubeflowV2DagRunner(\n",
        "    config=KubeflowV2DagRunnerConfig(default_image=TFX_IMAGE_URI),\n",
        "    output_filename=PIPELINE_DEFINITION_FILE)\n",
        "\n",
        "_ = runner.run(\n",
        "    _create_pipeline(\n",
        "        pipeline_name=PIPELINE_NAME,\n",
        "        pipeline_root=PIPELINE_ROOT,\n",
        "        data_gcs_bucket=TEST_GCS_BUCKET,\n",
        "        data_gcs_prefix=TEST_GCS_PREFIX,\n",
        "        project_id=GOOGLE_CLOUD_PROJECT,\n",
        "        region=GOOGLE_CLOUD_REGION\n",
        "    )\n",
        ")"
      ],
      "execution_count": 16,
      "outputs": []
    },
    {
      "cell_type": "code",
      "metadata": {
        "id": "M6ofDcYP7ogx",
        "outputId": "be8521c3-7d5e-4b94-b444-153ea156ba49",
        "colab": {
          "base_uri": "https://localhost:8080/",
          "height": 71
        }
      },
      "source": [
        "from kfp.v2.google import client\n",
        "\n",
        "pipelines_client = client.AIPlatformClient(\n",
        "    project_id=GOOGLE_CLOUD_PROJECT,\n",
        "    region=GOOGLE_CLOUD_REGION,\n",
        ")\n",
        "\n",
        "_ = pipelines_client.create_run_from_job_spec(PIPELINE_DEFINITION_FILE, enable_caching=True)"
      ],
      "execution_count": 19,
      "outputs": [
        {
          "output_type": "stream",
          "name": "stderr",
          "text": [
            "WARNING:google.auth._default:No project ID could be determined. Consider running `gcloud config set project` or setting the GOOGLE_CLOUD_PROJECT environment variable\n"
          ]
        },
        {
          "output_type": "display_data",
          "data": {
            "text/html": [
              "See the Pipeline job <a href=\"https://console.cloud.google.com/vertex-ai/locations/us-central1/pipelines/runs/continuous-adaptation-for-data-changes-batch-20210918081858?project=central-hangar-321813\" target=\"_blank\" >here</a>."
            ],
            "text/plain": [
              "<IPython.core.display.HTML object>"
            ]
          },
          "metadata": {}
        }
      ]
    },
    {
      "cell_type": "code",
      "metadata": {
        "id": "RvAV1uCf_GXa"
      },
      "source": [
        ""
      ],
      "execution_count": null,
      "outputs": []
    }
  ]
}