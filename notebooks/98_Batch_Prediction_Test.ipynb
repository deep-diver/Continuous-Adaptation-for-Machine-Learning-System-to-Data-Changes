{
  "nbformat": 4,
  "nbformat_minor": 2,
  "metadata": {
    "orig_nbformat": 4,
    "colab": {
      "name": "03_Batch_Prediction_Performance.ipynb",
      "provenance": [],
      "include_colab_link": true
    },
    "language_info": {
      "name": "python"
    },
    "kernelspec": {
      "name": "python3",
      "display_name": "Python 3"
    }
  },
  "cells": [
    {
      "cell_type": "markdown",
      "source": [
        "<a href=\"https://colab.research.google.com/github/deep-diver/Continuous-Adaptation-for-Machine-Learning-System-to-Data-Changes/blob/main/notebooks/03_Batch_Prediction_Performance.ipynb\" target=\"_parent\"><img src=\"https://colab.research.google.com/assets/colab-badge.svg\" alt=\"Open In Colab\"/></a>"
      ],
      "metadata": {
        "id": "view-in-github",
        "colab_type": "text"
      }
    },
    {
      "cell_type": "markdown",
      "source": [
        "## Outline\n",
        "1. Upload the data to the designated GCS bucket\n",
        "  - The data is stored in GCS bucket to simulate a real world scenario. In reality, data is collected in a central location(i.e. GCS bucket), and it will be used measure the model performance. We can measure the model performance much more reliable on a batch data than a single data(online)\n",
        "2. Perform batch prediction\n",
        "3. Measure the model performance(accuracy) on the data "
      ],
      "metadata": {
        "id": "msGXve8btxnH"
      }
    },
    {
      "cell_type": "markdown",
      "source": [
        "## Setup"
      ],
      "metadata": {}
    },
    {
      "cell_type": "code",
      "execution_count": 21,
      "source": [
        "!pip install -q --upgrade google-cloud-aiplatform\n",
        "!pip install -q --upgrade google-cloud-storage"
      ],
      "outputs": [],
      "metadata": {
        "id": "heCy5KIqGmN5"
      }
    },
    {
      "cell_type": "code",
      "execution_count": null,
      "source": [
        "!gcloud init"
      ],
      "outputs": [],
      "metadata": {
        "colab": {
          "base_uri": "https://localhost:8080/"
        },
        "id": "P28WFWH2GpwG",
        "outputId": "722815da-315d-4e1e-dc4b-b121ec397f8a"
      }
    },
    {
      "cell_type": "code",
      "execution_count": 44,
      "source": [
        "from google.colab import auth\n",
        "auth.authenticate_user()"
      ],
      "outputs": [],
      "metadata": {
        "id": "6v_P4FAjGuGf"
      }
    },
    {
      "cell_type": "markdown",
      "source": [
        "## Set Environment Values for GCP"
      ],
      "metadata": {}
    },
    {
      "cell_type": "code",
      "execution_count": 57,
      "source": [
        "GOOGLE_CLOUD_PROJECT = 'central-hangar-321813'    #@param {type:\"string\"}\n",
        "GOOGLE_CLOUD_REGION = 'us-central1'             #@param {type:\"string\"}\n",
        "\n",
        "MODEL_NAME = 'resnet_cifar_latest' #@param {type:\"string\"}\n",
        "\n",
        "TEST_FILENAME = 'test-images.txt' #@param {type:\"string\"}\n",
        "TEST_GCS_BUCKET = 'gs://batch-prediction-collection' #@param {type:\"string\"}\n",
        "TEST_LOCAL_PATH = 'Continuous-Adaptation-for-Machine-Learning-System-to-Data-Changes/notebooks/test-images' #@param {type:\"string\"}\n"
      ],
      "outputs": [],
      "metadata": {
        "id": "2Y4ZMVcLHHkX"
      }
    },
    {
      "cell_type": "markdown",
      "source": [
        "## Clone the Repository to Obtain Test Images\n",
        "- There are only 10 image files for simple testing purpose"
      ],
      "metadata": {}
    },
    {
      "cell_type": "code",
      "execution_count": 12,
      "source": [
        "!git clone https://github.com/deep-diver/Continuous-Adaptation-for-Machine-Learning-System-to-Data-Changes.git"
      ],
      "outputs": [
        {
          "output_type": "stream",
          "name": "stdout",
          "text": [
            "Cloning into 'Continuous-Adaptation-for-Machine-Learning-System-to-Data-Changes'...\n",
            "remote: Enumerating objects: 100, done.\u001b[K\n",
            "remote: Counting objects: 100% (100/100), done.\u001b[K\n",
            "remote: Compressing objects: 100% (78/78), done.\u001b[K\n",
            "remote: Total 100 (delta 59), reused 38 (delta 21), pack-reused 0\u001b[K\n",
            "Receiving objects: 100% (100/100), 57.61 KiB | 14.40 MiB/s, done.\n",
            "Resolving deltas: 100% (59/59), done.\n"
          ]
        }
      ],
      "metadata": {
        "colab": {
          "base_uri": "https://localhost:8080/"
        },
        "id": "KHcBvji7Rbrs",
        "outputId": "31cefc83-90c1-4568-87b3-66e1bfba6384"
      }
    },
    {
      "cell_type": "code",
      "execution_count": 58,
      "source": [
        "from os import listdir\n",
        "\n",
        "test_files = listdir(TEST_LOCAL_PATH)\n",
        "test_files"
      ],
      "outputs": [
        {
          "output_type": "execute_result",
          "data": {
            "text/plain": [
              "['frog_0000.jpg',\n",
              " 'truck_0000.jpg',\n",
              " 'dog_0000.jpg',\n",
              " 'cat_0000.jpg',\n",
              " 'ship_0000.jpg',\n",
              " 'deer_0000.jpg',\n",
              " 'bird_0000.jpg',\n",
              " 'horse_0000.jpg',\n",
              " 'automobile_0000.jpg',\n",
              " 'airplane_0000.jpg']"
            ]
          },
          "metadata": {},
          "execution_count": 58
        }
      ],
      "metadata": {
        "colab": {
          "base_uri": "https://localhost:8080/"
        },
        "id": "GDexvxTXRfWH",
        "outputId": "2bd5f4d9-588d-414e-e819-0f8969034e29"
      }
    },
    {
      "cell_type": "markdown",
      "source": [
        "## Create Import File to be Injected into Batch Prediction\n",
        "- Batch request input should follow a certain format in Vertex AI Prediction. JSONL, TFRecord, CSV, file list formats are available([link](https://cloud.google.com/vertex-ai/docs/predictions/batch-predictions#batch_request_input)), and file list format is used in this notebook"
      ],
      "metadata": {}
    },
    {
      "cell_type": "code",
      "execution_count": 64,
      "source": [
        "f = open(TEST_FILENAME, \"w\")\n",
        "\n",
        "for filename in test_files:\n",
        "  f.write(f'{TEST_GCS_BUCKET}/{filename}\\n')\n",
        "\n",
        "f.close()"
      ],
      "outputs": [],
      "metadata": {
        "id": "OJR9wy6GXyJv"
      }
    },
    {
      "cell_type": "code",
      "execution_count": 65,
      "source": [
        "!cat {TEST_FILENAME}"
      ],
      "outputs": [
        {
          "output_type": "stream",
          "name": "stdout",
          "text": [
            "gs://batch-prediction-collection/frog_0000.jpg\n",
            "gs://batch-prediction-collection/truck_0000.jpg\n",
            "gs://batch-prediction-collection/dog_0000.jpg\n",
            "gs://batch-prediction-collection/cat_0000.jpg\n",
            "gs://batch-prediction-collection/ship_0000.jpg\n",
            "gs://batch-prediction-collection/deer_0000.jpg\n",
            "gs://batch-prediction-collection/bird_0000.jpg\n",
            "gs://batch-prediction-collection/horse_0000.jpg\n",
            "gs://batch-prediction-collection/automobile_0000.jpg\n",
            "gs://batch-prediction-collection/airplane_0000.jpg\n"
          ]
        }
      ],
      "metadata": {
        "colab": {
          "base_uri": "https://localhost:8080/"
        },
        "id": "mmRePB6aYRfR",
        "outputId": "2ea2566d-a1a0-4dae-c7ef-6152ea6f79cc"
      }
    },
    {
      "cell_type": "markdown",
      "source": [
        "## Copy Test Images and Import File to GCS Bucket"
      ],
      "metadata": {}
    },
    {
      "cell_type": "code",
      "execution_count": 66,
      "source": [
        "!gsutil -m cp -r {TEST_FILENAME} {TEST_GCS_BUCKET}\n",
        "!gsutil -m cp -r {TEST_LOCAL_PATH}/*.jpg {TEST_GCS_BUCKET}"
      ],
      "outputs": [
        {
          "output_type": "stream",
          "name": "stdout",
          "text": [
            "Copying file://test-images.txt [Content-Type=text/plain]...\n",
            "/ [0/1 files][    0.0 B/  480.0 B]   0% Done                                    \r/ [1/1 files][  480.0 B/  480.0 B] 100% Done                                    \r\n",
            "Operation completed over 1 objects/480.0 B.                                      \n",
            "Copying file://Continuous-Adaptation-for-Machine-Learning-System-to-Data-Changes/notebooks/test-images/dog_0000.jpg [Content-Type=image/jpeg]...\n",
            "Copying file://Continuous-Adaptation-for-Machine-Learning-System-to-Data-Changes/notebooks/test-images/automobile_0000.jpg [Content-Type=image/jpeg]...\n",
            "Copying file://Continuous-Adaptation-for-Machine-Learning-System-to-Data-Changes/notebooks/test-images/cat_0000.jpg [Content-Type=image/jpeg]...\n",
            "Copying file://Continuous-Adaptation-for-Machine-Learning-System-to-Data-Changes/notebooks/test-images/frog_0000.jpg [Content-Type=image/jpeg]...\n",
            "Copying file://Continuous-Adaptation-for-Machine-Learning-System-to-Data-Changes/notebooks/test-images/bird_0000.jpg [Content-Type=image/jpeg]...\n",
            "Copying file://Continuous-Adaptation-for-Machine-Learning-System-to-Data-Changes/notebooks/test-images/airplane_0000.jpg [Content-Type=image/jpeg]...\n",
            "Copying file://Continuous-Adaptation-for-Machine-Learning-System-to-Data-Changes/notebooks/test-images/horse_0000.jpg [Content-Type=image/jpeg]...\n",
            "Copying file://Continuous-Adaptation-for-Machine-Learning-System-to-Data-Changes/notebooks/test-images/deer_0000.jpg [Content-Type=image/jpeg]...\n",
            "Copying file://Continuous-Adaptation-for-Machine-Learning-System-to-Data-Changes/notebooks/test-images/truck_0000.jpg [Content-Type=image/jpeg]...\n",
            "Copying file://Continuous-Adaptation-for-Machine-Learning-System-to-Data-Changes/notebooks/test-images/ship_0000.jpg [Content-Type=image/jpeg]...\n",
            "/ [10/10 files][  9.2 KiB/  9.2 KiB] 100% Done                                  \n",
            "Operation completed over 10 objects/9.2 KiB.                                     \n"
          ]
        }
      ],
      "metadata": {
        "colab": {
          "base_uri": "https://localhost:8080/"
        },
        "id": "WdeuJt5YYVPw",
        "outputId": "d34b6904-a954-4a25-ba64-58d560f063f3"
      }
    },
    {
      "cell_type": "markdown",
      "source": [
        "## Batch Prediction"
      ],
      "metadata": {
        "id": "-mVFSRUQHdEj"
      }
    },
    {
      "cell_type": "code",
      "execution_count": 68,
      "source": [
        "import google.cloud.aiplatform as aiplatform\n",
        "from typing import Union, Sequence\n",
        "\n",
        "def create_batch_prediction_job_dedicated_resources_sample(\n",
        "    project: str,\n",
        "    location: str,\n",
        "    model_resource_name: str,\n",
        "    job_display_name: str,\n",
        "    gcs_source: Union[str, Sequence[str]],\n",
        "    gcs_destination: str,\n",
        "    instances_format: str = \"file-list\",\n",
        "    machine_type: str = \"n1-standard-2\",\n",
        "    accelerator_count: int = 1,\n",
        "    accelerator_type: str = \"NVIDIA_TESLA_K80\",\n",
        "    starting_replica_count: int = 1,\n",
        "    max_replica_count: int = 1,\n",
        "    sync: bool = True,\n",
        "):\n",
        "    aiplatform.init(project=project, location=location)\n",
        "\n",
        "    my_model = aiplatform.Model(model_resource_name)\n",
        "\n",
        "    batch_prediction_job = my_model.batch_predict(\n",
        "        job_display_name=job_display_name,\n",
        "        instances_format=instances_format,\n",
        "        gcs_source=gcs_source,\n",
        "        gcs_destination_prefix=gcs_destination,\n",
        "        machine_type=machine_type,\n",
        "        accelerator_count=accelerator_count,\n",
        "        accelerator_type=accelerator_type,\n",
        "        starting_replica_count=starting_replica_count,\n",
        "        max_replica_count=max_replica_count,\n",
        "        sync=sync,\n",
        "    )\n",
        "\n",
        "    batch_prediction_job.wait()\n",
        "\n",
        "    print(batch_prediction_job.display_name)\n",
        "    print(batch_prediction_job.resource_name)\n",
        "    print(batch_prediction_job.state)\n",
        "    return batch_prediction_job"
      ],
      "outputs": [],
      "metadata": {
        "id": "z_0QXPfcHc3p"
      }
    },
    {
      "cell_type": "code",
      "execution_count": 69,
      "source": [
        "from datetime import datetime\n",
        "\n",
        "TIMESTAMP = datetime.now().strftime(\"%Y%m%d%H%M%S\")"
      ],
      "outputs": [],
      "metadata": {
        "id": "BkAJqucqaw_r"
      }
    },
    {
      "cell_type": "code",
      "execution_count": 70,
      "source": [
        "create_batch_prediction_job_dedicated_resources_sample(\n",
        "    project=GOOGLE_CLOUD_PROJECT, \n",
        "    location=GOOGLE_CLOUD_REGION,\n",
        "    model_resource_name='2008244793993330688',\n",
        "    job_display_name=f'{MODEL_NAME}-{TIMESTAMP}',\n",
        "    gcs_source=[f'{TEST_GCS_BUCKET}/{TEST_FILENAME}'],\n",
        "    gcs_destination=f'{TEST_GCS_BUCKET}/results/',\n",
        "    accelerator_type=None,\n",
        "    accelerator_count=None\n",
        ")"
      ],
      "outputs": [
        {
          "output_type": "stream",
          "name": "stdout",
          "text": [
            "INFO:google.cloud.aiplatform.jobs:Creating BatchPredictionJob\n",
            "INFO:google.cloud.aiplatform.jobs:BatchPredictionJob created. Resource name: projects/31482268105/locations/us-central1/batchPredictionJobs/1680882799009071104\n",
            "INFO:google.cloud.aiplatform.jobs:To use this BatchPredictionJob in another session:\n",
            "INFO:google.cloud.aiplatform.jobs:bpj = aiplatform.BatchPredictionJob('projects/31482268105/locations/us-central1/batchPredictionJobs/1680882799009071104')\n",
            "INFO:google.cloud.aiplatform.jobs:View Batch Prediction Job:\n",
            "https://console.cloud.google.com/ai/platform/locations/us-central1/batch-predictions/1680882799009071104?project=31482268105\n",
            "INFO:google.cloud.aiplatform.jobs:BatchPredictionJob projects/31482268105/locations/us-central1/batchPredictionJobs/1680882799009071104 current state:\n",
            "JobState.JOB_STATE_RUNNING\n",
            "INFO:google.cloud.aiplatform.jobs:BatchPredictionJob projects/31482268105/locations/us-central1/batchPredictionJobs/1680882799009071104 current state:\n",
            "JobState.JOB_STATE_RUNNING\n",
            "INFO:google.cloud.aiplatform.jobs:BatchPredictionJob projects/31482268105/locations/us-central1/batchPredictionJobs/1680882799009071104 current state:\n",
            "JobState.JOB_STATE_RUNNING\n",
            "INFO:google.cloud.aiplatform.jobs:BatchPredictionJob projects/31482268105/locations/us-central1/batchPredictionJobs/1680882799009071104 current state:\n",
            "JobState.JOB_STATE_RUNNING\n",
            "INFO:google.cloud.aiplatform.jobs:BatchPredictionJob projects/31482268105/locations/us-central1/batchPredictionJobs/1680882799009071104 current state:\n",
            "JobState.JOB_STATE_RUNNING\n",
            "INFO:google.cloud.aiplatform.jobs:BatchPredictionJob projects/31482268105/locations/us-central1/batchPredictionJobs/1680882799009071104 current state:\n",
            "JobState.JOB_STATE_RUNNING\n",
            "INFO:google.cloud.aiplatform.jobs:BatchPredictionJob projects/31482268105/locations/us-central1/batchPredictionJobs/1680882799009071104 current state:\n",
            "JobState.JOB_STATE_RUNNING\n",
            "INFO:google.cloud.aiplatform.jobs:BatchPredictionJob projects/31482268105/locations/us-central1/batchPredictionJobs/1680882799009071104 current state:\n",
            "JobState.JOB_STATE_RUNNING\n",
            "INFO:google.cloud.aiplatform.jobs:BatchPredictionJob projects/31482268105/locations/us-central1/batchPredictionJobs/1680882799009071104 current state:\n",
            "JobState.JOB_STATE_SUCCEEDED\n",
            "INFO:google.cloud.aiplatform.jobs:BatchPredictionJob run completed. Resource name: projects/31482268105/locations/us-central1/batchPredictionJobs/1680882799009071104\n",
            "resnet_cifar_latest-20210917022404\n",
            "projects/31482268105/locations/us-central1/batchPredictionJobs/1680882799009071104\n",
            "JobState.JOB_STATE_SUCCEEDED\n"
          ]
        },
        {
          "output_type": "execute_result",
          "data": {
            "text/plain": [
              "<google.cloud.aiplatform.jobs.BatchPredictionJob object at 0x7f6598844910> \n",
              "resource name: projects/31482268105/locations/us-central1/batchPredictionJobs/1680882799009071104"
            ]
          },
          "metadata": {},
          "execution_count": 70
        }
      ],
      "metadata": {
        "colab": {
          "base_uri": "https://localhost:8080/"
        },
        "id": "Hb1g6qdNLTfP",
        "outputId": "442d7ada-b10f-456b-b2e4-7ccb7df86e5a"
      }
    },
    {
      "cell_type": "markdown",
      "source": [
        "## Evaluate Batch Prediction"
      ],
      "metadata": {}
    },
    {
      "cell_type": "code",
      "execution_count": 72,
      "source": [
        "import os\n",
        "import json\n",
        "\n",
        "RESULTS_DIRECTORY = \"results\"\n",
        "RESULTS_DIRECTORY_FULL = f'{TEST_GCS_BUCKET}/{RESULTS_DIRECTORY}'\n",
        "\n",
        "# Create missing directories\n",
        "os.makedirs(RESULTS_DIRECTORY, exist_ok=True)\n",
        "\n",
        "# Get the Cloud Storage paths for each result\n",
        "!gsutil -m cp -r $RESULTS_DIRECTORY_FULL $RESULTS_DIRECTORY\n",
        "\n",
        "# Get most recently modified directory\n",
        "latest_directory = max(\n",
        "    [\n",
        "        os.path.join(RESULTS_DIRECTORY, d)\n",
        "        for d in os.listdir(RESULTS_DIRECTORY)\n",
        "    ],\n",
        "    key=os.path.getmtime,\n",
        ")\n",
        "\n",
        "# Get downloaded results in directory\n",
        "results_files = []\n",
        "for dirpath, subdirs, files in os.walk(latest_directory):\n",
        "    for file in files:\n",
        "        if file.startswith(\"prediction.results\"):\n",
        "            results_files.append(os.path.join(dirpath, file))\n",
        "\n",
        "# Consolidate all the results into a list\n",
        "results = []\n",
        "for results_file in results_files:\n",
        "    # Download each result\n",
        "    with open(results_file, \"r\") as file:\n",
        "        results.extend([json.loads(line) for line in file.readlines()])"
      ],
      "outputs": [
        {
          "output_type": "stream",
          "name": "stdout",
          "text": [
            "Copying gs://batch-prediction-collection/results/prediction-resnet_cifar_latest-2021_09_16T19_24_05_801Z/prediction.results-00000-of-00001...\n",
            "/ [0/6 files][    0.0 B/  1.3 KiB]   0% Done                                    \rCopying gs://batch-prediction-collection/results/prediction-resnet_cifar_latest-2021_09_16T18_47_39_122Z/prediction.results-00000-of-00001...\n",
            "/ [0/6 files][    0.0 B/  1.3 KiB]   0% Done                                    \rCopying gs://batch-prediction-collection/results/prediction-resnet_cifar_latest-2021_09_16T18_47_39_122Z/prediction.errors_stats-00000-of-00001...\n",
            "/ [0/6 files][    0.0 B/  1.3 KiB]   0% Done                                    \rCopying gs://batch-prediction-collection/results/prediction-resnet_cifar_latest-2021_09_16T19_23_55_003Z/prediction.errors_stats-00000-of-00001...\n",
            "/ [0/6 files][    0.0 B/  1.3 KiB]   0% Done                                    \r/ [1/6 files][    0.0 B/  1.3 KiB]   0% Done                                    \rCopying gs://batch-prediction-collection/results/prediction-resnet_cifar_latest-2021_09_16T19_23_55_003Z/prediction.results-00000-of-00001...\n",
            "Copying gs://batch-prediction-collection/results/prediction-resnet_cifar_latest-2021_09_16T19_24_05_801Z/prediction.errors_stats-00000-of-00001...\n",
            "/ [6/6 files][  1.3 KiB/  1.3 KiB] 100% Done                                    \n",
            "Operation completed over 6 objects/1.3 KiB.                                      \n"
          ]
        }
      ],
      "metadata": {
        "colab": {
          "base_uri": "https://localhost:8080/"
        },
        "id": "b9Hz7CVqbE5o",
        "outputId": "08df5dd9-79b1-458b-aa63-b393eee60238"
      }
    },
    {
      "cell_type": "code",
      "execution_count": 73,
      "source": [
        "results"
      ],
      "outputs": [
        {
          "output_type": "execute_result",
          "data": {
            "text/plain": [
              "[{'instance': 'gs://batch-prediction-collection/airplane_0000.jpg',\n",
              "  'prediction': {'confidence': 0.635806859, 'label': 'ship'}},\n",
              " {'instance': 'gs://batch-prediction-collection/cat_0000.jpg',\n",
              "  'prediction': {'confidence': 0.514597297, 'label': 'cat'}},\n",
              " {'instance': 'gs://batch-prediction-collection/ship_0000.jpg',\n",
              "  'prediction': {'confidence': 0.944843113, 'label': 'ship'}},\n",
              " {'instance': 'gs://batch-prediction-collection/bird_0000.jpg',\n",
              "  'prediction': {'confidence': 0.710508406, 'label': 'horse'}},\n",
              " {'instance': 'gs://batch-prediction-collection/truck_0000.jpg',\n",
              "  'prediction': {'confidence': 0.980968714, 'label': 'truck'}},\n",
              " {'instance': 'gs://batch-prediction-collection/frog_0000.jpg',\n",
              "  'prediction': {'confidence': 0.696931422, 'label': 'frog'}},\n",
              " {'instance': 'gs://batch-prediction-collection/dog_0000.jpg',\n",
              "  'prediction': {'confidence': 0.382295936, 'label': 'cat'}},\n",
              " {'instance': 'gs://batch-prediction-collection/deer_0000.jpg',\n",
              "  'prediction': {'confidence': 0.437720776, 'label': 'dog'}},\n",
              " {'instance': 'gs://batch-prediction-collection/automobile_0000.jpg',\n",
              "  'prediction': {'confidence': 0.460335433, 'label': 'automobile'}},\n",
              " {'instance': 'gs://batch-prediction-collection/horse_0000.jpg',\n",
              "  'prediction': {'confidence': 0.918733776, 'label': 'dog'}}]"
            ]
          },
          "metadata": {},
          "execution_count": 73
        }
      ],
      "metadata": {
        "colab": {
          "base_uri": "https://localhost:8080/"
        },
        "id": "aCHYk8L0p6ED",
        "outputId": "ca9348c1-db4e-43e2-cf41-1a066d727389"
      }
    },
    {
      "cell_type": "code",
      "execution_count": 83,
      "source": [
        "num_correct = 0\n",
        "\n",
        "for result in results:\n",
        "  label = os.path.basename(result['instance']).split(\"_\")[0]\n",
        "  prediction = result['prediction']['label']\n",
        "\n",
        "  print(f'label({label})/prediction({prediction})')\n",
        "  if label == prediction: \n",
        "    num_correct = num_correct + 1\n",
        "\n",
        "print()\n",
        "print(f'number of results: {len(results)}')\n",
        "print(f'number of correct: {num_correct}')\n",
        "print(f'Accuracy: {num_correct/len(results)}')"
      ],
      "outputs": [
        {
          "output_type": "stream",
          "name": "stdout",
          "text": [
            "label(airplane)/prediction(ship)\n",
            "label(cat)/prediction(cat)\n",
            "label(ship)/prediction(ship)\n",
            "label(bird)/prediction(horse)\n",
            "label(truck)/prediction(truck)\n",
            "label(frog)/prediction(frog)\n",
            "label(dog)/prediction(cat)\n",
            "label(deer)/prediction(dog)\n",
            "label(automobile)/prediction(automobile)\n",
            "label(horse)/prediction(dog)\n",
            "\n",
            "number of results: 10\n",
            "number of correct: 5\n",
            "Accuracy: 0.5\n"
          ]
        }
      ],
      "metadata": {
        "colab": {
          "base_uri": "https://localhost:8080/"
        },
        "id": "g-6UdwcKqDKO",
        "outputId": "4545ebf3-71fa-477f-8c51-1068a6d65226"
      }
    },
    {
      "cell_type": "code",
      "execution_count": null,
      "source": [],
      "outputs": [],
      "metadata": {
        "id": "rqGzTU7IqeOE"
      }
    }
  ]
}