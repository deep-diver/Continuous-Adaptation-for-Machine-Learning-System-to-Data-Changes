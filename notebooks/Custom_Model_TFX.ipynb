{
  "nbformat": 4,
  "nbformat_minor": 2,
  "metadata": {
    "colab": {
      "name": "Custom_Model_TFX",
      "provenance": [],
      "collapsed_sections": [],
      "machine_shape": "hm"
    },
    "environment": {
      "name": "tf2-gpu.2-4.mnightly-2021-02-02-debian-10-test",
      "type": "gcloud",
      "uri": "gcr.io/deeplearning-platform-release/tf2-gpu.2-4:mnightly-2021-02-02-debian-10-test"
    },
    "kernelspec": {
      "display_name": "Python 3",
      "language": "python",
      "name": "python3"
    },
    "language_info": {
      "codemirror_mode": {
        "name": "ipython",
        "version": 3
      },
      "file_extension": ".py",
      "mimetype": "text/x-python",
      "name": "python",
      "nbconvert_exporter": "python",
      "pygments_lexer": "ipython3",
      "version": "3.7.4"
    }
  },
  "cells": [
    {
      "cell_type": "markdown",
      "source": [
        "This notebook assumes you are familiar with the basics of Vertex AI, TFX (especially custom components), and TensorFlow. "
      ],
      "metadata": {
        "id": "mTVp-9PGYFIO"
      }
    },
    {
      "cell_type": "markdown",
      "source": [
        "## References\n",
        "\n",
        "This notebook refers to the following resources and also reuses parts of the code from there: \n",
        "* [Simple TFX Pipeline for Vertex Pipelines](https://colab.research.google.com/github/tensorflow/tfx/blob/master/docs/tutorials/tfx/gcp/vertex_pipelines_simple.ipynb)\n",
        "* [Vertex AI Training with TFX and Vertex Pipelines](https://www.tensorflow.org/tfx/tutorials/tfx/gcp/vertex_pipelines_vertex_training)\n",
        "* [Importing models to Vertex AI](https://cloud.google.com/vertex-ai/docs/general/import-model)\n",
        "* [Deploying a model using the Vertex AI API](https://cloud.google.com/vertex-ai/docs/predictions/deploy-model-api)\n",
        "* [MLOPs with Vertex AI](https://github.com/GoogleCloudPlatform/mlops-with-vertex-ai)\n",
        "* [Custom components TFX](https://www.tensorflow.org/tfx/tutorials/tfx/python_function_component)"
      ],
      "metadata": {
        "id": "W7gJqmqrsfqh"
      }
    },
    {
      "cell_type": "markdown",
      "source": [
        "## Setup"
      ],
      "metadata": {
        "id": "D04aKMGWXjOu"
      }
    },
    {
      "cell_type": "code",
      "execution_count": null,
      "source": [
        "# Use the latest version of pip.\n",
        "%%capture\n",
        "!pip install --upgrade pip\n",
        "!pip install --upgrade tfx==1.0.0 kfp==1.6.1\n",
        "!pip install -q --upgrade google-cloud-aiplatform"
      ],
      "outputs": [],
      "metadata": {
        "id": "I_niUhp_TY1G"
      }
    },
    {
      "cell_type": "markdown",
      "source": [
        "### ***Please restart runtime before continuing.*** "
      ],
      "metadata": {
        "id": "ZVmgQ6w1oT_Z"
      }
    },
    {
      "cell_type": "code",
      "execution_count": null,
      "source": [
        "!gcloud init"
      ],
      "outputs": [],
      "metadata": {
        "id": "mstgsNHWoiXk"
      }
    },
    {
      "cell_type": "code",
      "execution_count": null,
      "source": [
        "from google.colab import auth\n",
        "auth.authenticate_user()"
      ],
      "outputs": [],
      "metadata": {
        "id": "Pl8ewjX3oXRx"
      }
    },
    {
      "cell_type": "markdown",
      "source": [
        "## Imports"
      ],
      "metadata": {
        "id": "zqVWpmywXngD"
      }
    },
    {
      "cell_type": "code",
      "execution_count": null,
      "source": [
        "import tensorflow as tf\n",
        "print('TensorFlow version: {}'.format(tf.__version__))\n",
        "from tfx import v1 as tfx\n",
        "print('TFX version: {}'.format(tfx.__version__))\n",
        "import kfp\n",
        "print('KFP version: {}'.format(kfp.__version__))\n",
        "\n",
        "from google.cloud import aiplatform as vertex_ai\n",
        "import os"
      ],
      "outputs": [
        {
          "output_type": "stream",
          "name": "stdout",
          "text": [
            "TensorFlow version: 2.5.0\n",
            "TFX version: 1.0.0\n",
            "KFP version: 1.6.1\n"
          ]
        }
      ],
      "metadata": {
        "colab": {
          "base_uri": "https://localhost:8080/"
        },
        "id": "wptXF0e-UXsT",
        "outputId": "1bb97d2e-f3f5-419f-e987-b2847a6adb8a"
      }
    },
    {
      "cell_type": "markdown",
      "source": [
        "## Environment setup"
      ],
      "metadata": {
        "id": "hFYHeepnXxpZ"
      }
    },
    {
      "cell_type": "code",
      "execution_count": null,
      "source": [
        "GOOGLE_CLOUD_PROJECT = ''    #@param {type:\"string\"}\n",
        "GOOGLE_CLOUD_REGION = ''             #@param {type:\"string\"}\n",
        "GCS_BUCKET_NAME = ''            #@param {type:\"string\"}\n",
        "\n",
        "if not (GOOGLE_CLOUD_PROJECT and GOOGLE_CLOUD_REGION and GCS_BUCKET_NAME):\n",
        "    from absl import logging\n",
        "    logging.error('Please set all required parameters.')"
      ],
      "outputs": [],
      "metadata": {
        "id": "zPVyBrXrW-vu"
      }
    },
    {
      "cell_type": "markdown",
      "source": [
        "The location of the bucket must be a single region. Also, the bucket needs to be created in a region when [Vertex AI services are available](https://cloud.google.com/vertex-ai/docs/general/locations#available_regions). "
      ],
      "metadata": {
        "id": "CV-BZSvQq7YY"
      }
    },
    {
      "cell_type": "code",
      "execution_count": null,
      "source": [
        "PIPELINE_NAME = 'continuous-adaptation-for-data-changes'\n",
        "\n",
        "# Path to various pipeline artifact.\n",
        "PIPELINE_ROOT = 'gs://{}/pipeline_root/{}'.format(\n",
        "    GCS_BUCKET_NAME, PIPELINE_NAME)\n",
        "\n",
        "# Paths for users' Python module.\n",
        "MODULE_ROOT = 'gs://{}/pipeline_module/{}'.format(\n",
        "    GCS_BUCKET_NAME, PIPELINE_NAME)\n",
        "\n",
        "# Paths for input data.\n",
        "DATA_ROOT = 'gs://flowers-public/tfrecords-jpeg-224x224'\n",
        "\n",
        "# This is the path where your model will be pushed for serving.\n",
        "SERVING_MODEL_DIR = 'gs://{}/serving_model/{}'.format(\n",
        "    GCS_BUCKET_NAME, PIPELINE_NAME)\n",
        "\n",
        "print('PIPELINE_ROOT: {}'.format(PIPELINE_ROOT))"
      ],
      "outputs": [
        {
          "output_type": "stream",
          "name": "stdout",
          "text": [
            "PIPELINE_ROOT: gs://demo-experiments-gde-csp/pipeline_root/two-way-vertex-pipelines5\n"
          ]
        }
      ],
      "metadata": {
        "colab": {
          "base_uri": "https://localhost:8080/"
        },
        "id": "J65KHrt4X-Fu",
        "outputId": "085fe0e1-02fd-47e3-bc6e-ee24ad82b1b2"
      }
    },
    {
      "cell_type": "markdown",
      "source": [
        "## Create training modules"
      ],
      "metadata": {
        "id": "kQVpzyftX0y0"
      }
    },
    {
      "cell_type": "code",
      "execution_count": null,
      "source": [
        "_trainer_densenet_module_file = 'cifar_densenet_trainer.py'"
      ],
      "outputs": [],
      "metadata": {
        "id": "AR5pU65m6nAE"
      }
    },
    {
      "cell_type": "code",
      "execution_count": null,
      "source": [
        "%%writefile {_trainer_densenet_module_file}\n",
        "\n",
        "from typing import List\n",
        "from absl import logging\n",
        "from tensorflow import keras\n",
        "from tfx import v1 as tfx\n",
        "import tensorflow as tf\n",
        "\n",
        "\n",
        "_IMAGE_FEATURES = {\n",
        "    \"image\": tf.io.FixedLenFeature([], tf.string),\n",
        "    \"class\": tf.io.FixedLenFeature([], tf.int64),\n",
        "    \"one_hot_class\": tf.io.VarLenFeature(tf.float32),\n",
        "}\n",
        "\n",
        "_CONCRETE_INPUT = \"numpy_inputs\"\n",
        "_INPUT_SHAPE = (224, 224, 3)\n",
        "_TRAIN_BATCH_SIZE = 64\n",
        "_EVAL_BATCH_SIZE = 64\n",
        "_EPOCHS = 2\n",
        "\n",
        "def _parse_fn(example):\n",
        "    example = tf.io.parse_single_example(example, _IMAGE_FEATURES)\n",
        "    image = tf.image.decode_jpeg(example[\"image\"], channels=3)\n",
        "    class_label = tf.cast(example[\"class\"], tf.int32)\n",
        "    return image, class_label\n",
        "\n",
        "\n",
        "def _input_fn(file_pattern: List[str], batch_size: int) -> tf.data.Dataset:\n",
        "    \"\"\"Generates features and label for training.\n",
        "\n",
        "    Args:\n",
        "        file_pattern: List of paths or patterns of input tfrecord files.\n",
        "        batch_size: representing the number of consecutive elements of returned\n",
        "            dataset to combine in a single batch.\n",
        "\n",
        "    Returns:\n",
        "        A dataset that contains (features, indices) tuple where features is a\n",
        "            dictionary of Tensors, and indices is a single Tensor of label indices.\n",
        "    \"\"\"\n",
        "    logging.info(f\"Reading data from: {file_pattern}\")\n",
        "    tfrecord_filenames = tf.io.gfile.glob(file_pattern[0] + \".gz\")\n",
        "    dataset = tf.data.TFRecordDataset(tfrecord_filenames, compression_type=\"GZIP\")\n",
        "    dataset = dataset.map(_parse_fn).batch(batch_size)\n",
        "    return dataset.repeat()\n",
        "\n",
        "\n",
        "def _make_keras_model() -> tf.keras.Model:\n",
        "    \"\"\"Creates a DenseNet121-based model for classifying flowers data.\n",
        "\n",
        "    Returns:\n",
        "    A Keras Model.\n",
        "    \"\"\"\n",
        "    inputs = keras.Input(shape=_INPUT_SHAPE)\n",
        "    base_model = keras.applications.DenseNet121(\n",
        "        include_top=False, input_shape=_INPUT_SHAPE, pooling=\"avg\"\n",
        "    )\n",
        "    base_model.trainable = False\n",
        "    x = keras.applications.densenet.preprocess_input(inputs)\n",
        "    x = base_model(\n",
        "        x, training=False\n",
        "    )  # Ensures BatchNorm runs in inference model in this model\n",
        "    outputs = keras.layers.Dense(10, activation=\"softmax\")(x)\n",
        "    model = keras.Model(inputs, outputs)\n",
        "\n",
        "    model.compile(\n",
        "        optimizer=keras.optimizers.Adam(),\n",
        "        loss=tf.keras.losses.SparseCategoricalCrossentropy(),\n",
        "        metrics=[keras.metrics.SparseCategoricalAccuracy()],\n",
        "    )\n",
        "\n",
        "    model.summary(print_fn=logging.info)\n",
        "    return model\n",
        "\n",
        "\n",
        "def _preprocess(bytes_input):\n",
        "    decoded = tf.io.decode_jpeg(bytes_input, channels=3)\n",
        "    resized = tf.image.resize(decoded, size=(224, 224))\n",
        "    return resized\n",
        "\n",
        "\n",
        "@tf.function(input_signature=[tf.TensorSpec([None], tf.string)])\n",
        "def preprocess_fn(bytes_inputs):\n",
        "    decoded_images = tf.map_fn(\n",
        "        _preprocess, bytes_inputs, dtype=tf.float32, back_prop=False\n",
        "    )\n",
        "    return {_CONCRETE_INPUT: decoded_images}\n",
        "\n",
        "\n",
        "def _model_exporter(model: tf.keras.Model):\n",
        "    m_call = tf.function(model.call).get_concrete_function(\n",
        "        [\n",
        "            tf.TensorSpec(\n",
        "                shape=[None, 224, 224, 3], dtype=tf.float32, name=_CONCRETE_INPUT\n",
        "            )\n",
        "        ]\n",
        "    )\n",
        "\n",
        "    @tf.function(input_signature=[tf.TensorSpec([None], tf.string)])\n",
        "    def serving_fn(bytes_inputs):\n",
        "        # This function comes from the Computer Vision book from O'Reilly.\n",
        "        labels = tf.constant(\n",
        "            [\"daisy\", \"dandelion\", \"roses\", \"sunflowers\", \"tulips\"], dtype=tf.string\n",
        "        )\n",
        "        images = preprocess_fn(bytes_inputs)\n",
        "\n",
        "        probs = m_call(**images)\n",
        "        indices = tf.argmax(probs, axis=1)\n",
        "        pred_source = tf.gather(params=labels, indices=indices)\n",
        "        pred_confidence = tf.reduce_max(probs, axis=1)\n",
        "        return {\"label\": pred_source, \"confidence\": pred_confidence}\n",
        "\n",
        "    return serving_fn\n",
        "\n",
        "\n",
        "# TFX Trainer will call this function.\n",
        "def run_fn(fn_args: tfx.components.FnArgs):\n",
        "    \"\"\"Train the model based on given args.\n",
        "\n",
        "    Args:\n",
        "        fn_args: Holds args used to train the model as name/value pairs.\n",
        "    \"\"\"\n",
        "    train_dataset = _input_fn(fn_args.train_files, batch_size=_TRAIN_BATCH_SIZE)\n",
        "    eval_dataset = _input_fn(fn_args.eval_files, batch_size=_EVAL_BATCH_SIZE)\n",
        "\n",
        "    model = _make_keras_model()\n",
        "    model.fit(\n",
        "        train_dataset,\n",
        "        steps_per_epoch=fn_args.train_steps,\n",
        "        validation_data=eval_dataset,\n",
        "        validation_steps=fn_args.eval_steps,\n",
        "        epochs=_EPOCHS,\n",
        "    )\n",
        "    _, acc = model.evaluate(eval_dataset, steps=fn_args.eval_steps)\n",
        "    logging.info(f\"Validation accuracy: {round(acc * 100, 2)}%\")\n",
        "    # The result of the training should be saved in `fn_args.serving_model_dir`\n",
        "    # directory.\n",
        "    tf.saved_model.save(\n",
        "        model,\n",
        "        fn_args.serving_model_dir,\n",
        "        signatures={\"serving_default\": _model_exporter(model)},\n",
        "    )\n"
      ],
      "outputs": [
        {
          "output_type": "stream",
          "name": "stdout",
          "text": [
            "Overwriting flower_densenet_trainer.py\n"
          ]
        }
      ],
      "metadata": {
        "colab": {
          "base_uri": "https://localhost:8080/"
        },
        "id": "XqwYrR1GYLvm",
        "outputId": "4f8c480a-a4cd-42cc-9d5c-8d5ae822ae22"
      }
    },
    {
      "cell_type": "code",
      "execution_count": null,
      "source": [
        "!gsutil cp -r *.py {MODULE_ROOT}/\n",
        "!gsutil ls -lh {MODULE_ROOT}/"
      ],
      "outputs": [
        {
          "output_type": "stream",
          "name": "stdout",
          "text": [
            "Copying file://firebase_publisher.py [Content-Type=text/x-python]...\n",
            "Copying file://flower_densenet_trainer.py [Content-Type=text/x-python]...       \n",
            "Copying file://flower_mobilenet_trainer.py [Content-Type=text/x-python]...      \n",
            "Copying file://vertex_deployer.py [Content-Type=text/x-python]...               \n",
            "/ [4 files][ 12.5 KiB/ 12.5 KiB]                                                \n",
            "==> NOTE: You are performing a sequence of gsutil operations that may\n",
            "run significantly faster if you instead use gsutil -m cp ... Please\n",
            "see the -m section under \"gsutil help options\" for further information\n",
            "about when gsutil -m can be advantageous.\n",
            "\n",
            "Copying file://vertex_uploader.py [Content-Type=text/x-python]...\n",
            "/ [5 files][ 13.8 KiB/ 13.8 KiB]                                                \n",
            "Operation completed over 5 objects/13.8 KiB.                                     \n",
            "  3.16 KiB  2021-08-05T16:02:35Z  gs://demo-experiments-gde-csp/pipeline_module/two-way-vertex-pipelines5/firebase_publisher.py\n",
            "  4.53 KiB  2021-08-05T16:02:35Z  gs://demo-experiments-gde-csp/pipeline_module/two-way-vertex-pipelines5/flower_densenet_trainer.py\n",
            "  3.37 KiB  2021-08-05T16:02:35Z  gs://demo-experiments-gde-csp/pipeline_module/two-way-vertex-pipelines5/flower_mobilenet_trainer.py\n",
            "  1.49 KiB  2021-08-05T16:02:35Z  gs://demo-experiments-gde-csp/pipeline_module/two-way-vertex-pipelines5/vertex_deployer.py\n",
            "  1.31 KiB  2021-08-05T16:02:35Z  gs://demo-experiments-gde-csp/pipeline_module/two-way-vertex-pipelines5/vertex_uploader.py\n",
            "TOTAL: 5 objects, 14181 bytes (13.85 KiB)\n"
          ]
        }
      ],
      "metadata": {
        "colab": {
          "base_uri": "https://localhost:8080/"
        },
        "id": "Gp7RTxpMoLe9",
        "outputId": "1233ba34-5b4a-4a85-8386-122c6e9b84f9"
      }
    },
    {
      "cell_type": "markdown",
      "source": [
        "# Pipeline"
      ],
      "metadata": {}
    },
    {
      "cell_type": "code",
      "execution_count": null,
      "source": [
        "# Specify training worker configurations. To minimize costs we can even specify two\n",
        "# different configurations: a beefier machine for the Endpoint model and slightly less\n",
        "# powerful machine for the mobile model.\n",
        "TRAINING_JOB_SPEC = {\n",
        "    'project': GOOGLE_CLOUD_PROJECT,\n",
        "    'worker_pool_specs': [{\n",
        "        'machine_spec': {\n",
        "            'machine_type': 'n1-standard-4',\n",
        "            'accelerator_type': 'NVIDIA_TESLA_K80',\n",
        "            'accelerator_count': 1\n",
        "        },\n",
        "        'replica_count': 1,\n",
        "        'container_spec': {\n",
        "            'image_uri': 'gcr.io/tfx-oss-public/tfx:{}'.format(tfx.__version__),\n",
        "        },\n",
        "    }],\n",
        "}"
      ],
      "outputs": [],
      "metadata": {
        "id": "sEbNM9CeERX2"
      }
    },
    {
      "cell_type": "code",
      "execution_count": null,
      "source": [
        "from datetime import datetime\n",
        "\n",
        "TIMESTAMP = datetime.now().strftime(\"%Y%m%d%H%M%S\")"
      ],
      "outputs": [],
      "metadata": {
        "id": "MzZdpUjypcsT"
      }
    },
    {
      "cell_type": "code",
      "execution_count": null,
      "source": [
        "def _create_pipeline(\n",
        "    pipeline_name: str,\n",
        "    pipeline_root: str,\n",
        "    data_root: str,\n",
        "    densenet_module_file: str,\n",
        "    mobilenet_module_file: str,\n",
        "    serving_model_dir: str,\n",
        "    firebase_crediential_path: str,\n",
        "    firebase_gcs_bucket: str,\n",
        "    project_id: str,\n",
        "    region: str,\n",
        ") -> tfx.dsl.Pipeline:\n",
        "    \"\"\"Creates a three component flowers pipeline with TFX.\"\"\"\n",
        "    # Brings data into the pipeline.\n",
        "    example_gen = tfx.components.ImportExampleGen(input_base=data_root)\n",
        "\n",
        "    # Uses user-provided Python function that trains a model.\n",
        "    densenet_trainer = tfx.extensions.google_cloud_ai_platform.Trainer(\n",
        "        module_file=densenet_module_file,\n",
        "        examples=example_gen.outputs[\"examples\"],\n",
        "        train_args=tfx.proto.TrainArgs(num_steps=52),\n",
        "        eval_args=tfx.proto.EvalArgs(num_steps=5),\n",
        "        custom_config={\n",
        "            tfx.extensions.google_cloud_ai_platform.ENABLE_UCAIP_KEY: True,\n",
        "            tfx.extensions.google_cloud_ai_platform.UCAIP_REGION_KEY: region,\n",
        "            tfx.extensions.google_cloud_ai_platform.TRAINING_ARGS_KEY: TRAINING_JOB_SPEC,\n",
        "            \"use_gpu\": True,\n",
        "        },\n",
        "    ).with_id(\"densenet_trainer\")\n",
        "\n",
        "    # Pushes the model to a filesystem destination.\n",
        "    pushed_model_location = os.path.join(serving_model_dir, \"densenet\")\n",
        "    densnet_pusher = tfx.components.Pusher(\n",
        "        model=densenet_trainer.outputs[\"model\"],\n",
        "        push_destination=tfx.proto.PushDestination(\n",
        "            filesystem=tfx.proto.PushDestination.Filesystem(\n",
        "                base_directory=pushed_model_location\n",
        "            )\n",
        "        ),\n",
        "    ).with_id(\"densnet_pusher\")\n",
        "\n",
        "    # Following components will be included in the pipeline.\n",
        "    components = [\n",
        "        example_gen,\n",
        "        densenet_trainer,\n",
        "        densnet_pusher,\n",
        "    ]\n",
        "\n",
        "    return tfx.dsl.Pipeline(\n",
        "        pipeline_name=pipeline_name, pipeline_root=pipeline_root, components=components\n",
        "    )\n"
      ],
      "outputs": [],
      "metadata": {
        "id": "ln1cvbcfphA9"
      }
    },
    {
      "cell_type": "markdown",
      "source": [
        "## Compile the pipeline"
      ],
      "metadata": {
        "id": "IFdlslfOX54z"
      }
    },
    {
      "cell_type": "code",
      "execution_count": null,
      "source": [
        "PIPELINE_DEFINITION_FILE = PIPELINE_NAME + '_pipeline.json'\n",
        "\n",
        "# Important: We need to pass the custom Docker image URI to the\n",
        "# `KubeflowV2DagRunnerConfig` to take effect.\n",
        "runner = tfx.orchestration.experimental.KubeflowV2DagRunner(\n",
        "    config=tfx.orchestration.experimental.KubeflowV2DagRunnerConfig(default_image=TFX_IMAGE_URI),\n",
        "    output_filename=PIPELINE_DEFINITION_FILE)\n",
        "\n",
        "_ = runner.run(\n",
        "    _create_pipeline(\n",
        "        pipeline_name=PIPELINE_NAME,\n",
        "        pipeline_root=PIPELINE_ROOT,\n",
        "        data_root=DATA_ROOT,\n",
        "        densenet_module_file=os.path.join(MODULE_ROOT, _trainer_densenet_module_file),\n",
        "        project_id=GOOGLE_CLOUD_PROJECT,\n",
        "        region=GOOGLE_CLOUD_REGION\n",
        "    )\n",
        ")"
      ],
      "outputs": [],
      "metadata": {
        "id": "-AY5Z2tbsbwE"
      }
    },
    {
      "cell_type": "markdown",
      "source": [
        "## Submit the pipeline for execution to Vertex AI\n",
        "\n",
        "Generally, it's a good idea to first do a local run of the end-to-end pipeline before submitting it an online orchestrator. We can use `tfx.orchestration.LocalDagRunner()` for that but for the purposes of this notebook we won't be doing that. "
      ],
      "metadata": {
        "id": "ocHBJaR_X7x2"
      }
    },
    {
      "cell_type": "code",
      "execution_count": null,
      "source": [
        "from kfp.v2.google import client\n",
        "\n",
        "pipelines_client = client.AIPlatformClient(\n",
        "    project_id=GOOGLE_CLOUD_PROJECT,\n",
        "    region=GOOGLE_CLOUD_REGION,\n",
        ")\n",
        "\n",
        "_ = pipelines_client.create_run_from_job_spec(PIPELINE_DEFINITION_FILE, enable_caching=True)"
      ],
      "outputs": [
        {
          "output_type": "display_data",
          "data": {
            "text/html": [
              "See the Pipeline job <a href=\"https://console.cloud.google.com/vertex-ai/locations/us-central1/pipelines/runs/two-way-vertex-pipelines5-20210805160321?project=gcp-ml-172005\" target=\"_blank\" >here</a>."
            ],
            "text/plain": [
              "<IPython.core.display.HTML object>"
            ]
          },
          "metadata": {
            "tags": []
          }
        }
      ],
      "metadata": {
        "colab": {
          "base_uri": "https://localhost:8080/",
          "height": 51
        },
        "id": "3elrtDOus83z",
        "outputId": "7eb13f73-602c-44f0-8385-ac8c097905ea"
      }
    },
    {
      "cell_type": "markdown",
      "source": [
        "## Making predictions with the Endpoint\n",
        "\n",
        "Some code is used from [here](https://github.com/GoogleCloudPlatform/ai-platform-samples/blob/master/ai-platform-unified/notebooks/unofficial/gapic/custom/showcase_custom_image_classification_online.ipynb). "
      ],
      "metadata": {
        "id": "e-757SqrYhf3"
      }
    },
    {
      "cell_type": "markdown",
      "source": [
        "### Imports and initialization"
      ],
      "metadata": {
        "id": "bclxNBlJ-LNu"
      }
    },
    {
      "cell_type": "code",
      "execution_count": null,
      "source": [
        "from google.cloud.aiplatform import gapic as aip\n",
        "from google.protobuf import json_format\n",
        "from google.protobuf.json_format import MessageToJson, ParseDict\n",
        "from google.protobuf.struct_pb2 import Struct, Value\n",
        "\n",
        "import base64"
      ],
      "outputs": [],
      "metadata": {
        "id": "6XWcRgv98gGr"
      }
    },
    {
      "cell_type": "code",
      "execution_count": null,
      "source": [
        "vertex_ai.init(project=GOOGLE_CLOUD_PROJECT, location=GOOGLE_CLOUD_REGION)"
      ],
      "outputs": [],
      "metadata": {
        "id": "zSAVSxSC9EOC"
      }
    },
    {
      "cell_type": "markdown",
      "source": [
        "### Programatically retrieve the latest Endpoint macthing a name"
      ],
      "metadata": {
        "id": "zpZWBSs6-Nfz"
      }
    },
    {
      "cell_type": "code",
      "execution_count": null,
      "source": [
        "model_display_name = \"...\"\n",
        "deployed_model_display_name = model_display_name + \"_\" + TIMESTAMP\n",
        "\n",
        "endpoint = vertex_ai.Endpoint.list(\n",
        "    filter=f'display_name={deployed_model_display_name}',\n",
        "    order_by=\"update_time\"\n",
        ")[-1]\n",
        "\n",
        "endpoint_id = endpoint.name\n",
        "endpoint_id"
      ],
      "outputs": [
        {
          "output_type": "execute_result",
          "data": {
            "text/plain": [
              "'3904532915999997952'"
            ]
          },
          "metadata": {
            "tags": []
          },
          "execution_count": 19
        }
      ],
      "metadata": {
        "colab": {
          "base_uri": "https://localhost:8080/",
          "height": 35
        },
        "id": "ZXKmceKG8qYW",
        "outputId": "2c65421c-0211-43a2-fa12-cd69dc31cea4"
      }
    },
    {
      "cell_type": "markdown",
      "source": [
        "### Sample data"
      ],
      "metadata": {
        "id": "uS9x3SNu-R5l"
      }
    },
    {
      "cell_type": "code",
      "execution_count": null,
      "source": [
        "image_path = tf.keras.utils.get_file(\"image.jpg\", \n",
        "                                            \"https://m.economictimes.com/thumb/msid-71307470,width-1201,height-900,resizemode-4,imgsize-1040796/roses.jpg\")\n",
        "bytes = tf.io.read_file(image_path)\n",
        "b64str = base64.b64encode(bytes.numpy()).decode(\"utf-8\")"
      ],
      "outputs": [
        {
          "output_type": "stream",
          "name": "stdout",
          "text": [
            "Downloading data from https://m.economictimes.com/thumb/msid-71307470,width-1201,height-900,resizemode-4,imgsize-1040796/roses.jpg\n",
            "229376/221658 [===============================]- ETA:  - ETA:  - 0s 0us/step\n"
          ]
        }
      ],
      "metadata": {
        "colab": {
          "base_uri": "https://localhost:8080/"
        },
        "id": "wJeyhzeL8-2C",
        "outputId": "ace8e9b8-976b-4de4-e55b-728ff7012730"
      }
    },
    {
      "cell_type": "markdown",
      "source": [
        "### Investigating the input key"
      ],
      "metadata": {
        "id": "Jmhj5-FU-TmQ"
      }
    },
    {
      "cell_type": "code",
      "execution_count": null,
      "source": [
        "pushed_model_location = os.path.join(SERVING_MODEL_DIR, \"densenet\")\n",
        "model_path_to_deploy = os.path.join(\n",
        "    pushed_model_location, tf.io.gfile.listdir(pushed_model_location)[-1]\n",
        ")\n",
        "\n",
        "loaded = tf.saved_model.load(model_path_to_deploy)\n",
        "serving_input = list(\n",
        "    loaded.signatures[\"serving_default\"].structured_input_signature[1].keys()\n",
        ")[0]\n",
        "print(\"Serving function input:\", serving_input)"
      ],
      "outputs": [
        {
          "output_type": "stream",
          "name": "stdout",
          "text": [
            "Serving function input: bytes_inputs\n"
          ]
        }
      ],
      "metadata": {
        "colab": {
          "base_uri": "https://localhost:8080/"
        },
        "id": "2H6M-Usq9cUr",
        "outputId": "e5412f05-51c9-4bb6-c8b7-07b550784a74"
      }
    },
    {
      "cell_type": "markdown",
      "source": [
        "### Make predictions"
      ],
      "metadata": {
        "id": "C8gnuJf1-YkC"
      }
    },
    {
      "cell_type": "code",
      "execution_count": null,
      "source": [
        "def predict_image(image, endpoint, parameters_dict):\n",
        "    # The format of each instance should conform to the deployed model's prediction input schema.\n",
        "    instances_list = [{serving_input: {\"b64\": image}}]\n",
        "    instances = [json_format.ParseDict(s, Value()) for s in instances_list]\n",
        "\n",
        "    endpoint = vertex_ai.Endpoint(endpoint)\n",
        "    print(endpoint.predict(instances=instances))\n",
        "\n",
        "predict_image(b64str, endpoint_id, None)"
      ],
      "outputs": [
        {
          "output_type": "stream",
          "name": "stdout",
          "text": [
            "Prediction(predictions=[{'confidence': 0.669201732, 'label': 'roses'}], deployed_model_id='7558456345704267776', explanations=None)\n"
          ]
        }
      ],
      "metadata": {
        "colab": {
          "base_uri": "https://localhost:8080/"
        },
        "id": "UcB7HZat9QGI",
        "outputId": "ceafc8e4-e93f-4607-c39c-160f8356520d"
      }
    }
  ]
}