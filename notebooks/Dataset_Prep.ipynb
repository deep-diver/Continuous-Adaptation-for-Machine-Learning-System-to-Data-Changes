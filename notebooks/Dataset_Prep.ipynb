{
  "nbformat": 4,
  "nbformat_minor": 2,
  "metadata": {
    "colab": {
      "name": "Dataset_Prep",
      "provenance": []
    },
    "kernelspec": {
      "display_name": "Python 3",
      "name": "python3"
    }
  },
  "cells": [
    {
      "cell_type": "markdown",
      "source": [
        "In this notebook, we will use the [CIFAR10].\n",
        "\n",
        "To proceed with the rest of the notebook you'd need a billing-enabled GCP account. "
      ],
      "metadata": {
        "id": "zyOcSJS29gkH"
      }
    },
    {
      "cell_type": "markdown",
      "source": [
        "## Setup"
      ],
      "metadata": {
        "id": "TRIz8jbQ-MUb"
      }
    },
    {
      "cell_type": "code",
      "execution_count": null,
      "source": [
        "!gcloud init"
      ],
      "outputs": [],
      "metadata": {
        "id": "lIYdn1woOS1n"
      }
    },
    {
      "cell_type": "markdown",
      "source": [
        "## Download the original dataset and copy over to a GCS Bucket"
      ],
      "metadata": {
        "id": "bG-NwjjB-ioI"
      }
    },
    {
      "cell_type": "code",
      "execution_count": null,
      "source": [
        "import tensorflow_datasets as tfds\n",
        "\n",
        "# Generate TFRecords with TFDS\n",
        "builder = tfds.builder(\"cifar10\")\n",
        "builder.download_and_prepare()"
      ],
      "outputs": [],
      "metadata": {
        "id": "dWUoW87xtuQ8"
      }
    },
    {
      "cell_type": "markdown",
      "source": [
        "***If you have a spare bucket, then you can use that for this purpose.*** "
      ],
      "metadata": {
        "id": "U7nDmdxY-rFr"
      }
    },
    {
      "cell_type": "code",
      "execution_count": null,
      "source": [
        "#@title GCS\n",
        "#@markdown You should change these values as per your preferences. The copy operation can take ~5 minutes. \n",
        "BUCKET_PATH = \"gs://cifar10-experimental\" #@param {type:\"string\"}\n",
        "REGION = \"us-central1\" #@param {type:\"string\"}\n",
        "\n",
        "!gsutil mb -l {REGION} {BUCKET_PATH}\n",
        "!gsutil -m cp -r builder.data_dir {BUCKET_PATH}"
      ],
      "outputs": [],
      "metadata": {
        "id": "eqldz8Jkz8se"
      }
    },
    {
      "cell_type": "markdown",
      "source": [
        "Verify if the files were copied over."
      ],
      "metadata": {
        "id": "UX7Gw2_h-4Pk"
      }
    },
    {
      "cell_type": "code",
      "execution_count": null,
      "source": [
        "!gsutil ls {BUCKET_PATH}/"
      ],
      "outputs": [
        {
          "output_type": "stream",
          "name": "stdout",
          "text": [
            "gs://flowers-experimental/flower_photos/LICENSE.txt\n",
            "gs://flowers-experimental/flower_photos/daisy/\n",
            "gs://flowers-experimental/flower_photos/dandelion/\n",
            "gs://flowers-experimental/flower_photos/roses/\n",
            "gs://flowers-experimental/flower_photos/sunflowers/\n",
            "gs://flowers-experimental/flower_photos/tulips/\n"
          ]
        }
      ],
      "metadata": {
        "colab": {
          "base_uri": "https://localhost:8080/"
        },
        "id": "KNfP-pbowVkU",
        "outputId": "2ae0abcb-2ee8-4d22-af6b-16b6bc29c824"
      }
    }
  ]
}